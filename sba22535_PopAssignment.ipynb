{
 "cells": [
  {
   "cell_type": "markdown",
   "id": "d8f35daf",
   "metadata": {},
   "source": [
    "<h1>Business Understanding</h1>\n",
    "    <br>\n",
    "    In 2020 the world faced a joint objective to mitigate the risks associated with covid-19. In the republic of Ireland prior to the pandemic, the psychiatric care sector was already struggling to provide the right conditions to deliver care and to recruit and retain staff (Gourret Baumgart J, et.al, 2021) Research from Kelly, B.d 2021 and Easterwood, E 2020, demonstrate the lasting consequences on a populations mental health from previous outbreaks around the world. In an already struggling sector, the psychiatric services faced multiple bed closures as a result of outbreaks. \n",
    "    \n",
    "    The following analysis aims to extract insights on the trends from psychiatric services based in the republic of Ireland from 2019-2022. The purpose of the work is to: <br> \n",
    "   <ul>\n",
    "    <li> Identify the most vulnerable population based on:\n",
    "        <ul>\n",
    "            <li>Gender</li>\n",
    "            <li>Diagnosis</li>\n",
    "            <li>Economic Status</li>\n",
    "            <li>hospital type</li>\n",
    "        </ul> before during and after the Covid-19 Pandemic</li>\n",
    "</ul>\n",
    "    This information can be used in the development of strategies in support of prevention and mitigation during times of global crisis.\n",
    "    Association rules will be implemented to discover the probabilities of each disorder for each hospital to aid in the development of services."
   ]
  },
  {
   "cell_type": "markdown",
   "id": "da7bb607",
   "metadata": {},
   "source": [
    "<h1> Data Understanding <h1>"
   ]
  },
  {
   "cell_type": "code",
   "execution_count": 27,
   "id": "a9f2b31f",
   "metadata": {},
   "outputs": [],
   "source": [
    "import pandas as pd\n",
    "import matplotlib.pyplot as plt\n",
    "import numpy as np\n",
    "import re\n",
    "import seaborn as sns\n",
    "import plotly.express as px\n",
    "\n",
    "import sklearn.feature_extraction.text as sk_txt\n",
    "from sklearn.model_selection import train_test_split\n",
    "from sklearn.feature_extraction.text import CountVectorizer\n",
    "from sklearn.naive_bayes import MultinomialNB\n",
    "from sklearn.metrics import confusion_matrix\n",
    "from sklearn.metrics import classification_report\n",
    "\n",
    "from wordcloud import WordCloud\n",
    "\n",
    "\n",
    "from statsmodels.graphics.tsaplots import plot_acf, plot_pacf\n",
    "import statsmodels.tsa.api as sm\n",
    "from statsmodels.tsa.stattools import adfuller\n",
    "from statsmodels.tsa.arima.model import ARIMA\n",
    "from statsmodels.tsa.statespace.sarimax import SARIMAX\n",
    "from statsmodels.tsa.holtwinters import ExponentialSmoothing "
   ]
  },
  {
   "cell_type": "code",
   "execution_count": 10,
   "id": "00670e0e",
   "metadata": {},
   "outputs": [],
   "source": [
    "sex=pd.read_csv(\"sex.csv\")\n",
    "socioeco=pd.read_csv(\"Economic.csv\")\n",
    "marital=pd.read_csv(\"marital.csv\")\n",
    "diag=pd.read_csv(\"Diagnostic.csv\")"
   ]
  },
  {
   "cell_type": "markdown",
   "id": "e5aaefa6",
   "metadata": {},
   "source": [
    "<h2> Data Exploration of psychiatric Inpatients by Gender <h2>"
   ]
  },
  {
   "cell_type": "code",
   "execution_count": 11,
   "id": "19b68a67",
   "metadata": {
    "scrolled": true
   },
   "outputs": [
    {
     "data": {
      "text/html": [
       "<div>\n",
       "<style scoped>\n",
       "    .dataframe tbody tr th:only-of-type {\n",
       "        vertical-align: middle;\n",
       "    }\n",
       "\n",
       "    .dataframe tbody tr th {\n",
       "        vertical-align: top;\n",
       "    }\n",
       "\n",
       "    .dataframe thead th {\n",
       "        text-align: right;\n",
       "    }\n",
       "</style>\n",
       "<table border=\"1\" class=\"dataframe\">\n",
       "  <thead>\n",
       "    <tr style=\"text-align: right;\">\n",
       "      <th></th>\n",
       "      <th>Statistic Label</th>\n",
       "      <th>Year</th>\n",
       "      <th>Sex</th>\n",
       "      <th>Type of Hospital</th>\n",
       "      <th>UNIT</th>\n",
       "      <th>VALUE</th>\n",
       "    </tr>\n",
       "  </thead>\n",
       "  <tbody>\n",
       "    <tr>\n",
       "      <th>0</th>\n",
       "      <td>Psychiatric In-patients (Number)</td>\n",
       "      <td>2013</td>\n",
       "      <td>Both sexes</td>\n",
       "      <td>Central Mental Hospital, Dublin</td>\n",
       "      <td>Number</td>\n",
       "      <td>93.0</td>\n",
       "    </tr>\n",
       "    <tr>\n",
       "      <th>1</th>\n",
       "      <td>Psychiatric In-patients (Number)</td>\n",
       "      <td>2013</td>\n",
       "      <td>Both sexes</td>\n",
       "      <td>St Joseph's Intellectual Disability Service</td>\n",
       "      <td>Number</td>\n",
       "      <td>130.0</td>\n",
       "    </tr>\n",
       "    <tr>\n",
       "      <th>2</th>\n",
       "      <td>Psychiatric In-patients (Number)</td>\n",
       "      <td>2013</td>\n",
       "      <td>Both sexes</td>\n",
       "      <td>Carraig Mór, Cork</td>\n",
       "      <td>Number</td>\n",
       "      <td>36.0</td>\n",
       "    </tr>\n",
       "    <tr>\n",
       "      <th>3</th>\n",
       "      <td>Psychiatric In-patients (Number)</td>\n",
       "      <td>2013</td>\n",
       "      <td>Both sexes</td>\n",
       "      <td>Total psychiatric hospitals</td>\n",
       "      <td>Number</td>\n",
       "      <td>2401.0</td>\n",
       "    </tr>\n",
       "    <tr>\n",
       "      <th>4</th>\n",
       "      <td>Psychiatric In-patients (Number)</td>\n",
       "      <td>2013</td>\n",
       "      <td>Both sexes</td>\n",
       "      <td>General hospital psychiatric units</td>\n",
       "      <td>Number</td>\n",
       "      <td>718.0</td>\n",
       "    </tr>\n",
       "  </tbody>\n",
       "</table>\n",
       "</div>"
      ],
      "text/plain": [
       "                    Statistic Label  Year         Sex   \n",
       "0  Psychiatric In-patients (Number)  2013  Both sexes  \\\n",
       "1  Psychiatric In-patients (Number)  2013  Both sexes   \n",
       "2  Psychiatric In-patients (Number)  2013  Both sexes   \n",
       "3  Psychiatric In-patients (Number)  2013  Both sexes   \n",
       "4  Psychiatric In-patients (Number)  2013  Both sexes   \n",
       "\n",
       "                              Type of Hospital    UNIT   VALUE  \n",
       "0              Central Mental Hospital, Dublin  Number    93.0  \n",
       "1  St Joseph's Intellectual Disability Service  Number   130.0  \n",
       "2                            Carraig Mór, Cork  Number    36.0  \n",
       "3                  Total psychiatric hospitals  Number  2401.0  \n",
       "4           General hospital psychiatric units  Number   718.0  "
      ]
     },
     "execution_count": 11,
     "metadata": {},
     "output_type": "execute_result"
    }
   ],
   "source": [
    "sex.head()"
   ]
  },
  {
   "cell_type": "code",
   "execution_count": 12,
   "id": "e40dfef0",
   "metadata": {},
   "outputs": [
    {
     "data": {
      "text/plain": [
       "Statistic Label      object\n",
       "Year                  int64\n",
       "Sex                  object\n",
       "Type of Hospital     object\n",
       "UNIT                 object\n",
       "VALUE               float64\n",
       "dtype: object"
      ]
     },
     "execution_count": 12,
     "metadata": {},
     "output_type": "execute_result"
    }
   ],
   "source": [
    "sex.dtypes"
   ]
  },
  {
   "cell_type": "markdown",
   "id": "3b6c1730",
   "metadata": {},
   "source": [
    "Here I can drop unecessary rows to simplify the dataframe. I can see data types are correct so I can now use correct syntax to remove unwanted data. This means dropping rows with 'totals'i.e Both sexes and Total hospitals,to avoid duplicating results. I will then remove rows with UNIT data being '%' to remove data which contributes to duplicates and then drop the column statistic label and unit %."
   ]
  },
  {
   "cell_type": "code",
   "execution_count": 13,
   "id": "fbb98c0d",
   "metadata": {},
   "outputs": [],
   "source": [
    "sex = sex[~sex['Sex'].str.contains('Both sexes')]\n",
    "sex = sex[~sex['Type of Hospital'].str.contains('Total psychiatric hospitals')]\n",
    "sex = sex[~sex['UNIT'].str.contains('%')]\n",
    "sex.drop('Statistic Label', axis=1, inplace=True)"
   ]
  },
  {
   "cell_type": "code",
   "execution_count": 14,
   "id": "05632531",
   "metadata": {},
   "outputs": [],
   "source": [
    "sex.drop('UNIT', axis=1, inplace=True)"
   ]
  },
  {
   "cell_type": "markdown",
   "id": "326aadc9",
   "metadata": {},
   "source": [
    "I can ensure the code worked succesfuly by visually inspecting the head and the unique values of the columns."
   ]
  },
  {
   "cell_type": "code",
   "execution_count": 15,
   "id": "4810d605",
   "metadata": {
    "scrolled": false
   },
   "outputs": [
    {
     "data": {
      "text/html": [
       "<div>\n",
       "<style scoped>\n",
       "    .dataframe tbody tr th:only-of-type {\n",
       "        vertical-align: middle;\n",
       "    }\n",
       "\n",
       "    .dataframe tbody tr th {\n",
       "        vertical-align: top;\n",
       "    }\n",
       "\n",
       "    .dataframe thead th {\n",
       "        text-align: right;\n",
       "    }\n",
       "</style>\n",
       "<table border=\"1\" class=\"dataframe\">\n",
       "  <thead>\n",
       "    <tr style=\"text-align: right;\">\n",
       "      <th></th>\n",
       "      <th>Year</th>\n",
       "      <th>Sex</th>\n",
       "      <th>Type of Hospital</th>\n",
       "      <th>VALUE</th>\n",
       "    </tr>\n",
       "  </thead>\n",
       "  <tbody>\n",
       "    <tr>\n",
       "      <th>7</th>\n",
       "      <td>2013</td>\n",
       "      <td>Male</td>\n",
       "      <td>Central Mental Hospital, Dublin</td>\n",
       "      <td>84.0</td>\n",
       "    </tr>\n",
       "    <tr>\n",
       "      <th>8</th>\n",
       "      <td>2013</td>\n",
       "      <td>Male</td>\n",
       "      <td>St Joseph's Intellectual Disability Service</td>\n",
       "      <td>88.0</td>\n",
       "    </tr>\n",
       "    <tr>\n",
       "      <th>9</th>\n",
       "      <td>2013</td>\n",
       "      <td>Male</td>\n",
       "      <td>Carraig Mór, Cork</td>\n",
       "      <td>25.0</td>\n",
       "    </tr>\n",
       "    <tr>\n",
       "      <th>11</th>\n",
       "      <td>2013</td>\n",
       "      <td>Male</td>\n",
       "      <td>General hospital psychiatric units</td>\n",
       "      <td>380.0</td>\n",
       "    </tr>\n",
       "    <tr>\n",
       "      <th>12</th>\n",
       "      <td>2013</td>\n",
       "      <td>Male</td>\n",
       "      <td>Psychiatric hospitals/continuing care units</td>\n",
       "      <td>513.0</td>\n",
       "    </tr>\n",
       "  </tbody>\n",
       "</table>\n",
       "</div>"
      ],
      "text/plain": [
       "    Year   Sex                             Type of Hospital  VALUE\n",
       "7   2013  Male              Central Mental Hospital, Dublin   84.0\n",
       "8   2013  Male  St Joseph's Intellectual Disability Service   88.0\n",
       "9   2013  Male                            Carraig Mór, Cork   25.0\n",
       "11  2013  Male           General hospital psychiatric units  380.0\n",
       "12  2013  Male  Psychiatric hospitals/continuing care units  513.0"
      ]
     },
     "execution_count": 15,
     "metadata": {},
     "output_type": "execute_result"
    }
   ],
   "source": [
    "sex.head()"
   ]
  },
  {
   "cell_type": "markdown",
   "id": "e0182dce",
   "metadata": {},
   "source": [
    "Columns have been dropped"
   ]
  },
  {
   "cell_type": "code",
   "execution_count": 17,
   "id": "37e0db45",
   "metadata": {
    "scrolled": true
   },
   "outputs": [
    {
     "data": {
      "text/plain": [
       "array(['Male', 'Female'], dtype=object)"
      ]
     },
     "execution_count": 17,
     "metadata": {},
     "output_type": "execute_result"
    }
   ],
   "source": [
    "sex['Sex'].unique()"
   ]
  },
  {
   "cell_type": "code",
   "execution_count": 18,
   "id": "78e14c71",
   "metadata": {
    "scrolled": true
   },
   "outputs": [
    {
     "data": {
      "text/plain": [
       "array(['Central Mental Hospital, Dublin',\n",
       "       \"St Joseph's Intellectual Disability Service\", 'Carraig Mór, Cork',\n",
       "       'General hospital psychiatric units',\n",
       "       'Psychiatric hospitals/continuing care units', 'Private hospitals'],\n",
       "      dtype=object)"
      ]
     },
     "execution_count": 18,
     "metadata": {},
     "output_type": "execute_result"
    }
   ],
   "source": [
    "sex['Type of Hospital'].unique()"
   ]
  },
  {
   "cell_type": "markdown",
   "id": "4faf6501",
   "metadata": {},
   "source": [
    "Above I have confirmed the removals."
   ]
  },
  {
   "cell_type": "code",
   "execution_count": 7,
   "id": "5a6ad67d",
   "metadata": {
    "scrolled": false
   },
   "outputs": [
    {
     "data": {
      "text/html": [
       "<div>\n",
       "<style scoped>\n",
       "    .dataframe tbody tr th:only-of-type {\n",
       "        vertical-align: middle;\n",
       "    }\n",
       "\n",
       "    .dataframe tbody tr th {\n",
       "        vertical-align: top;\n",
       "    }\n",
       "\n",
       "    .dataframe thead th {\n",
       "        text-align: right;\n",
       "    }\n",
       "</style>\n",
       "<table border=\"1\" class=\"dataframe\">\n",
       "  <thead>\n",
       "    <tr style=\"text-align: right;\">\n",
       "      <th></th>\n",
       "      <th>Year</th>\n",
       "      <th>VALUE</th>\n",
       "    </tr>\n",
       "  </thead>\n",
       "  <tbody>\n",
       "    <tr>\n",
       "      <th>count</th>\n",
       "      <td>144.000000</td>\n",
       "      <td>144.000000</td>\n",
       "    </tr>\n",
       "    <tr>\n",
       "      <th>mean</th>\n",
       "      <td>2018.500000</td>\n",
       "      <td>113.379167</td>\n",
       "    </tr>\n",
       "    <tr>\n",
       "      <th>std</th>\n",
       "      <td>3.106501</td>\n",
       "      <td>127.933075</td>\n",
       "    </tr>\n",
       "    <tr>\n",
       "      <th>min</th>\n",
       "      <td>2013.000000</td>\n",
       "      <td>1.000000</td>\n",
       "    </tr>\n",
       "    <tr>\n",
       "      <th>25%</th>\n",
       "      <td>2016.000000</td>\n",
       "      <td>33.050000</td>\n",
       "    </tr>\n",
       "    <tr>\n",
       "      <th>50%</th>\n",
       "      <td>2019.500000</td>\n",
       "      <td>55.000000</td>\n",
       "    </tr>\n",
       "    <tr>\n",
       "      <th>75%</th>\n",
       "      <td>2021.000000</td>\n",
       "      <td>114.500000</td>\n",
       "    </tr>\n",
       "    <tr>\n",
       "      <th>max</th>\n",
       "      <td>2022.000000</td>\n",
       "      <td>513.000000</td>\n",
       "    </tr>\n",
       "  </tbody>\n",
       "</table>\n",
       "</div>"
      ],
      "text/plain": [
       "              Year       VALUE\n",
       "count   144.000000  144.000000\n",
       "mean   2018.500000  113.379167\n",
       "std       3.106501  127.933075\n",
       "min    2013.000000    1.000000\n",
       "25%    2016.000000   33.050000\n",
       "50%    2019.500000   55.000000\n",
       "75%    2021.000000  114.500000\n",
       "max    2022.000000  513.000000"
      ]
     },
     "execution_count": 7,
     "metadata": {},
     "output_type": "execute_result"
    }
   ],
   "source": [
    "sex.describe()"
   ]
  },
  {
   "cell_type": "code",
   "execution_count": 19,
   "id": "a2f15ac9",
   "metadata": {},
   "outputs": [
    {
     "data": {
      "text/plain": [
       "array([2013, 2016, 2019, 2020, 2021, 2022], dtype=int64)"
      ]
     },
     "execution_count": 19,
     "metadata": {},
     "output_type": "execute_result"
    }
   ],
   "source": [
    "sex['Year'].unique()"
   ]
  },
  {
   "cell_type": "markdown",
   "id": "3739e0eb",
   "metadata": {},
   "source": [
    "A limitation to the dataset are the timesteps between the years. If analysing yearly totals, I cannot rely on the data pre 2019, as it occurs in yearly time steps of 3 as opposed to yearly. This makes a great impact when making inferences about the population from one year to the other thus will not be included in the next visualisation."
   ]
  },
  {
   "cell_type": "markdown",
   "id": "2a7d94db",
   "metadata": {},
   "source": [
    "<h2> Visualising stratified distribution of male and female inpatients for the years 2019 to 2022 <h2?"
   ]
  },
  {
   "cell_type": "markdown",
   "id": "7f63a58c",
   "metadata": {},
   "source": [
    "I will need to abbreviate the hospital names in order to ensure there visibility in the chart. \n",
    "<ol>\n",
    "    <li>'Central Mental Hospital, Dublin': CMH_Dub,</li>\n",
    "    <li> \"St Joseph's Intellectual Disability Service\": St.Josephs </li>\n",
    "    <li>'Carraig Mór, Cork': Carraig Mór</li>\n",
    "    <li> 'General hospital psychiatric units': GHPU </li>\n",
    "    <li> 'Psychiatric hospitals/continuing care units': PH/CCU</li> \n",
    "    <li>'Private hospitals': Private </li>\n",
    "      </ol>"
   ]
  },
  {
   "cell_type": "code",
   "execution_count": 68,
   "id": "2ce67cd1",
   "metadata": {},
   "outputs": [
    {
     "data": {
      "application/vnd.plotly.v1+json": {
       "config": {
        "plotlyServerURL": "https://plot.ly"
       },
       "data": [
        {
         "alignmentgroup": "True",
         "hovertemplate": "Sex=Male<br>Year=%{x}<br>Number of Patients=%{y}<extra></extra>",
         "legendgroup": "Male",
         "marker": {
          "color": "#202A44",
          "pattern": {
           "shape": ""
          }
         },
         "name": "Male",
         "offsetgroup": "Male",
         "orientation": "v",
         "showlegend": true,
         "textposition": "auto",
         "type": "bar",
         "x": [
          2019,
          2019,
          2019,
          2019,
          2019,
          2019,
          2020,
          2020,
          2020,
          2020,
          2020,
          2020,
          2021,
          2021,
          2021,
          2021,
          2021,
          2021,
          2022,
          2022,
          2022,
          2022,
          2022,
          2022
         ],
         "xaxis": "x",
         "y": [
          92,
          54,
          11,
          398,
          427,
          282,
          92,
          51,
          6,
          333,
          337,
          182,
          88,
          46,
          4,
          378,
          318,
          198,
          88,
          41,
          3,
          404,
          315,
          205
         ],
         "yaxis": "y"
        },
        {
         "alignmentgroup": "True",
         "hovertemplate": "Sex=Female<br>Year=%{x}<br>Number of Patients=%{y}<extra></extra>",
         "legendgroup": "Female",
         "marker": {
          "color": "#997b84",
          "pattern": {
           "shape": ""
          }
         },
         "name": "Female",
         "offsetgroup": "Female",
         "orientation": "v",
         "showlegend": true,
         "textposition": "auto",
         "type": "bar",
         "x": [
          2019,
          2019,
          2019,
          2019,
          2019,
          2019,
          2020,
          2020,
          2020,
          2020,
          2020,
          2020,
          2021,
          2021,
          2021,
          2021,
          2021,
          2021,
          2022,
          2022,
          2022,
          2022,
          2022,
          2022
         ],
         "xaxis": "x",
         "y": [
          11,
          22,
          4,
          401,
          262,
          344,
          10,
          19,
          4,
          295,
          230,
          267,
          10,
          18,
          2,
          333,
          234,
          242,
          10,
          15,
          1,
          340,
          240,
          251
         ],
         "yaxis": "y"
        }
       ],
       "layout": {
        "barmode": "group",
        "legend": {
         "title": {
          "text": "Sex"
         },
         "tracegroupgap": 0
        },
        "paper_bgcolor": "rgba(0, 0, 0, 0)",
        "plot_bgcolor": "rgba(0, 0, 0, 0)",
        "template": {
         "data": {
          "bar": [
           {
            "error_x": {
             "color": "#2a3f5f"
            },
            "error_y": {
             "color": "#2a3f5f"
            },
            "marker": {
             "line": {
              "color": "#E5ECF6",
              "width": 0.5
             },
             "pattern": {
              "fillmode": "overlay",
              "size": 10,
              "solidity": 0.2
             }
            },
            "type": "bar"
           }
          ],
          "barpolar": [
           {
            "marker": {
             "line": {
              "color": "#E5ECF6",
              "width": 0.5
             },
             "pattern": {
              "fillmode": "overlay",
              "size": 10,
              "solidity": 0.2
             }
            },
            "type": "barpolar"
           }
          ],
          "carpet": [
           {
            "aaxis": {
             "endlinecolor": "#2a3f5f",
             "gridcolor": "white",
             "linecolor": "white",
             "minorgridcolor": "white",
             "startlinecolor": "#2a3f5f"
            },
            "baxis": {
             "endlinecolor": "#2a3f5f",
             "gridcolor": "white",
             "linecolor": "white",
             "minorgridcolor": "white",
             "startlinecolor": "#2a3f5f"
            },
            "type": "carpet"
           }
          ],
          "choropleth": [
           {
            "colorbar": {
             "outlinewidth": 0,
             "ticks": ""
            },
            "type": "choropleth"
           }
          ],
          "contour": [
           {
            "colorbar": {
             "outlinewidth": 0,
             "ticks": ""
            },
            "colorscale": [
             [
              0,
              "#0d0887"
             ],
             [
              0.1111111111111111,
              "#46039f"
             ],
             [
              0.2222222222222222,
              "#7201a8"
             ],
             [
              0.3333333333333333,
              "#9c179e"
             ],
             [
              0.4444444444444444,
              "#bd3786"
             ],
             [
              0.5555555555555556,
              "#d8576b"
             ],
             [
              0.6666666666666666,
              "#ed7953"
             ],
             [
              0.7777777777777778,
              "#fb9f3a"
             ],
             [
              0.8888888888888888,
              "#fdca26"
             ],
             [
              1,
              "#f0f921"
             ]
            ],
            "type": "contour"
           }
          ],
          "contourcarpet": [
           {
            "colorbar": {
             "outlinewidth": 0,
             "ticks": ""
            },
            "type": "contourcarpet"
           }
          ],
          "heatmap": [
           {
            "colorbar": {
             "outlinewidth": 0,
             "ticks": ""
            },
            "colorscale": [
             [
              0,
              "#0d0887"
             ],
             [
              0.1111111111111111,
              "#46039f"
             ],
             [
              0.2222222222222222,
              "#7201a8"
             ],
             [
              0.3333333333333333,
              "#9c179e"
             ],
             [
              0.4444444444444444,
              "#bd3786"
             ],
             [
              0.5555555555555556,
              "#d8576b"
             ],
             [
              0.6666666666666666,
              "#ed7953"
             ],
             [
              0.7777777777777778,
              "#fb9f3a"
             ],
             [
              0.8888888888888888,
              "#fdca26"
             ],
             [
              1,
              "#f0f921"
             ]
            ],
            "type": "heatmap"
           }
          ],
          "heatmapgl": [
           {
            "colorbar": {
             "outlinewidth": 0,
             "ticks": ""
            },
            "colorscale": [
             [
              0,
              "#0d0887"
             ],
             [
              0.1111111111111111,
              "#46039f"
             ],
             [
              0.2222222222222222,
              "#7201a8"
             ],
             [
              0.3333333333333333,
              "#9c179e"
             ],
             [
              0.4444444444444444,
              "#bd3786"
             ],
             [
              0.5555555555555556,
              "#d8576b"
             ],
             [
              0.6666666666666666,
              "#ed7953"
             ],
             [
              0.7777777777777778,
              "#fb9f3a"
             ],
             [
              0.8888888888888888,
              "#fdca26"
             ],
             [
              1,
              "#f0f921"
             ]
            ],
            "type": "heatmapgl"
           }
          ],
          "histogram": [
           {
            "marker": {
             "pattern": {
              "fillmode": "overlay",
              "size": 10,
              "solidity": 0.2
             }
            },
            "type": "histogram"
           }
          ],
          "histogram2d": [
           {
            "colorbar": {
             "outlinewidth": 0,
             "ticks": ""
            },
            "colorscale": [
             [
              0,
              "#0d0887"
             ],
             [
              0.1111111111111111,
              "#46039f"
             ],
             [
              0.2222222222222222,
              "#7201a8"
             ],
             [
              0.3333333333333333,
              "#9c179e"
             ],
             [
              0.4444444444444444,
              "#bd3786"
             ],
             [
              0.5555555555555556,
              "#d8576b"
             ],
             [
              0.6666666666666666,
              "#ed7953"
             ],
             [
              0.7777777777777778,
              "#fb9f3a"
             ],
             [
              0.8888888888888888,
              "#fdca26"
             ],
             [
              1,
              "#f0f921"
             ]
            ],
            "type": "histogram2d"
           }
          ],
          "histogram2dcontour": [
           {
            "colorbar": {
             "outlinewidth": 0,
             "ticks": ""
            },
            "colorscale": [
             [
              0,
              "#0d0887"
             ],
             [
              0.1111111111111111,
              "#46039f"
             ],
             [
              0.2222222222222222,
              "#7201a8"
             ],
             [
              0.3333333333333333,
              "#9c179e"
             ],
             [
              0.4444444444444444,
              "#bd3786"
             ],
             [
              0.5555555555555556,
              "#d8576b"
             ],
             [
              0.6666666666666666,
              "#ed7953"
             ],
             [
              0.7777777777777778,
              "#fb9f3a"
             ],
             [
              0.8888888888888888,
              "#fdca26"
             ],
             [
              1,
              "#f0f921"
             ]
            ],
            "type": "histogram2dcontour"
           }
          ],
          "mesh3d": [
           {
            "colorbar": {
             "outlinewidth": 0,
             "ticks": ""
            },
            "type": "mesh3d"
           }
          ],
          "parcoords": [
           {
            "line": {
             "colorbar": {
              "outlinewidth": 0,
              "ticks": ""
             }
            },
            "type": "parcoords"
           }
          ],
          "pie": [
           {
            "automargin": true,
            "type": "pie"
           }
          ],
          "scatter": [
           {
            "fillpattern": {
             "fillmode": "overlay",
             "size": 10,
             "solidity": 0.2
            },
            "type": "scatter"
           }
          ],
          "scatter3d": [
           {
            "line": {
             "colorbar": {
              "outlinewidth": 0,
              "ticks": ""
             }
            },
            "marker": {
             "colorbar": {
              "outlinewidth": 0,
              "ticks": ""
             }
            },
            "type": "scatter3d"
           }
          ],
          "scattercarpet": [
           {
            "marker": {
             "colorbar": {
              "outlinewidth": 0,
              "ticks": ""
             }
            },
            "type": "scattercarpet"
           }
          ],
          "scattergeo": [
           {
            "marker": {
             "colorbar": {
              "outlinewidth": 0,
              "ticks": ""
             }
            },
            "type": "scattergeo"
           }
          ],
          "scattergl": [
           {
            "marker": {
             "colorbar": {
              "outlinewidth": 0,
              "ticks": ""
             }
            },
            "type": "scattergl"
           }
          ],
          "scattermapbox": [
           {
            "marker": {
             "colorbar": {
              "outlinewidth": 0,
              "ticks": ""
             }
            },
            "type": "scattermapbox"
           }
          ],
          "scatterpolar": [
           {
            "marker": {
             "colorbar": {
              "outlinewidth": 0,
              "ticks": ""
             }
            },
            "type": "scatterpolar"
           }
          ],
          "scatterpolargl": [
           {
            "marker": {
             "colorbar": {
              "outlinewidth": 0,
              "ticks": ""
             }
            },
            "type": "scatterpolargl"
           }
          ],
          "scatterternary": [
           {
            "marker": {
             "colorbar": {
              "outlinewidth": 0,
              "ticks": ""
             }
            },
            "type": "scatterternary"
           }
          ],
          "surface": [
           {
            "colorbar": {
             "outlinewidth": 0,
             "ticks": ""
            },
            "colorscale": [
             [
              0,
              "#0d0887"
             ],
             [
              0.1111111111111111,
              "#46039f"
             ],
             [
              0.2222222222222222,
              "#7201a8"
             ],
             [
              0.3333333333333333,
              "#9c179e"
             ],
             [
              0.4444444444444444,
              "#bd3786"
             ],
             [
              0.5555555555555556,
              "#d8576b"
             ],
             [
              0.6666666666666666,
              "#ed7953"
             ],
             [
              0.7777777777777778,
              "#fb9f3a"
             ],
             [
              0.8888888888888888,
              "#fdca26"
             ],
             [
              1,
              "#f0f921"
             ]
            ],
            "type": "surface"
           }
          ],
          "table": [
           {
            "cells": {
             "fill": {
              "color": "#EBF0F8"
             },
             "line": {
              "color": "white"
             }
            },
            "header": {
             "fill": {
              "color": "#C8D4E3"
             },
             "line": {
              "color": "white"
             }
            },
            "type": "table"
           }
          ]
         },
         "layout": {
          "annotationdefaults": {
           "arrowcolor": "#2a3f5f",
           "arrowhead": 0,
           "arrowwidth": 1
          },
          "autotypenumbers": "strict",
          "coloraxis": {
           "colorbar": {
            "outlinewidth": 0,
            "ticks": ""
           }
          },
          "colorscale": {
           "diverging": [
            [
             0,
             "#8e0152"
            ],
            [
             0.1,
             "#c51b7d"
            ],
            [
             0.2,
             "#de77ae"
            ],
            [
             0.3,
             "#f1b6da"
            ],
            [
             0.4,
             "#fde0ef"
            ],
            [
             0.5,
             "#f7f7f7"
            ],
            [
             0.6,
             "#e6f5d0"
            ],
            [
             0.7,
             "#b8e186"
            ],
            [
             0.8,
             "#7fbc41"
            ],
            [
             0.9,
             "#4d9221"
            ],
            [
             1,
             "#276419"
            ]
           ],
           "sequential": [
            [
             0,
             "#0d0887"
            ],
            [
             0.1111111111111111,
             "#46039f"
            ],
            [
             0.2222222222222222,
             "#7201a8"
            ],
            [
             0.3333333333333333,
             "#9c179e"
            ],
            [
             0.4444444444444444,
             "#bd3786"
            ],
            [
             0.5555555555555556,
             "#d8576b"
            ],
            [
             0.6666666666666666,
             "#ed7953"
            ],
            [
             0.7777777777777778,
             "#fb9f3a"
            ],
            [
             0.8888888888888888,
             "#fdca26"
            ],
            [
             1,
             "#f0f921"
            ]
           ],
           "sequentialminus": [
            [
             0,
             "#0d0887"
            ],
            [
             0.1111111111111111,
             "#46039f"
            ],
            [
             0.2222222222222222,
             "#7201a8"
            ],
            [
             0.3333333333333333,
             "#9c179e"
            ],
            [
             0.4444444444444444,
             "#bd3786"
            ],
            [
             0.5555555555555556,
             "#d8576b"
            ],
            [
             0.6666666666666666,
             "#ed7953"
            ],
            [
             0.7777777777777778,
             "#fb9f3a"
            ],
            [
             0.8888888888888888,
             "#fdca26"
            ],
            [
             1,
             "#f0f921"
            ]
           ]
          },
          "colorway": [
           "#636efa",
           "#EF553B",
           "#00cc96",
           "#ab63fa",
           "#FFA15A",
           "#19d3f3",
           "#FF6692",
           "#B6E880",
           "#FF97FF",
           "#FECB52"
          ],
          "font": {
           "color": "#2a3f5f"
          },
          "geo": {
           "bgcolor": "white",
           "lakecolor": "white",
           "landcolor": "#E5ECF6",
           "showlakes": true,
           "showland": true,
           "subunitcolor": "white"
          },
          "hoverlabel": {
           "align": "left"
          },
          "hovermode": "closest",
          "mapbox": {
           "style": "light"
          },
          "paper_bgcolor": "white",
          "plot_bgcolor": "#E5ECF6",
          "polar": {
           "angularaxis": {
            "gridcolor": "white",
            "linecolor": "white",
            "ticks": ""
           },
           "bgcolor": "#E5ECF6",
           "radialaxis": {
            "gridcolor": "white",
            "linecolor": "white",
            "ticks": ""
           }
          },
          "scene": {
           "xaxis": {
            "backgroundcolor": "#E5ECF6",
            "gridcolor": "white",
            "gridwidth": 2,
            "linecolor": "white",
            "showbackground": true,
            "ticks": "",
            "zerolinecolor": "white"
           },
           "yaxis": {
            "backgroundcolor": "#E5ECF6",
            "gridcolor": "white",
            "gridwidth": 2,
            "linecolor": "white",
            "showbackground": true,
            "ticks": "",
            "zerolinecolor": "white"
           },
           "zaxis": {
            "backgroundcolor": "#E5ECF6",
            "gridcolor": "white",
            "gridwidth": 2,
            "linecolor": "white",
            "showbackground": true,
            "ticks": "",
            "zerolinecolor": "white"
           }
          },
          "shapedefaults": {
           "line": {
            "color": "#2a3f5f"
           }
          },
          "ternary": {
           "aaxis": {
            "gridcolor": "white",
            "linecolor": "white",
            "ticks": ""
           },
           "baxis": {
            "gridcolor": "white",
            "linecolor": "white",
            "ticks": ""
           },
           "bgcolor": "#E5ECF6",
           "caxis": {
            "gridcolor": "white",
            "linecolor": "white",
            "ticks": ""
           }
          },
          "title": {
           "x": 0.05
          },
          "xaxis": {
           "automargin": true,
           "gridcolor": "white",
           "linecolor": "white",
           "ticks": "",
           "title": {
            "standoff": 15
           },
           "zerolinecolor": "white",
           "zerolinewidth": 2
          },
          "yaxis": {
           "automargin": true,
           "gridcolor": "white",
           "linecolor": "white",
           "ticks": "",
           "title": {
            "standoff": 15
           },
           "zerolinecolor": "white",
           "zerolinewidth": 2
          }
         }
        },
        "title": {
         "font": {
          "color": "black",
          "size": 24
         },
         "text": "Distribution of Male and Female Psychiatric Inpatients Total <br><sup>Ireland 2019-2022</sup>"
        },
        "xaxis": {
         "anchor": "y",
         "domain": [
          0,
          1
         ],
         "linecolor": "black",
         "showgrid": false,
         "showticklabels": true,
         "tickfont": {
          "color": "black",
          "size": 14
         },
         "title": {
          "font": {
           "color": "black",
           "size": 18
          },
          "text": "Year"
         },
         "zeroline": false
        },
        "yaxis": {
         "anchor": "x",
         "domain": [
          0,
          1
         ],
         "linecolor": "black",
         "showgrid": false,
         "showticklabels": true,
         "tickfont": {
          "color": "black",
          "size": 14
         },
         "title": {
          "font": {
           "color": "black",
           "size": 18
          },
          "text": "Number of Patients"
         },
         "zeroline": false
        }
       }
      },
      "text/html": [
       "<div>                            <div id=\"68711657-84a1-425e-adea-f4b0deca6004\" class=\"plotly-graph-div\" style=\"height:525px; width:100%;\"></div>            <script type=\"text/javascript\">                require([\"plotly\"], function(Plotly) {                    window.PLOTLYENV=window.PLOTLYENV || {};                                    if (document.getElementById(\"68711657-84a1-425e-adea-f4b0deca6004\")) {                    Plotly.newPlot(                        \"68711657-84a1-425e-adea-f4b0deca6004\",                        [{\"alignmentgroup\":\"True\",\"hovertemplate\":\"Sex=Male\\u003cbr\\u003eYear=%{x}\\u003cbr\\u003eNumber of Patients=%{y}\\u003cextra\\u003e\\u003c\\u002fextra\\u003e\",\"legendgroup\":\"Male\",\"marker\":{\"color\":\"#202A44\",\"pattern\":{\"shape\":\"\"}},\"name\":\"Male\",\"offsetgroup\":\"Male\",\"orientation\":\"v\",\"showlegend\":true,\"textposition\":\"auto\",\"x\":[2019,2019,2019,2019,2019,2019,2020,2020,2020,2020,2020,2020,2021,2021,2021,2021,2021,2021,2022,2022,2022,2022,2022,2022],\"xaxis\":\"x\",\"y\":[92.0,54.0,11.0,398.0,427.0,282.0,92.0,51.0,6.0,333.0,337.0,182.0,88.0,46.0,4.0,378.0,318.0,198.0,88.0,41.0,3.0,404.0,315.0,205.0],\"yaxis\":\"y\",\"type\":\"bar\"},{\"alignmentgroup\":\"True\",\"hovertemplate\":\"Sex=Female\\u003cbr\\u003eYear=%{x}\\u003cbr\\u003eNumber of Patients=%{y}\\u003cextra\\u003e\\u003c\\u002fextra\\u003e\",\"legendgroup\":\"Female\",\"marker\":{\"color\":\"#997b84\",\"pattern\":{\"shape\":\"\"}},\"name\":\"Female\",\"offsetgroup\":\"Female\",\"orientation\":\"v\",\"showlegend\":true,\"textposition\":\"auto\",\"x\":[2019,2019,2019,2019,2019,2019,2020,2020,2020,2020,2020,2020,2021,2021,2021,2021,2021,2021,2022,2022,2022,2022,2022,2022],\"xaxis\":\"x\",\"y\":[11.0,22.0,4.0,401.0,262.0,344.0,10.0,19.0,4.0,295.0,230.0,267.0,10.0,18.0,2.0,333.0,234.0,242.0,10.0,15.0,1.0,340.0,240.0,251.0],\"yaxis\":\"y\",\"type\":\"bar\"}],                        {\"template\":{\"data\":{\"histogram2dcontour\":[{\"type\":\"histogram2dcontour\",\"colorbar\":{\"outlinewidth\":0,\"ticks\":\"\"},\"colorscale\":[[0.0,\"#0d0887\"],[0.1111111111111111,\"#46039f\"],[0.2222222222222222,\"#7201a8\"],[0.3333333333333333,\"#9c179e\"],[0.4444444444444444,\"#bd3786\"],[0.5555555555555556,\"#d8576b\"],[0.6666666666666666,\"#ed7953\"],[0.7777777777777778,\"#fb9f3a\"],[0.8888888888888888,\"#fdca26\"],[1.0,\"#f0f921\"]]}],\"choropleth\":[{\"type\":\"choropleth\",\"colorbar\":{\"outlinewidth\":0,\"ticks\":\"\"}}],\"histogram2d\":[{\"type\":\"histogram2d\",\"colorbar\":{\"outlinewidth\":0,\"ticks\":\"\"},\"colorscale\":[[0.0,\"#0d0887\"],[0.1111111111111111,\"#46039f\"],[0.2222222222222222,\"#7201a8\"],[0.3333333333333333,\"#9c179e\"],[0.4444444444444444,\"#bd3786\"],[0.5555555555555556,\"#d8576b\"],[0.6666666666666666,\"#ed7953\"],[0.7777777777777778,\"#fb9f3a\"],[0.8888888888888888,\"#fdca26\"],[1.0,\"#f0f921\"]]}],\"heatmap\":[{\"type\":\"heatmap\",\"colorbar\":{\"outlinewidth\":0,\"ticks\":\"\"},\"colorscale\":[[0.0,\"#0d0887\"],[0.1111111111111111,\"#46039f\"],[0.2222222222222222,\"#7201a8\"],[0.3333333333333333,\"#9c179e\"],[0.4444444444444444,\"#bd3786\"],[0.5555555555555556,\"#d8576b\"],[0.6666666666666666,\"#ed7953\"],[0.7777777777777778,\"#fb9f3a\"],[0.8888888888888888,\"#fdca26\"],[1.0,\"#f0f921\"]]}],\"heatmapgl\":[{\"type\":\"heatmapgl\",\"colorbar\":{\"outlinewidth\":0,\"ticks\":\"\"},\"colorscale\":[[0.0,\"#0d0887\"],[0.1111111111111111,\"#46039f\"],[0.2222222222222222,\"#7201a8\"],[0.3333333333333333,\"#9c179e\"],[0.4444444444444444,\"#bd3786\"],[0.5555555555555556,\"#d8576b\"],[0.6666666666666666,\"#ed7953\"],[0.7777777777777778,\"#fb9f3a\"],[0.8888888888888888,\"#fdca26\"],[1.0,\"#f0f921\"]]}],\"contourcarpet\":[{\"type\":\"contourcarpet\",\"colorbar\":{\"outlinewidth\":0,\"ticks\":\"\"}}],\"contour\":[{\"type\":\"contour\",\"colorbar\":{\"outlinewidth\":0,\"ticks\":\"\"},\"colorscale\":[[0.0,\"#0d0887\"],[0.1111111111111111,\"#46039f\"],[0.2222222222222222,\"#7201a8\"],[0.3333333333333333,\"#9c179e\"],[0.4444444444444444,\"#bd3786\"],[0.5555555555555556,\"#d8576b\"],[0.6666666666666666,\"#ed7953\"],[0.7777777777777778,\"#fb9f3a\"],[0.8888888888888888,\"#fdca26\"],[1.0,\"#f0f921\"]]}],\"surface\":[{\"type\":\"surface\",\"colorbar\":{\"outlinewidth\":0,\"ticks\":\"\"},\"colorscale\":[[0.0,\"#0d0887\"],[0.1111111111111111,\"#46039f\"],[0.2222222222222222,\"#7201a8\"],[0.3333333333333333,\"#9c179e\"],[0.4444444444444444,\"#bd3786\"],[0.5555555555555556,\"#d8576b\"],[0.6666666666666666,\"#ed7953\"],[0.7777777777777778,\"#fb9f3a\"],[0.8888888888888888,\"#fdca26\"],[1.0,\"#f0f921\"]]}],\"mesh3d\":[{\"type\":\"mesh3d\",\"colorbar\":{\"outlinewidth\":0,\"ticks\":\"\"}}],\"scatter\":[{\"fillpattern\":{\"fillmode\":\"overlay\",\"size\":10,\"solidity\":0.2},\"type\":\"scatter\"}],\"parcoords\":[{\"type\":\"parcoords\",\"line\":{\"colorbar\":{\"outlinewidth\":0,\"ticks\":\"\"}}}],\"scatterpolargl\":[{\"type\":\"scatterpolargl\",\"marker\":{\"colorbar\":{\"outlinewidth\":0,\"ticks\":\"\"}}}],\"bar\":[{\"error_x\":{\"color\":\"#2a3f5f\"},\"error_y\":{\"color\":\"#2a3f5f\"},\"marker\":{\"line\":{\"color\":\"#E5ECF6\",\"width\":0.5},\"pattern\":{\"fillmode\":\"overlay\",\"size\":10,\"solidity\":0.2}},\"type\":\"bar\"}],\"scattergeo\":[{\"type\":\"scattergeo\",\"marker\":{\"colorbar\":{\"outlinewidth\":0,\"ticks\":\"\"}}}],\"scatterpolar\":[{\"type\":\"scatterpolar\",\"marker\":{\"colorbar\":{\"outlinewidth\":0,\"ticks\":\"\"}}}],\"histogram\":[{\"marker\":{\"pattern\":{\"fillmode\":\"overlay\",\"size\":10,\"solidity\":0.2}},\"type\":\"histogram\"}],\"scattergl\":[{\"type\":\"scattergl\",\"marker\":{\"colorbar\":{\"outlinewidth\":0,\"ticks\":\"\"}}}],\"scatter3d\":[{\"type\":\"scatter3d\",\"line\":{\"colorbar\":{\"outlinewidth\":0,\"ticks\":\"\"}},\"marker\":{\"colorbar\":{\"outlinewidth\":0,\"ticks\":\"\"}}}],\"scattermapbox\":[{\"type\":\"scattermapbox\",\"marker\":{\"colorbar\":{\"outlinewidth\":0,\"ticks\":\"\"}}}],\"scatterternary\":[{\"type\":\"scatterternary\",\"marker\":{\"colorbar\":{\"outlinewidth\":0,\"ticks\":\"\"}}}],\"scattercarpet\":[{\"type\":\"scattercarpet\",\"marker\":{\"colorbar\":{\"outlinewidth\":0,\"ticks\":\"\"}}}],\"carpet\":[{\"aaxis\":{\"endlinecolor\":\"#2a3f5f\",\"gridcolor\":\"white\",\"linecolor\":\"white\",\"minorgridcolor\":\"white\",\"startlinecolor\":\"#2a3f5f\"},\"baxis\":{\"endlinecolor\":\"#2a3f5f\",\"gridcolor\":\"white\",\"linecolor\":\"white\",\"minorgridcolor\":\"white\",\"startlinecolor\":\"#2a3f5f\"},\"type\":\"carpet\"}],\"table\":[{\"cells\":{\"fill\":{\"color\":\"#EBF0F8\"},\"line\":{\"color\":\"white\"}},\"header\":{\"fill\":{\"color\":\"#C8D4E3\"},\"line\":{\"color\":\"white\"}},\"type\":\"table\"}],\"barpolar\":[{\"marker\":{\"line\":{\"color\":\"#E5ECF6\",\"width\":0.5},\"pattern\":{\"fillmode\":\"overlay\",\"size\":10,\"solidity\":0.2}},\"type\":\"barpolar\"}],\"pie\":[{\"automargin\":true,\"type\":\"pie\"}]},\"layout\":{\"autotypenumbers\":\"strict\",\"colorway\":[\"#636efa\",\"#EF553B\",\"#00cc96\",\"#ab63fa\",\"#FFA15A\",\"#19d3f3\",\"#FF6692\",\"#B6E880\",\"#FF97FF\",\"#FECB52\"],\"font\":{\"color\":\"#2a3f5f\"},\"hovermode\":\"closest\",\"hoverlabel\":{\"align\":\"left\"},\"paper_bgcolor\":\"white\",\"plot_bgcolor\":\"#E5ECF6\",\"polar\":{\"bgcolor\":\"#E5ECF6\",\"angularaxis\":{\"gridcolor\":\"white\",\"linecolor\":\"white\",\"ticks\":\"\"},\"radialaxis\":{\"gridcolor\":\"white\",\"linecolor\":\"white\",\"ticks\":\"\"}},\"ternary\":{\"bgcolor\":\"#E5ECF6\",\"aaxis\":{\"gridcolor\":\"white\",\"linecolor\":\"white\",\"ticks\":\"\"},\"baxis\":{\"gridcolor\":\"white\",\"linecolor\":\"white\",\"ticks\":\"\"},\"caxis\":{\"gridcolor\":\"white\",\"linecolor\":\"white\",\"ticks\":\"\"}},\"coloraxis\":{\"colorbar\":{\"outlinewidth\":0,\"ticks\":\"\"}},\"colorscale\":{\"sequential\":[[0.0,\"#0d0887\"],[0.1111111111111111,\"#46039f\"],[0.2222222222222222,\"#7201a8\"],[0.3333333333333333,\"#9c179e\"],[0.4444444444444444,\"#bd3786\"],[0.5555555555555556,\"#d8576b\"],[0.6666666666666666,\"#ed7953\"],[0.7777777777777778,\"#fb9f3a\"],[0.8888888888888888,\"#fdca26\"],[1.0,\"#f0f921\"]],\"sequentialminus\":[[0.0,\"#0d0887\"],[0.1111111111111111,\"#46039f\"],[0.2222222222222222,\"#7201a8\"],[0.3333333333333333,\"#9c179e\"],[0.4444444444444444,\"#bd3786\"],[0.5555555555555556,\"#d8576b\"],[0.6666666666666666,\"#ed7953\"],[0.7777777777777778,\"#fb9f3a\"],[0.8888888888888888,\"#fdca26\"],[1.0,\"#f0f921\"]],\"diverging\":[[0,\"#8e0152\"],[0.1,\"#c51b7d\"],[0.2,\"#de77ae\"],[0.3,\"#f1b6da\"],[0.4,\"#fde0ef\"],[0.5,\"#f7f7f7\"],[0.6,\"#e6f5d0\"],[0.7,\"#b8e186\"],[0.8,\"#7fbc41\"],[0.9,\"#4d9221\"],[1,\"#276419\"]]},\"xaxis\":{\"gridcolor\":\"white\",\"linecolor\":\"white\",\"ticks\":\"\",\"title\":{\"standoff\":15},\"zerolinecolor\":\"white\",\"automargin\":true,\"zerolinewidth\":2},\"yaxis\":{\"gridcolor\":\"white\",\"linecolor\":\"white\",\"ticks\":\"\",\"title\":{\"standoff\":15},\"zerolinecolor\":\"white\",\"automargin\":true,\"zerolinewidth\":2},\"scene\":{\"xaxis\":{\"backgroundcolor\":\"#E5ECF6\",\"gridcolor\":\"white\",\"linecolor\":\"white\",\"showbackground\":true,\"ticks\":\"\",\"zerolinecolor\":\"white\",\"gridwidth\":2},\"yaxis\":{\"backgroundcolor\":\"#E5ECF6\",\"gridcolor\":\"white\",\"linecolor\":\"white\",\"showbackground\":true,\"ticks\":\"\",\"zerolinecolor\":\"white\",\"gridwidth\":2},\"zaxis\":{\"backgroundcolor\":\"#E5ECF6\",\"gridcolor\":\"white\",\"linecolor\":\"white\",\"showbackground\":true,\"ticks\":\"\",\"zerolinecolor\":\"white\",\"gridwidth\":2}},\"shapedefaults\":{\"line\":{\"color\":\"#2a3f5f\"}},\"annotationdefaults\":{\"arrowcolor\":\"#2a3f5f\",\"arrowhead\":0,\"arrowwidth\":1},\"geo\":{\"bgcolor\":\"white\",\"landcolor\":\"#E5ECF6\",\"subunitcolor\":\"white\",\"showland\":true,\"showlakes\":true,\"lakecolor\":\"white\"},\"title\":{\"x\":0.05},\"mapbox\":{\"style\":\"light\"}}},\"xaxis\":{\"anchor\":\"y\",\"domain\":[0.0,1.0],\"title\":{\"text\":\"Year\",\"font\":{\"size\":18,\"color\":\"black\"}},\"tickfont\":{\"size\":14,\"color\":\"black\"},\"showgrid\":false,\"zeroline\":false,\"showticklabels\":true,\"linecolor\":\"black\"},\"yaxis\":{\"anchor\":\"x\",\"domain\":[0.0,1.0],\"title\":{\"text\":\"Number of Patients\",\"font\":{\"size\":18,\"color\":\"black\"}},\"tickfont\":{\"size\":14,\"color\":\"black\"},\"showgrid\":false,\"zeroline\":false,\"showticklabels\":true,\"linecolor\":\"black\"},\"legend\":{\"title\":{\"text\":\"Sex\"},\"tracegroupgap\":0},\"title\":{\"text\":\"Distribution of Male and Female Psychiatric Inpatients Total \\u003cbr\\u003e\\u003csup\\u003eIreland 2019-2022\\u003c\\u002fsup\\u003e\",\"font\":{\"size\":24,\"color\":\"black\"}},\"barmode\":\"group\",\"plot_bgcolor\":\"rgba(0, 0, 0, 0)\",\"paper_bgcolor\":\"rgba(0, 0, 0, 0)\"},                        {\"responsive\": true}                    ).then(function(){\n",
       "                            \n",
       "var gd = document.getElementById('68711657-84a1-425e-adea-f4b0deca6004');\n",
       "var x = new MutationObserver(function (mutations, observer) {{\n",
       "        var display = window.getComputedStyle(gd).display;\n",
       "        if (!display || display === 'none') {{\n",
       "            console.log([gd, 'removed!']);\n",
       "            Plotly.purge(gd);\n",
       "            observer.disconnect();\n",
       "        }}\n",
       "}});\n",
       "\n",
       "// Listen for the removal of the full notebook cells\n",
       "var notebookContainer = gd.closest('#notebook-container');\n",
       "if (notebookContainer) {{\n",
       "    x.observe(notebookContainer, {childList: true});\n",
       "}}\n",
       "\n",
       "// Listen for the clearing of the current output cell\n",
       "var outputEl = gd.closest('.output');\n",
       "if (outputEl) {{\n",
       "    x.observe(outputEl, {childList: true});\n",
       "}}\n",
       "\n",
       "                        })                };                });            </script>        </div>"
      ]
     },
     "metadata": {},
     "output_type": "display_data"
    },
    {
     "data": {
      "application/vnd.plotly.v1+json": {
       "config": {
        "plotlyServerURL": "https://plot.ly"
       },
       "data": [
        {
         "alignmentgroup": "True",
         "hovertemplate": "Sex=Male<br>Type of Hospital=CMH_Dub<br>Year=%{x}<br>Number of Patients=%{y}<extra></extra>",
         "legendgroup": "Male",
         "marker": {
          "color": "#202A44",
          "pattern": {
           "shape": ""
          }
         },
         "name": "Male",
         "offsetgroup": "Male",
         "orientation": "v",
         "showlegend": true,
         "textposition": "auto",
         "type": "bar",
         "x": [
          2019,
          2020,
          2021,
          2022
         ],
         "xaxis": "x",
         "y": [
          92,
          92,
          88,
          88
         ],
         "yaxis": "y"
        },
        {
         "alignmentgroup": "True",
         "hovertemplate": "Sex=Male<br>Type of Hospital=St.Josephs<br>Year=%{x}<br>Number of Patients=%{y}<extra></extra>",
         "legendgroup": "Male",
         "marker": {
          "color": "#202A44",
          "pattern": {
           "shape": ""
          }
         },
         "name": "Male",
         "offsetgroup": "Male",
         "orientation": "v",
         "showlegend": false,
         "textposition": "auto",
         "type": "bar",
         "x": [
          2019,
          2020,
          2021,
          2022
         ],
         "xaxis": "x2",
         "y": [
          54,
          51,
          46,
          41
         ],
         "yaxis": "y2"
        },
        {
         "alignmentgroup": "True",
         "hovertemplate": "Sex=Male<br>Type of Hospital=Carraig Mór<br>Year=%{x}<br>Number of Patients=%{y}<extra></extra>",
         "legendgroup": "Male",
         "marker": {
          "color": "#202A44",
          "pattern": {
           "shape": ""
          }
         },
         "name": "Male",
         "offsetgroup": "Male",
         "orientation": "v",
         "showlegend": false,
         "textposition": "auto",
         "type": "bar",
         "x": [
          2019,
          2020,
          2021,
          2022
         ],
         "xaxis": "x3",
         "y": [
          11,
          6,
          4,
          3
         ],
         "yaxis": "y3"
        },
        {
         "alignmentgroup": "True",
         "hovertemplate": "Sex=Male<br>Type of Hospital=GHPU<br>Year=%{x}<br>Number of Patients=%{y}<extra></extra>",
         "legendgroup": "Male",
         "marker": {
          "color": "#202A44",
          "pattern": {
           "shape": ""
          }
         },
         "name": "Male",
         "offsetgroup": "Male",
         "orientation": "v",
         "showlegend": false,
         "textposition": "auto",
         "type": "bar",
         "x": [
          2019,
          2020,
          2021,
          2022
         ],
         "xaxis": "x4",
         "y": [
          398,
          333,
          378,
          404
         ],
         "yaxis": "y4"
        },
        {
         "alignmentgroup": "True",
         "hovertemplate": "Sex=Male<br>Type of Hospital=PH/CCU<br>Year=%{x}<br>Number of Patients=%{y}<extra></extra>",
         "legendgroup": "Male",
         "marker": {
          "color": "#202A44",
          "pattern": {
           "shape": ""
          }
         },
         "name": "Male",
         "offsetgroup": "Male",
         "orientation": "v",
         "showlegend": false,
         "textposition": "auto",
         "type": "bar",
         "x": [
          2019,
          2020,
          2021,
          2022
         ],
         "xaxis": "x5",
         "y": [
          427,
          337,
          318,
          315
         ],
         "yaxis": "y5"
        },
        {
         "alignmentgroup": "True",
         "hovertemplate": "Sex=Male<br>Type of Hospital=Private<br>Year=%{x}<br>Number of Patients=%{y}<extra></extra>",
         "legendgroup": "Male",
         "marker": {
          "color": "#202A44",
          "pattern": {
           "shape": ""
          }
         },
         "name": "Male",
         "offsetgroup": "Male",
         "orientation": "v",
         "showlegend": false,
         "textposition": "auto",
         "type": "bar",
         "x": [
          2019,
          2020,
          2021,
          2022
         ],
         "xaxis": "x6",
         "y": [
          282,
          182,
          198,
          205
         ],
         "yaxis": "y6"
        },
        {
         "alignmentgroup": "True",
         "hovertemplate": "Sex=Female<br>Type of Hospital=CMH_Dub<br>Year=%{x}<br>Number of Patients=%{y}<extra></extra>",
         "legendgroup": "Female",
         "marker": {
          "color": "#997b84",
          "pattern": {
           "shape": ""
          }
         },
         "name": "Female",
         "offsetgroup": "Female",
         "orientation": "v",
         "showlegend": true,
         "textposition": "auto",
         "type": "bar",
         "x": [
          2019,
          2020,
          2021,
          2022
         ],
         "xaxis": "x",
         "y": [
          11,
          10,
          10,
          10
         ],
         "yaxis": "y"
        },
        {
         "alignmentgroup": "True",
         "hovertemplate": "Sex=Female<br>Type of Hospital=St.Josephs<br>Year=%{x}<br>Number of Patients=%{y}<extra></extra>",
         "legendgroup": "Female",
         "marker": {
          "color": "#997b84",
          "pattern": {
           "shape": ""
          }
         },
         "name": "Female",
         "offsetgroup": "Female",
         "orientation": "v",
         "showlegend": false,
         "textposition": "auto",
         "type": "bar",
         "x": [
          2019,
          2020,
          2021,
          2022
         ],
         "xaxis": "x2",
         "y": [
          22,
          19,
          18,
          15
         ],
         "yaxis": "y2"
        },
        {
         "alignmentgroup": "True",
         "hovertemplate": "Sex=Female<br>Type of Hospital=Carraig Mór<br>Year=%{x}<br>Number of Patients=%{y}<extra></extra>",
         "legendgroup": "Female",
         "marker": {
          "color": "#997b84",
          "pattern": {
           "shape": ""
          }
         },
         "name": "Female",
         "offsetgroup": "Female",
         "orientation": "v",
         "showlegend": false,
         "textposition": "auto",
         "type": "bar",
         "x": [
          2019,
          2020,
          2021,
          2022
         ],
         "xaxis": "x3",
         "y": [
          4,
          4,
          2,
          1
         ],
         "yaxis": "y3"
        },
        {
         "alignmentgroup": "True",
         "hovertemplate": "Sex=Female<br>Type of Hospital=GHPU<br>Year=%{x}<br>Number of Patients=%{y}<extra></extra>",
         "legendgroup": "Female",
         "marker": {
          "color": "#997b84",
          "pattern": {
           "shape": ""
          }
         },
         "name": "Female",
         "offsetgroup": "Female",
         "orientation": "v",
         "showlegend": false,
         "textposition": "auto",
         "type": "bar",
         "x": [
          2019,
          2020,
          2021,
          2022
         ],
         "xaxis": "x4",
         "y": [
          401,
          295,
          333,
          340
         ],
         "yaxis": "y4"
        },
        {
         "alignmentgroup": "True",
         "hovertemplate": "Sex=Female<br>Type of Hospital=PH/CCU<br>Year=%{x}<br>Number of Patients=%{y}<extra></extra>",
         "legendgroup": "Female",
         "marker": {
          "color": "#997b84",
          "pattern": {
           "shape": ""
          }
         },
         "name": "Female",
         "offsetgroup": "Female",
         "orientation": "v",
         "showlegend": false,
         "textposition": "auto",
         "type": "bar",
         "x": [
          2019,
          2020,
          2021,
          2022
         ],
         "xaxis": "x5",
         "y": [
          262,
          230,
          234,
          240
         ],
         "yaxis": "y5"
        },
        {
         "alignmentgroup": "True",
         "hovertemplate": "Sex=Female<br>Type of Hospital=Private<br>Year=%{x}<br>Number of Patients=%{y}<extra></extra>",
         "legendgroup": "Female",
         "marker": {
          "color": "#997b84",
          "pattern": {
           "shape": ""
          }
         },
         "name": "Female",
         "offsetgroup": "Female",
         "orientation": "v",
         "showlegend": false,
         "textposition": "auto",
         "type": "bar",
         "x": [
          2019,
          2020,
          2021,
          2022
         ],
         "xaxis": "x6",
         "y": [
          344,
          267,
          242,
          251
         ],
         "yaxis": "y6"
        }
       ],
       "layout": {
        "annotations": [
         {
          "font": {
           "color": "black",
           "family": "Arial, bold",
           "size": 14
          },
          "showarrow": false,
          "text": "CMH_Dub",
          "x": 0.075,
          "xanchor": "center",
          "xref": "paper",
          "y": 1,
          "yanchor": "bottom",
          "yref": "paper"
         },
         {
          "font": {
           "color": "black",
           "family": "Arial, bold",
           "size": 14
          },
          "showarrow": false,
          "text": "St.Josephs",
          "x": 0.24499999999999997,
          "xanchor": "center",
          "xref": "paper",
          "y": 1,
          "yanchor": "bottom",
          "yref": "paper"
         },
         {
          "font": {
           "color": "black",
           "family": "Arial, bold",
           "size": 14
          },
          "showarrow": false,
          "text": "Carraig Mór",
          "x": 0.415,
          "xanchor": "center",
          "xref": "paper",
          "y": 1,
          "yanchor": "bottom",
          "yref": "paper"
         },
         {
          "font": {
           "color": "black",
           "family": "Arial, bold",
           "size": 14
          },
          "showarrow": false,
          "text": "GHPU",
          "x": 0.585,
          "xanchor": "center",
          "xref": "paper",
          "y": 1,
          "yanchor": "bottom",
          "yref": "paper"
         },
         {
          "font": {
           "color": "black",
           "family": "Arial, bold",
           "size": 14
          },
          "showarrow": false,
          "text": "PH/CCU",
          "x": 0.7549999999999999,
          "xanchor": "center",
          "xref": "paper",
          "y": 1,
          "yanchor": "bottom",
          "yref": "paper"
         },
         {
          "font": {
           "color": "black",
           "family": "Arial, bold",
           "size": 14
          },
          "showarrow": false,
          "text": "Private",
          "x": 0.925,
          "xanchor": "center",
          "xref": "paper",
          "y": 1,
          "yanchor": "bottom",
          "yref": "paper"
         }
        ],
        "barmode": "group",
        "legend": {
         "title": {
          "text": "Sex"
         },
         "tracegroupgap": 0
        },
        "paper_bgcolor": "rgba(0, 0, 0, 0)",
        "plot_bgcolor": "rgba(0, 0, 0, 0)",
        "shapes": [
         {
          "line": {
           "color": "black"
          },
          "type": "line",
          "x0": 0,
          "x1": 1,
          "xref": "paper",
          "y0": 0,
          "y1": 0,
          "yref": "paper"
         }
        ],
        "template": {
         "data": {
          "bar": [
           {
            "error_x": {
             "color": "#2a3f5f"
            },
            "error_y": {
             "color": "#2a3f5f"
            },
            "marker": {
             "line": {
              "color": "#E5ECF6",
              "width": 0.5
             },
             "pattern": {
              "fillmode": "overlay",
              "size": 10,
              "solidity": 0.2
             }
            },
            "type": "bar"
           }
          ],
          "barpolar": [
           {
            "marker": {
             "line": {
              "color": "#E5ECF6",
              "width": 0.5
             },
             "pattern": {
              "fillmode": "overlay",
              "size": 10,
              "solidity": 0.2
             }
            },
            "type": "barpolar"
           }
          ],
          "carpet": [
           {
            "aaxis": {
             "endlinecolor": "#2a3f5f",
             "gridcolor": "white",
             "linecolor": "white",
             "minorgridcolor": "white",
             "startlinecolor": "#2a3f5f"
            },
            "baxis": {
             "endlinecolor": "#2a3f5f",
             "gridcolor": "white",
             "linecolor": "white",
             "minorgridcolor": "white",
             "startlinecolor": "#2a3f5f"
            },
            "type": "carpet"
           }
          ],
          "choropleth": [
           {
            "colorbar": {
             "outlinewidth": 0,
             "ticks": ""
            },
            "type": "choropleth"
           }
          ],
          "contour": [
           {
            "colorbar": {
             "outlinewidth": 0,
             "ticks": ""
            },
            "colorscale": [
             [
              0,
              "#0d0887"
             ],
             [
              0.1111111111111111,
              "#46039f"
             ],
             [
              0.2222222222222222,
              "#7201a8"
             ],
             [
              0.3333333333333333,
              "#9c179e"
             ],
             [
              0.4444444444444444,
              "#bd3786"
             ],
             [
              0.5555555555555556,
              "#d8576b"
             ],
             [
              0.6666666666666666,
              "#ed7953"
             ],
             [
              0.7777777777777778,
              "#fb9f3a"
             ],
             [
              0.8888888888888888,
              "#fdca26"
             ],
             [
              1,
              "#f0f921"
             ]
            ],
            "type": "contour"
           }
          ],
          "contourcarpet": [
           {
            "colorbar": {
             "outlinewidth": 0,
             "ticks": ""
            },
            "type": "contourcarpet"
           }
          ],
          "heatmap": [
           {
            "colorbar": {
             "outlinewidth": 0,
             "ticks": ""
            },
            "colorscale": [
             [
              0,
              "#0d0887"
             ],
             [
              0.1111111111111111,
              "#46039f"
             ],
             [
              0.2222222222222222,
              "#7201a8"
             ],
             [
              0.3333333333333333,
              "#9c179e"
             ],
             [
              0.4444444444444444,
              "#bd3786"
             ],
             [
              0.5555555555555556,
              "#d8576b"
             ],
             [
              0.6666666666666666,
              "#ed7953"
             ],
             [
              0.7777777777777778,
              "#fb9f3a"
             ],
             [
              0.8888888888888888,
              "#fdca26"
             ],
             [
              1,
              "#f0f921"
             ]
            ],
            "type": "heatmap"
           }
          ],
          "heatmapgl": [
           {
            "colorbar": {
             "outlinewidth": 0,
             "ticks": ""
            },
            "colorscale": [
             [
              0,
              "#0d0887"
             ],
             [
              0.1111111111111111,
              "#46039f"
             ],
             [
              0.2222222222222222,
              "#7201a8"
             ],
             [
              0.3333333333333333,
              "#9c179e"
             ],
             [
              0.4444444444444444,
              "#bd3786"
             ],
             [
              0.5555555555555556,
              "#d8576b"
             ],
             [
              0.6666666666666666,
              "#ed7953"
             ],
             [
              0.7777777777777778,
              "#fb9f3a"
             ],
             [
              0.8888888888888888,
              "#fdca26"
             ],
             [
              1,
              "#f0f921"
             ]
            ],
            "type": "heatmapgl"
           }
          ],
          "histogram": [
           {
            "marker": {
             "pattern": {
              "fillmode": "overlay",
              "size": 10,
              "solidity": 0.2
             }
            },
            "type": "histogram"
           }
          ],
          "histogram2d": [
           {
            "colorbar": {
             "outlinewidth": 0,
             "ticks": ""
            },
            "colorscale": [
             [
              0,
              "#0d0887"
             ],
             [
              0.1111111111111111,
              "#46039f"
             ],
             [
              0.2222222222222222,
              "#7201a8"
             ],
             [
              0.3333333333333333,
              "#9c179e"
             ],
             [
              0.4444444444444444,
              "#bd3786"
             ],
             [
              0.5555555555555556,
              "#d8576b"
             ],
             [
              0.6666666666666666,
              "#ed7953"
             ],
             [
              0.7777777777777778,
              "#fb9f3a"
             ],
             [
              0.8888888888888888,
              "#fdca26"
             ],
             [
              1,
              "#f0f921"
             ]
            ],
            "type": "histogram2d"
           }
          ],
          "histogram2dcontour": [
           {
            "colorbar": {
             "outlinewidth": 0,
             "ticks": ""
            },
            "colorscale": [
             [
              0,
              "#0d0887"
             ],
             [
              0.1111111111111111,
              "#46039f"
             ],
             [
              0.2222222222222222,
              "#7201a8"
             ],
             [
              0.3333333333333333,
              "#9c179e"
             ],
             [
              0.4444444444444444,
              "#bd3786"
             ],
             [
              0.5555555555555556,
              "#d8576b"
             ],
             [
              0.6666666666666666,
              "#ed7953"
             ],
             [
              0.7777777777777778,
              "#fb9f3a"
             ],
             [
              0.8888888888888888,
              "#fdca26"
             ],
             [
              1,
              "#f0f921"
             ]
            ],
            "type": "histogram2dcontour"
           }
          ],
          "mesh3d": [
           {
            "colorbar": {
             "outlinewidth": 0,
             "ticks": ""
            },
            "type": "mesh3d"
           }
          ],
          "parcoords": [
           {
            "line": {
             "colorbar": {
              "outlinewidth": 0,
              "ticks": ""
             }
            },
            "type": "parcoords"
           }
          ],
          "pie": [
           {
            "automargin": true,
            "type": "pie"
           }
          ],
          "scatter": [
           {
            "fillpattern": {
             "fillmode": "overlay",
             "size": 10,
             "solidity": 0.2
            },
            "type": "scatter"
           }
          ],
          "scatter3d": [
           {
            "line": {
             "colorbar": {
              "outlinewidth": 0,
              "ticks": ""
             }
            },
            "marker": {
             "colorbar": {
              "outlinewidth": 0,
              "ticks": ""
             }
            },
            "type": "scatter3d"
           }
          ],
          "scattercarpet": [
           {
            "marker": {
             "colorbar": {
              "outlinewidth": 0,
              "ticks": ""
             }
            },
            "type": "scattercarpet"
           }
          ],
          "scattergeo": [
           {
            "marker": {
             "colorbar": {
              "outlinewidth": 0,
              "ticks": ""
             }
            },
            "type": "scattergeo"
           }
          ],
          "scattergl": [
           {
            "marker": {
             "colorbar": {
              "outlinewidth": 0,
              "ticks": ""
             }
            },
            "type": "scattergl"
           }
          ],
          "scattermapbox": [
           {
            "marker": {
             "colorbar": {
              "outlinewidth": 0,
              "ticks": ""
             }
            },
            "type": "scattermapbox"
           }
          ],
          "scatterpolar": [
           {
            "marker": {
             "colorbar": {
              "outlinewidth": 0,
              "ticks": ""
             }
            },
            "type": "scatterpolar"
           }
          ],
          "scatterpolargl": [
           {
            "marker": {
             "colorbar": {
              "outlinewidth": 0,
              "ticks": ""
             }
            },
            "type": "scatterpolargl"
           }
          ],
          "scatterternary": [
           {
            "marker": {
             "colorbar": {
              "outlinewidth": 0,
              "ticks": ""
             }
            },
            "type": "scatterternary"
           }
          ],
          "surface": [
           {
            "colorbar": {
             "outlinewidth": 0,
             "ticks": ""
            },
            "colorscale": [
             [
              0,
              "#0d0887"
             ],
             [
              0.1111111111111111,
              "#46039f"
             ],
             [
              0.2222222222222222,
              "#7201a8"
             ],
             [
              0.3333333333333333,
              "#9c179e"
             ],
             [
              0.4444444444444444,
              "#bd3786"
             ],
             [
              0.5555555555555556,
              "#d8576b"
             ],
             [
              0.6666666666666666,
              "#ed7953"
             ],
             [
              0.7777777777777778,
              "#fb9f3a"
             ],
             [
              0.8888888888888888,
              "#fdca26"
             ],
             [
              1,
              "#f0f921"
             ]
            ],
            "type": "surface"
           }
          ],
          "table": [
           {
            "cells": {
             "fill": {
              "color": "#EBF0F8"
             },
             "line": {
              "color": "white"
             }
            },
            "header": {
             "fill": {
              "color": "#C8D4E3"
             },
             "line": {
              "color": "white"
             }
            },
            "type": "table"
           }
          ]
         },
         "layout": {
          "annotationdefaults": {
           "arrowcolor": "#2a3f5f",
           "arrowhead": 0,
           "arrowwidth": 1
          },
          "autotypenumbers": "strict",
          "coloraxis": {
           "colorbar": {
            "outlinewidth": 0,
            "ticks": ""
           }
          },
          "colorscale": {
           "diverging": [
            [
             0,
             "#8e0152"
            ],
            [
             0.1,
             "#c51b7d"
            ],
            [
             0.2,
             "#de77ae"
            ],
            [
             0.3,
             "#f1b6da"
            ],
            [
             0.4,
             "#fde0ef"
            ],
            [
             0.5,
             "#f7f7f7"
            ],
            [
             0.6,
             "#e6f5d0"
            ],
            [
             0.7,
             "#b8e186"
            ],
            [
             0.8,
             "#7fbc41"
            ],
            [
             0.9,
             "#4d9221"
            ],
            [
             1,
             "#276419"
            ]
           ],
           "sequential": [
            [
             0,
             "#0d0887"
            ],
            [
             0.1111111111111111,
             "#46039f"
            ],
            [
             0.2222222222222222,
             "#7201a8"
            ],
            [
             0.3333333333333333,
             "#9c179e"
            ],
            [
             0.4444444444444444,
             "#bd3786"
            ],
            [
             0.5555555555555556,
             "#d8576b"
            ],
            [
             0.6666666666666666,
             "#ed7953"
            ],
            [
             0.7777777777777778,
             "#fb9f3a"
            ],
            [
             0.8888888888888888,
             "#fdca26"
            ],
            [
             1,
             "#f0f921"
            ]
           ],
           "sequentialminus": [
            [
             0,
             "#0d0887"
            ],
            [
             0.1111111111111111,
             "#46039f"
            ],
            [
             0.2222222222222222,
             "#7201a8"
            ],
            [
             0.3333333333333333,
             "#9c179e"
            ],
            [
             0.4444444444444444,
             "#bd3786"
            ],
            [
             0.5555555555555556,
             "#d8576b"
            ],
            [
             0.6666666666666666,
             "#ed7953"
            ],
            [
             0.7777777777777778,
             "#fb9f3a"
            ],
            [
             0.8888888888888888,
             "#fdca26"
            ],
            [
             1,
             "#f0f921"
            ]
           ]
          },
          "colorway": [
           "#636efa",
           "#EF553B",
           "#00cc96",
           "#ab63fa",
           "#FFA15A",
           "#19d3f3",
           "#FF6692",
           "#B6E880",
           "#FF97FF",
           "#FECB52"
          ],
          "font": {
           "color": "#2a3f5f"
          },
          "geo": {
           "bgcolor": "white",
           "lakecolor": "white",
           "landcolor": "#E5ECF6",
           "showlakes": true,
           "showland": true,
           "subunitcolor": "white"
          },
          "hoverlabel": {
           "align": "left"
          },
          "hovermode": "closest",
          "mapbox": {
           "style": "light"
          },
          "paper_bgcolor": "white",
          "plot_bgcolor": "#E5ECF6",
          "polar": {
           "angularaxis": {
            "gridcolor": "white",
            "linecolor": "white",
            "ticks": ""
           },
           "bgcolor": "#E5ECF6",
           "radialaxis": {
            "gridcolor": "white",
            "linecolor": "white",
            "ticks": ""
           }
          },
          "scene": {
           "xaxis": {
            "backgroundcolor": "#E5ECF6",
            "gridcolor": "white",
            "gridwidth": 2,
            "linecolor": "white",
            "showbackground": true,
            "ticks": "",
            "zerolinecolor": "white"
           },
           "yaxis": {
            "backgroundcolor": "#E5ECF6",
            "gridcolor": "white",
            "gridwidth": 2,
            "linecolor": "white",
            "showbackground": true,
            "ticks": "",
            "zerolinecolor": "white"
           },
           "zaxis": {
            "backgroundcolor": "#E5ECF6",
            "gridcolor": "white",
            "gridwidth": 2,
            "linecolor": "white",
            "showbackground": true,
            "ticks": "",
            "zerolinecolor": "white"
           }
          },
          "shapedefaults": {
           "line": {
            "color": "#2a3f5f"
           }
          },
          "ternary": {
           "aaxis": {
            "gridcolor": "white",
            "linecolor": "white",
            "ticks": ""
           },
           "baxis": {
            "gridcolor": "white",
            "linecolor": "white",
            "ticks": ""
           },
           "bgcolor": "#E5ECF6",
           "caxis": {
            "gridcolor": "white",
            "linecolor": "white",
            "ticks": ""
           }
          },
          "title": {
           "x": 0.05
          },
          "xaxis": {
           "automargin": true,
           "gridcolor": "white",
           "linecolor": "white",
           "ticks": "",
           "title": {
            "standoff": 15
           },
           "zerolinecolor": "white",
           "zerolinewidth": 2
          },
          "yaxis": {
           "automargin": true,
           "gridcolor": "white",
           "linecolor": "white",
           "ticks": "",
           "title": {
            "standoff": 15
           },
           "zerolinecolor": "white",
           "zerolinewidth": 2
          }
         }
        },
        "title": {
         "font": {
          "color": "black",
          "size": 24
         },
         "text": "Distribution of Male and Female Psychiatric Inpatients by Hospital <br><sup>Ireland 2019-2022</sup>"
        },
        "xaxis": {
         "anchor": "y",
         "domain": [
          0,
          0.15
         ],
         "linecolor": "black",
         "showgrid": false,
         "showticklabels": true,
         "tickfont": {
          "color": "black",
          "size": 14
         },
         "title": {
          "font": {
           "color": "black",
           "size": 18
          },
          "text": "Year"
         },
         "zeroline": false
        },
        "xaxis2": {
         "anchor": "y2",
         "domain": [
          0.16999999999999998,
          0.31999999999999995
         ],
         "matches": "x",
         "title": {
          "text": "Year"
         }
        },
        "xaxis3": {
         "anchor": "y3",
         "domain": [
          0.33999999999999997,
          0.49
         ],
         "matches": "x",
         "title": {
          "text": "Year"
         }
        },
        "xaxis4": {
         "anchor": "y4",
         "domain": [
          0.51,
          0.66
         ],
         "matches": "x",
         "title": {
          "text": "Year"
         }
        },
        "xaxis5": {
         "anchor": "y5",
         "domain": [
          0.6799999999999999,
          0.83
         ],
         "matches": "x",
         "title": {
          "text": "Year"
         }
        },
        "xaxis6": {
         "anchor": "y6",
         "domain": [
          0.85,
          1
         ],
         "matches": "x",
         "title": {
          "text": "Year"
         }
        },
        "yaxis": {
         "anchor": "x",
         "domain": [
          0,
          1
         ],
         "linecolor": "black",
         "showgrid": false,
         "showticklabels": true,
         "tickfont": {
          "color": "black",
          "size": 14
         },
         "title": {
          "font": {
           "color": "black",
           "size": 18
          },
          "text": "Number of Patients"
         },
         "zeroline": false
        },
        "yaxis2": {
         "anchor": "x2",
         "domain": [
          0,
          1
         ],
         "matches": "y",
         "showticklabels": false
        },
        "yaxis3": {
         "anchor": "x3",
         "domain": [
          0,
          1
         ],
         "matches": "y",
         "showticklabels": false
        },
        "yaxis4": {
         "anchor": "x4",
         "domain": [
          0,
          1
         ],
         "matches": "y",
         "showticklabels": false
        },
        "yaxis5": {
         "anchor": "x5",
         "domain": [
          0,
          1
         ],
         "matches": "y",
         "showticklabels": false
        },
        "yaxis6": {
         "anchor": "x6",
         "domain": [
          0,
          1
         ],
         "matches": "y",
         "showticklabels": false
        }
       }
      },
      "text/html": [
       "<div>                            <div id=\"0a5b22fe-7810-4aea-9acb-0158298886ce\" class=\"plotly-graph-div\" style=\"height:525px; width:100%;\"></div>            <script type=\"text/javascript\">                require([\"plotly\"], function(Plotly) {                    window.PLOTLYENV=window.PLOTLYENV || {};                                    if (document.getElementById(\"0a5b22fe-7810-4aea-9acb-0158298886ce\")) {                    Plotly.newPlot(                        \"0a5b22fe-7810-4aea-9acb-0158298886ce\",                        [{\"alignmentgroup\":\"True\",\"hovertemplate\":\"Sex=Male\\u003cbr\\u003eType of Hospital=CMH_Dub\\u003cbr\\u003eYear=%{x}\\u003cbr\\u003eNumber of Patients=%{y}\\u003cextra\\u003e\\u003c\\u002fextra\\u003e\",\"legendgroup\":\"Male\",\"marker\":{\"color\":\"#202A44\",\"pattern\":{\"shape\":\"\"}},\"name\":\"Male\",\"offsetgroup\":\"Male\",\"orientation\":\"v\",\"showlegend\":true,\"textposition\":\"auto\",\"x\":[2019,2020,2021,2022],\"xaxis\":\"x\",\"y\":[92.0,92.0,88.0,88.0],\"yaxis\":\"y\",\"type\":\"bar\"},{\"alignmentgroup\":\"True\",\"hovertemplate\":\"Sex=Male\\u003cbr\\u003eType of Hospital=St.Josephs\\u003cbr\\u003eYear=%{x}\\u003cbr\\u003eNumber of Patients=%{y}\\u003cextra\\u003e\\u003c\\u002fextra\\u003e\",\"legendgroup\":\"Male\",\"marker\":{\"color\":\"#202A44\",\"pattern\":{\"shape\":\"\"}},\"name\":\"Male\",\"offsetgroup\":\"Male\",\"orientation\":\"v\",\"showlegend\":false,\"textposition\":\"auto\",\"x\":[2019,2020,2021,2022],\"xaxis\":\"x2\",\"y\":[54.0,51.0,46.0,41.0],\"yaxis\":\"y2\",\"type\":\"bar\"},{\"alignmentgroup\":\"True\",\"hovertemplate\":\"Sex=Male\\u003cbr\\u003eType of Hospital=Carraig M\\u00f3r\\u003cbr\\u003eYear=%{x}\\u003cbr\\u003eNumber of Patients=%{y}\\u003cextra\\u003e\\u003c\\u002fextra\\u003e\",\"legendgroup\":\"Male\",\"marker\":{\"color\":\"#202A44\",\"pattern\":{\"shape\":\"\"}},\"name\":\"Male\",\"offsetgroup\":\"Male\",\"orientation\":\"v\",\"showlegend\":false,\"textposition\":\"auto\",\"x\":[2019,2020,2021,2022],\"xaxis\":\"x3\",\"y\":[11.0,6.0,4.0,3.0],\"yaxis\":\"y3\",\"type\":\"bar\"},{\"alignmentgroup\":\"True\",\"hovertemplate\":\"Sex=Male\\u003cbr\\u003eType of Hospital=GHPU\\u003cbr\\u003eYear=%{x}\\u003cbr\\u003eNumber of Patients=%{y}\\u003cextra\\u003e\\u003c\\u002fextra\\u003e\",\"legendgroup\":\"Male\",\"marker\":{\"color\":\"#202A44\",\"pattern\":{\"shape\":\"\"}},\"name\":\"Male\",\"offsetgroup\":\"Male\",\"orientation\":\"v\",\"showlegend\":false,\"textposition\":\"auto\",\"x\":[2019,2020,2021,2022],\"xaxis\":\"x4\",\"y\":[398.0,333.0,378.0,404.0],\"yaxis\":\"y4\",\"type\":\"bar\"},{\"alignmentgroup\":\"True\",\"hovertemplate\":\"Sex=Male\\u003cbr\\u003eType of Hospital=PH\\u002fCCU\\u003cbr\\u003eYear=%{x}\\u003cbr\\u003eNumber of Patients=%{y}\\u003cextra\\u003e\\u003c\\u002fextra\\u003e\",\"legendgroup\":\"Male\",\"marker\":{\"color\":\"#202A44\",\"pattern\":{\"shape\":\"\"}},\"name\":\"Male\",\"offsetgroup\":\"Male\",\"orientation\":\"v\",\"showlegend\":false,\"textposition\":\"auto\",\"x\":[2019,2020,2021,2022],\"xaxis\":\"x5\",\"y\":[427.0,337.0,318.0,315.0],\"yaxis\":\"y5\",\"type\":\"bar\"},{\"alignmentgroup\":\"True\",\"hovertemplate\":\"Sex=Male\\u003cbr\\u003eType of Hospital=Private\\u003cbr\\u003eYear=%{x}\\u003cbr\\u003eNumber of Patients=%{y}\\u003cextra\\u003e\\u003c\\u002fextra\\u003e\",\"legendgroup\":\"Male\",\"marker\":{\"color\":\"#202A44\",\"pattern\":{\"shape\":\"\"}},\"name\":\"Male\",\"offsetgroup\":\"Male\",\"orientation\":\"v\",\"showlegend\":false,\"textposition\":\"auto\",\"x\":[2019,2020,2021,2022],\"xaxis\":\"x6\",\"y\":[282.0,182.0,198.0,205.0],\"yaxis\":\"y6\",\"type\":\"bar\"},{\"alignmentgroup\":\"True\",\"hovertemplate\":\"Sex=Female\\u003cbr\\u003eType of Hospital=CMH_Dub\\u003cbr\\u003eYear=%{x}\\u003cbr\\u003eNumber of Patients=%{y}\\u003cextra\\u003e\\u003c\\u002fextra\\u003e\",\"legendgroup\":\"Female\",\"marker\":{\"color\":\"#997b84\",\"pattern\":{\"shape\":\"\"}},\"name\":\"Female\",\"offsetgroup\":\"Female\",\"orientation\":\"v\",\"showlegend\":true,\"textposition\":\"auto\",\"x\":[2019,2020,2021,2022],\"xaxis\":\"x\",\"y\":[11.0,10.0,10.0,10.0],\"yaxis\":\"y\",\"type\":\"bar\"},{\"alignmentgroup\":\"True\",\"hovertemplate\":\"Sex=Female\\u003cbr\\u003eType of Hospital=St.Josephs\\u003cbr\\u003eYear=%{x}\\u003cbr\\u003eNumber of Patients=%{y}\\u003cextra\\u003e\\u003c\\u002fextra\\u003e\",\"legendgroup\":\"Female\",\"marker\":{\"color\":\"#997b84\",\"pattern\":{\"shape\":\"\"}},\"name\":\"Female\",\"offsetgroup\":\"Female\",\"orientation\":\"v\",\"showlegend\":false,\"textposition\":\"auto\",\"x\":[2019,2020,2021,2022],\"xaxis\":\"x2\",\"y\":[22.0,19.0,18.0,15.0],\"yaxis\":\"y2\",\"type\":\"bar\"},{\"alignmentgroup\":\"True\",\"hovertemplate\":\"Sex=Female\\u003cbr\\u003eType of Hospital=Carraig M\\u00f3r\\u003cbr\\u003eYear=%{x}\\u003cbr\\u003eNumber of Patients=%{y}\\u003cextra\\u003e\\u003c\\u002fextra\\u003e\",\"legendgroup\":\"Female\",\"marker\":{\"color\":\"#997b84\",\"pattern\":{\"shape\":\"\"}},\"name\":\"Female\",\"offsetgroup\":\"Female\",\"orientation\":\"v\",\"showlegend\":false,\"textposition\":\"auto\",\"x\":[2019,2020,2021,2022],\"xaxis\":\"x3\",\"y\":[4.0,4.0,2.0,1.0],\"yaxis\":\"y3\",\"type\":\"bar\"},{\"alignmentgroup\":\"True\",\"hovertemplate\":\"Sex=Female\\u003cbr\\u003eType of Hospital=GHPU\\u003cbr\\u003eYear=%{x}\\u003cbr\\u003eNumber of Patients=%{y}\\u003cextra\\u003e\\u003c\\u002fextra\\u003e\",\"legendgroup\":\"Female\",\"marker\":{\"color\":\"#997b84\",\"pattern\":{\"shape\":\"\"}},\"name\":\"Female\",\"offsetgroup\":\"Female\",\"orientation\":\"v\",\"showlegend\":false,\"textposition\":\"auto\",\"x\":[2019,2020,2021,2022],\"xaxis\":\"x4\",\"y\":[401.0,295.0,333.0,340.0],\"yaxis\":\"y4\",\"type\":\"bar\"},{\"alignmentgroup\":\"True\",\"hovertemplate\":\"Sex=Female\\u003cbr\\u003eType of Hospital=PH\\u002fCCU\\u003cbr\\u003eYear=%{x}\\u003cbr\\u003eNumber of Patients=%{y}\\u003cextra\\u003e\\u003c\\u002fextra\\u003e\",\"legendgroup\":\"Female\",\"marker\":{\"color\":\"#997b84\",\"pattern\":{\"shape\":\"\"}},\"name\":\"Female\",\"offsetgroup\":\"Female\",\"orientation\":\"v\",\"showlegend\":false,\"textposition\":\"auto\",\"x\":[2019,2020,2021,2022],\"xaxis\":\"x5\",\"y\":[262.0,230.0,234.0,240.0],\"yaxis\":\"y5\",\"type\":\"bar\"},{\"alignmentgroup\":\"True\",\"hovertemplate\":\"Sex=Female\\u003cbr\\u003eType of Hospital=Private\\u003cbr\\u003eYear=%{x}\\u003cbr\\u003eNumber of Patients=%{y}\\u003cextra\\u003e\\u003c\\u002fextra\\u003e\",\"legendgroup\":\"Female\",\"marker\":{\"color\":\"#997b84\",\"pattern\":{\"shape\":\"\"}},\"name\":\"Female\",\"offsetgroup\":\"Female\",\"orientation\":\"v\",\"showlegend\":false,\"textposition\":\"auto\",\"x\":[2019,2020,2021,2022],\"xaxis\":\"x6\",\"y\":[344.0,267.0,242.0,251.0],\"yaxis\":\"y6\",\"type\":\"bar\"}],                        {\"template\":{\"data\":{\"histogram2dcontour\":[{\"type\":\"histogram2dcontour\",\"colorbar\":{\"outlinewidth\":0,\"ticks\":\"\"},\"colorscale\":[[0.0,\"#0d0887\"],[0.1111111111111111,\"#46039f\"],[0.2222222222222222,\"#7201a8\"],[0.3333333333333333,\"#9c179e\"],[0.4444444444444444,\"#bd3786\"],[0.5555555555555556,\"#d8576b\"],[0.6666666666666666,\"#ed7953\"],[0.7777777777777778,\"#fb9f3a\"],[0.8888888888888888,\"#fdca26\"],[1.0,\"#f0f921\"]]}],\"choropleth\":[{\"type\":\"choropleth\",\"colorbar\":{\"outlinewidth\":0,\"ticks\":\"\"}}],\"histogram2d\":[{\"type\":\"histogram2d\",\"colorbar\":{\"outlinewidth\":0,\"ticks\":\"\"},\"colorscale\":[[0.0,\"#0d0887\"],[0.1111111111111111,\"#46039f\"],[0.2222222222222222,\"#7201a8\"],[0.3333333333333333,\"#9c179e\"],[0.4444444444444444,\"#bd3786\"],[0.5555555555555556,\"#d8576b\"],[0.6666666666666666,\"#ed7953\"],[0.7777777777777778,\"#fb9f3a\"],[0.8888888888888888,\"#fdca26\"],[1.0,\"#f0f921\"]]}],\"heatmap\":[{\"type\":\"heatmap\",\"colorbar\":{\"outlinewidth\":0,\"ticks\":\"\"},\"colorscale\":[[0.0,\"#0d0887\"],[0.1111111111111111,\"#46039f\"],[0.2222222222222222,\"#7201a8\"],[0.3333333333333333,\"#9c179e\"],[0.4444444444444444,\"#bd3786\"],[0.5555555555555556,\"#d8576b\"],[0.6666666666666666,\"#ed7953\"],[0.7777777777777778,\"#fb9f3a\"],[0.8888888888888888,\"#fdca26\"],[1.0,\"#f0f921\"]]}],\"heatmapgl\":[{\"type\":\"heatmapgl\",\"colorbar\":{\"outlinewidth\":0,\"ticks\":\"\"},\"colorscale\":[[0.0,\"#0d0887\"],[0.1111111111111111,\"#46039f\"],[0.2222222222222222,\"#7201a8\"],[0.3333333333333333,\"#9c179e\"],[0.4444444444444444,\"#bd3786\"],[0.5555555555555556,\"#d8576b\"],[0.6666666666666666,\"#ed7953\"],[0.7777777777777778,\"#fb9f3a\"],[0.8888888888888888,\"#fdca26\"],[1.0,\"#f0f921\"]]}],\"contourcarpet\":[{\"type\":\"contourcarpet\",\"colorbar\":{\"outlinewidth\":0,\"ticks\":\"\"}}],\"contour\":[{\"type\":\"contour\",\"colorbar\":{\"outlinewidth\":0,\"ticks\":\"\"},\"colorscale\":[[0.0,\"#0d0887\"],[0.1111111111111111,\"#46039f\"],[0.2222222222222222,\"#7201a8\"],[0.3333333333333333,\"#9c179e\"],[0.4444444444444444,\"#bd3786\"],[0.5555555555555556,\"#d8576b\"],[0.6666666666666666,\"#ed7953\"],[0.7777777777777778,\"#fb9f3a\"],[0.8888888888888888,\"#fdca26\"],[1.0,\"#f0f921\"]]}],\"surface\":[{\"type\":\"surface\",\"colorbar\":{\"outlinewidth\":0,\"ticks\":\"\"},\"colorscale\":[[0.0,\"#0d0887\"],[0.1111111111111111,\"#46039f\"],[0.2222222222222222,\"#7201a8\"],[0.3333333333333333,\"#9c179e\"],[0.4444444444444444,\"#bd3786\"],[0.5555555555555556,\"#d8576b\"],[0.6666666666666666,\"#ed7953\"],[0.7777777777777778,\"#fb9f3a\"],[0.8888888888888888,\"#fdca26\"],[1.0,\"#f0f921\"]]}],\"mesh3d\":[{\"type\":\"mesh3d\",\"colorbar\":{\"outlinewidth\":0,\"ticks\":\"\"}}],\"scatter\":[{\"fillpattern\":{\"fillmode\":\"overlay\",\"size\":10,\"solidity\":0.2},\"type\":\"scatter\"}],\"parcoords\":[{\"type\":\"parcoords\",\"line\":{\"colorbar\":{\"outlinewidth\":0,\"ticks\":\"\"}}}],\"scatterpolargl\":[{\"type\":\"scatterpolargl\",\"marker\":{\"colorbar\":{\"outlinewidth\":0,\"ticks\":\"\"}}}],\"bar\":[{\"error_x\":{\"color\":\"#2a3f5f\"},\"error_y\":{\"color\":\"#2a3f5f\"},\"marker\":{\"line\":{\"color\":\"#E5ECF6\",\"width\":0.5},\"pattern\":{\"fillmode\":\"overlay\",\"size\":10,\"solidity\":0.2}},\"type\":\"bar\"}],\"scattergeo\":[{\"type\":\"scattergeo\",\"marker\":{\"colorbar\":{\"outlinewidth\":0,\"ticks\":\"\"}}}],\"scatterpolar\":[{\"type\":\"scatterpolar\",\"marker\":{\"colorbar\":{\"outlinewidth\":0,\"ticks\":\"\"}}}],\"histogram\":[{\"marker\":{\"pattern\":{\"fillmode\":\"overlay\",\"size\":10,\"solidity\":0.2}},\"type\":\"histogram\"}],\"scattergl\":[{\"type\":\"scattergl\",\"marker\":{\"colorbar\":{\"outlinewidth\":0,\"ticks\":\"\"}}}],\"scatter3d\":[{\"type\":\"scatter3d\",\"line\":{\"colorbar\":{\"outlinewidth\":0,\"ticks\":\"\"}},\"marker\":{\"colorbar\":{\"outlinewidth\":0,\"ticks\":\"\"}}}],\"scattermapbox\":[{\"type\":\"scattermapbox\",\"marker\":{\"colorbar\":{\"outlinewidth\":0,\"ticks\":\"\"}}}],\"scatterternary\":[{\"type\":\"scatterternary\",\"marker\":{\"colorbar\":{\"outlinewidth\":0,\"ticks\":\"\"}}}],\"scattercarpet\":[{\"type\":\"scattercarpet\",\"marker\":{\"colorbar\":{\"outlinewidth\":0,\"ticks\":\"\"}}}],\"carpet\":[{\"aaxis\":{\"endlinecolor\":\"#2a3f5f\",\"gridcolor\":\"white\",\"linecolor\":\"white\",\"minorgridcolor\":\"white\",\"startlinecolor\":\"#2a3f5f\"},\"baxis\":{\"endlinecolor\":\"#2a3f5f\",\"gridcolor\":\"white\",\"linecolor\":\"white\",\"minorgridcolor\":\"white\",\"startlinecolor\":\"#2a3f5f\"},\"type\":\"carpet\"}],\"table\":[{\"cells\":{\"fill\":{\"color\":\"#EBF0F8\"},\"line\":{\"color\":\"white\"}},\"header\":{\"fill\":{\"color\":\"#C8D4E3\"},\"line\":{\"color\":\"white\"}},\"type\":\"table\"}],\"barpolar\":[{\"marker\":{\"line\":{\"color\":\"#E5ECF6\",\"width\":0.5},\"pattern\":{\"fillmode\":\"overlay\",\"size\":10,\"solidity\":0.2}},\"type\":\"barpolar\"}],\"pie\":[{\"automargin\":true,\"type\":\"pie\"}]},\"layout\":{\"autotypenumbers\":\"strict\",\"colorway\":[\"#636efa\",\"#EF553B\",\"#00cc96\",\"#ab63fa\",\"#FFA15A\",\"#19d3f3\",\"#FF6692\",\"#B6E880\",\"#FF97FF\",\"#FECB52\"],\"font\":{\"color\":\"#2a3f5f\"},\"hovermode\":\"closest\",\"hoverlabel\":{\"align\":\"left\"},\"paper_bgcolor\":\"white\",\"plot_bgcolor\":\"#E5ECF6\",\"polar\":{\"bgcolor\":\"#E5ECF6\",\"angularaxis\":{\"gridcolor\":\"white\",\"linecolor\":\"white\",\"ticks\":\"\"},\"radialaxis\":{\"gridcolor\":\"white\",\"linecolor\":\"white\",\"ticks\":\"\"}},\"ternary\":{\"bgcolor\":\"#E5ECF6\",\"aaxis\":{\"gridcolor\":\"white\",\"linecolor\":\"white\",\"ticks\":\"\"},\"baxis\":{\"gridcolor\":\"white\",\"linecolor\":\"white\",\"ticks\":\"\"},\"caxis\":{\"gridcolor\":\"white\",\"linecolor\":\"white\",\"ticks\":\"\"}},\"coloraxis\":{\"colorbar\":{\"outlinewidth\":0,\"ticks\":\"\"}},\"colorscale\":{\"sequential\":[[0.0,\"#0d0887\"],[0.1111111111111111,\"#46039f\"],[0.2222222222222222,\"#7201a8\"],[0.3333333333333333,\"#9c179e\"],[0.4444444444444444,\"#bd3786\"],[0.5555555555555556,\"#d8576b\"],[0.6666666666666666,\"#ed7953\"],[0.7777777777777778,\"#fb9f3a\"],[0.8888888888888888,\"#fdca26\"],[1.0,\"#f0f921\"]],\"sequentialminus\":[[0.0,\"#0d0887\"],[0.1111111111111111,\"#46039f\"],[0.2222222222222222,\"#7201a8\"],[0.3333333333333333,\"#9c179e\"],[0.4444444444444444,\"#bd3786\"],[0.5555555555555556,\"#d8576b\"],[0.6666666666666666,\"#ed7953\"],[0.7777777777777778,\"#fb9f3a\"],[0.8888888888888888,\"#fdca26\"],[1.0,\"#f0f921\"]],\"diverging\":[[0,\"#8e0152\"],[0.1,\"#c51b7d\"],[0.2,\"#de77ae\"],[0.3,\"#f1b6da\"],[0.4,\"#fde0ef\"],[0.5,\"#f7f7f7\"],[0.6,\"#e6f5d0\"],[0.7,\"#b8e186\"],[0.8,\"#7fbc41\"],[0.9,\"#4d9221\"],[1,\"#276419\"]]},\"xaxis\":{\"gridcolor\":\"white\",\"linecolor\":\"white\",\"ticks\":\"\",\"title\":{\"standoff\":15},\"zerolinecolor\":\"white\",\"automargin\":true,\"zerolinewidth\":2},\"yaxis\":{\"gridcolor\":\"white\",\"linecolor\":\"white\",\"ticks\":\"\",\"title\":{\"standoff\":15},\"zerolinecolor\":\"white\",\"automargin\":true,\"zerolinewidth\":2},\"scene\":{\"xaxis\":{\"backgroundcolor\":\"#E5ECF6\",\"gridcolor\":\"white\",\"linecolor\":\"white\",\"showbackground\":true,\"ticks\":\"\",\"zerolinecolor\":\"white\",\"gridwidth\":2},\"yaxis\":{\"backgroundcolor\":\"#E5ECF6\",\"gridcolor\":\"white\",\"linecolor\":\"white\",\"showbackground\":true,\"ticks\":\"\",\"zerolinecolor\":\"white\",\"gridwidth\":2},\"zaxis\":{\"backgroundcolor\":\"#E5ECF6\",\"gridcolor\":\"white\",\"linecolor\":\"white\",\"showbackground\":true,\"ticks\":\"\",\"zerolinecolor\":\"white\",\"gridwidth\":2}},\"shapedefaults\":{\"line\":{\"color\":\"#2a3f5f\"}},\"annotationdefaults\":{\"arrowcolor\":\"#2a3f5f\",\"arrowhead\":0,\"arrowwidth\":1},\"geo\":{\"bgcolor\":\"white\",\"landcolor\":\"#E5ECF6\",\"subunitcolor\":\"white\",\"showland\":true,\"showlakes\":true,\"lakecolor\":\"white\"},\"title\":{\"x\":0.05},\"mapbox\":{\"style\":\"light\"}}},\"xaxis\":{\"anchor\":\"y\",\"domain\":[0.0,0.15],\"title\":{\"text\":\"Year\",\"font\":{\"size\":18,\"color\":\"black\"}},\"tickfont\":{\"size\":14,\"color\":\"black\"},\"showgrid\":false,\"zeroline\":false,\"showticklabels\":true,\"linecolor\":\"black\"},\"yaxis\":{\"anchor\":\"x\",\"domain\":[0.0,1.0],\"title\":{\"text\":\"Number of Patients\",\"font\":{\"size\":18,\"color\":\"black\"}},\"tickfont\":{\"size\":14,\"color\":\"black\"},\"showgrid\":false,\"zeroline\":false,\"showticklabels\":true,\"linecolor\":\"black\"},\"xaxis2\":{\"anchor\":\"y2\",\"domain\":[0.16999999999999998,0.31999999999999995],\"matches\":\"x\",\"title\":{\"text\":\"Year\"}},\"yaxis2\":{\"anchor\":\"x2\",\"domain\":[0.0,1.0],\"matches\":\"y\",\"showticklabels\":false},\"xaxis3\":{\"anchor\":\"y3\",\"domain\":[0.33999999999999997,0.49],\"matches\":\"x\",\"title\":{\"text\":\"Year\"}},\"yaxis3\":{\"anchor\":\"x3\",\"domain\":[0.0,1.0],\"matches\":\"y\",\"showticklabels\":false},\"xaxis4\":{\"anchor\":\"y4\",\"domain\":[0.51,0.66],\"matches\":\"x\",\"title\":{\"text\":\"Year\"}},\"yaxis4\":{\"anchor\":\"x4\",\"domain\":[0.0,1.0],\"matches\":\"y\",\"showticklabels\":false},\"xaxis5\":{\"anchor\":\"y5\",\"domain\":[0.6799999999999999,0.83],\"matches\":\"x\",\"title\":{\"text\":\"Year\"}},\"yaxis5\":{\"anchor\":\"x5\",\"domain\":[0.0,1.0],\"matches\":\"y\",\"showticklabels\":false},\"xaxis6\":{\"anchor\":\"y6\",\"domain\":[0.85,1.0],\"matches\":\"x\",\"title\":{\"text\":\"Year\"}},\"yaxis6\":{\"anchor\":\"x6\",\"domain\":[0.0,1.0],\"matches\":\"y\",\"showticklabels\":false},\"annotations\":[{\"font\":{\"size\":14,\"color\":\"black\",\"family\":\"Arial, bold\"},\"showarrow\":false,\"text\":\"CMH_Dub\",\"x\":0.075,\"xanchor\":\"center\",\"xref\":\"paper\",\"y\":1.0,\"yanchor\":\"bottom\",\"yref\":\"paper\"},{\"font\":{\"size\":14,\"color\":\"black\",\"family\":\"Arial, bold\"},\"showarrow\":false,\"text\":\"St.Josephs\",\"x\":0.24499999999999997,\"xanchor\":\"center\",\"xref\":\"paper\",\"y\":1.0,\"yanchor\":\"bottom\",\"yref\":\"paper\"},{\"font\":{\"size\":14,\"color\":\"black\",\"family\":\"Arial, bold\"},\"showarrow\":false,\"text\":\"Carraig M\\u00f3r\",\"x\":0.415,\"xanchor\":\"center\",\"xref\":\"paper\",\"y\":1.0,\"yanchor\":\"bottom\",\"yref\":\"paper\"},{\"font\":{\"size\":14,\"color\":\"black\",\"family\":\"Arial, bold\"},\"showarrow\":false,\"text\":\"GHPU\",\"x\":0.585,\"xanchor\":\"center\",\"xref\":\"paper\",\"y\":1.0,\"yanchor\":\"bottom\",\"yref\":\"paper\"},{\"font\":{\"size\":14,\"color\":\"black\",\"family\":\"Arial, bold\"},\"showarrow\":false,\"text\":\"PH\\u002fCCU\",\"x\":0.7549999999999999,\"xanchor\":\"center\",\"xref\":\"paper\",\"y\":1.0,\"yanchor\":\"bottom\",\"yref\":\"paper\"},{\"font\":{\"size\":14,\"color\":\"black\",\"family\":\"Arial, bold\"},\"showarrow\":false,\"text\":\"Private\",\"x\":0.925,\"xanchor\":\"center\",\"xref\":\"paper\",\"y\":1.0,\"yanchor\":\"bottom\",\"yref\":\"paper\"}],\"legend\":{\"title\":{\"text\":\"Sex\"},\"tracegroupgap\":0},\"title\":{\"text\":\"Distribution of Male and Female Psychiatric Inpatients by Hospital \\u003cbr\\u003e\\u003csup\\u003eIreland 2019-2022\\u003c\\u002fsup\\u003e\",\"font\":{\"size\":24,\"color\":\"black\"}},\"barmode\":\"group\",\"plot_bgcolor\":\"rgba(0, 0, 0, 0)\",\"paper_bgcolor\":\"rgba(0, 0, 0, 0)\",\"shapes\":[{\"line\":{\"color\":\"black\"},\"type\":\"line\",\"x0\":0,\"x1\":1,\"xref\":\"paper\",\"y0\":0,\"y1\":0,\"yref\":\"paper\"}]},                        {\"responsive\": true}                    ).then(function(){\n",
       "                            \n",
       "var gd = document.getElementById('0a5b22fe-7810-4aea-9acb-0158298886ce');\n",
       "var x = new MutationObserver(function (mutations, observer) {{\n",
       "        var display = window.getComputedStyle(gd).display;\n",
       "        if (!display || display === 'none') {{\n",
       "            console.log([gd, 'removed!']);\n",
       "            Plotly.purge(gd);\n",
       "            observer.disconnect();\n",
       "        }}\n",
       "}});\n",
       "\n",
       "// Listen for the removal of the full notebook cells\n",
       "var notebookContainer = gd.closest('#notebook-container');\n",
       "if (notebookContainer) {{\n",
       "    x.observe(notebookContainer, {childList: true});\n",
       "}}\n",
       "\n",
       "// Listen for the clearing of the current output cell\n",
       "var outputEl = gd.closest('.output');\n",
       "if (outputEl) {{\n",
       "    x.observe(outputEl, {childList: true});\n",
       "}}\n",
       "\n",
       "                        })                };                });            </script>        </div>"
      ]
     },
     "metadata": {},
     "output_type": "display_data"
    }
   ],
   "source": [
    "df_filtered = sex[sex['Year'].isin([2019, 2020, 2021, 2022])].copy()\n",
    "\n",
    "abbreviations = {\n",
    "    'Central Mental Hospital, Dublin': 'CMH_Dub',\n",
    "    \"St Joseph's Intellectual Disability Service\": 'St.Josephs',\n",
    "    'Carraig Mór, Cork': 'Carraig Mór',\n",
    "    'General hospital psychiatric units': 'GHPU',\n",
    "    'Psychiatric hospitals/continuing care units': 'PH/CCU',\n",
    "    'Private hospitals': 'Private'\n",
    "}\n",
    "\n",
    "df_filtered['Type of Hospital'] = df_filtered['Type of Hospital'].map(abbreviations)\n",
    "\n",
    "colors = {'Female': '#997b84', 'Male': '#202A44'}\n",
    "\n",
    "fig1 = px.bar(df_filtered, x='Year', y='VALUE', color='Sex', barmode='group',\n",
    "              labels={'VALUE':'Number of Patients', 'Year':'Year'},\n",
    "              title='Distribution of Male and Female Psychiatric Inpatients Total <br><sup>Ireland 2019-2022</sup>', color_discrete_map=colors)\n",
    "\n",
    "fig1.update_layout({\n",
    "    'plot_bgcolor': 'rgba(0, 0, 0, 0)',\n",
    "    'paper_bgcolor': 'rgba(0, 0, 0, 0)',\n",
    "    'xaxis': dict(showgrid=False, zeroline=False, showticklabels=True, linecolor='black', title_font=dict(size=18, color='black'), tickfont=dict(size=14, color='black')),\n",
    "    'yaxis': dict(showgrid=False, zeroline=False, showticklabels=True, linecolor='black', title_font=dict(size=18, color='black'), tickfont=dict(size=14, color='black')),\n",
    "    'title_font': dict(size=24, color='black')\n",
    "})\n",
    "\n",
    "fig1.show()\n",
    "\n",
    "fig2 = px.bar(df_filtered, x='Year', y='VALUE', color='Sex', facet_col='Type of Hospital', barmode='group',\n",
    "              labels={'VALUE':'Number of Patients', 'Year':'Year'},\n",
    "              title='Distribution of Male and Female Psychiatric Inpatients by Hospital <br><sup>Ireland 2019-2022</sup>', color_discrete_map=colors)\n",
    "\n",
    "fig2 = px.bar(df_filtered, x='Year', y='VALUE', color='Sex', facet_col='Type of Hospital', barmode='group',\n",
    "              labels={'VALUE':'Number of Patients', 'Year':'Year'},\n",
    "              title='Distribution of Male and Female Psychiatric Inpatients by Hospital <br><sup>Ireland 2019-2022</sup>', color_discrete_map=colors)\n",
    "\n",
    "fig2.update_layout({\n",
    "    'plot_bgcolor': 'rgba(0, 0, 0, 0)',\n",
    "    'paper_bgcolor': 'rgba(0, 0, 0, 0)',\n",
    "    'xaxis': dict(showgrid=False, zeroline=False, showticklabels=True, linecolor='black', title_font=dict(size=18, color='black'), tickfont=dict(size=14, color='black')),\n",
    "    'yaxis': dict(showgrid=False, zeroline=False, showticklabels=True, linecolor='black', title_font=dict(size=18, color='black'), tickfont=dict(size=14, color='black')),\n",
    "    'title_font': dict(size=24, color='black'),\n",
    "    'annotations': [dict(text=a.text,\n",
    "                         font=dict(size=14, color='black', family='Arial, bold'),\n",
    "                         x=a.x,\n",
    "                         y=a.y,\n",
    "                         showarrow=False) for a in fig2.layout.annotations],\n",
    "    'shapes': [dict(type='line',\n",
    "                    yref='paper', y0=0, y1=0,\n",
    "                    xref='paper', x0=0, x1=1,\n",
    "                    line=dict(color='black'))]\n",
    "})\n",
    "\n",
    "for a in fig2.layout.annotations:\n",
    "    if '=' in a.text:\n",
    "        a.text = a.text.split('=')[1]\n",
    "\n",
    "fig2.show()"
   ]
  },
  {
   "cell_type": "markdown",
   "id": "4723900d",
   "metadata": {},
   "source": [
    "<h1> Below onwards requires improvements and further work <h1>"
   ]
  },
  {
   "cell_type": "markdown",
   "id": "de3284ac",
   "metadata": {},
   "source": [
    "In <b>Fig1</b> the total distribution for each gender illustrates year over year that males make up the greater psychiatric inpatient totals. <b> Unfinished interpretation </b>"
   ]
  },
  {
   "cell_type": "code",
   "execution_count": 70,
   "id": "ad6e0bfd",
   "metadata": {},
   "outputs": [
    {
     "data": {
      "image/png": "[encoded data removed]",
      "text/plain": [
       "<Figure size 432x288 with 1 Axes>"
      ]
     },
     "metadata": {
      "needs_background": "light"
     },
     "output_type": "display_data"
    }
   ],
   "source": [
    "from scipy.stats import poisson, binom\n",
    "\n",
    "data = df_filtered['VALUE']\n",
    "\n",
    "lambda_parameter = np.mean(data)\n",
    "\n",
    "poisson_data = poisson.rvs(mu=lambda_parameter, size=len(data))\n",
    "\n",
    "plt.hist(poisson_data, bins=30, density=True, alpha=0.5)\n",
    "plt.title('Poisson Distribution')\n",
    "plt.show()\n",
    "\n"
   ]
  },
  {
   "cell_type": "code",
   "execution_count": 73,
   "id": "7335d827",
   "metadata": {
    "scrolled": true
   },
   "outputs": [
    {
     "data": {
      "image/png": "[encoded data removed]",
      "text/plain": [
       "<Figure size 432x288 with 1 Axes>"
      ]
     },
     "metadata": {
      "needs_background": "light"
     },
     "output_type": "display_data"
    }
   ],
   "source": [
    "n_parameter = int(np.max(data))\n",
    "p_parameter = np.mean(data) / n_parameter\n",
    "\n",
    "binomial_data = binom.rvs(n=n_parameter, p=p_parameter, size=len(data))\n",
    "\n",
    "plt.hist(binomial_data, bins=30, density=True, alpha=0.5)\n",
    "plt.title('Poisson Distribution')\n",
    "plt.show()\n"
   ]
  },
  {
   "cell_type": "markdown",
   "id": "7a41bacb",
   "metadata": {},
   "source": [
    "The above code is incomplete and requires further tuning to specify the data more accurately. "
   ]
  },
  {
   "cell_type": "code",
   "execution_count": 76,
   "id": "4e0a52b0",
   "metadata": {},
   "outputs": [
    {
     "data": {
      "application/vnd.plotly.v1+json": {
       "config": {
        "plotlyServerURL": "https://plot.ly"
       },
       "data": [
        {
         "name": "Carraig Mór, Cork",
         "orientation": "h",
         "text": [
          "0.00%",
          "-33.33%"
         ],
         "textfont": {
          "size": 18
         },
         "textposition": "outside",
         "type": "bar",
         "x": [
          0,
          -33.333333333333336
         ],
         "y": [
          2019,
          2020
         ]
        },
        {
         "name": "Central Mental Hospital, Dublin",
         "orientation": "h",
         "text": [
          "0.00%",
          "-0.97%"
         ],
         "textfont": {
          "size": 18
         },
         "textposition": "outside",
         "type": "bar",
         "x": [
          0,
          -0.970873786407767
         ],
         "y": [
          2019,
          2020
         ]
        },
        {
         "name": "General hospital psychiatric units",
         "orientation": "h",
         "text": [
          "0.00%",
          "-21.40%"
         ],
         "textfont": {
          "size": 18
         },
         "textposition": "outside",
         "type": "bar",
         "x": [
          0,
          -21.401752190237797
         ],
         "y": [
          2019,
          2020
         ]
        },
        {
         "name": "Private hospitals",
         "orientation": "h",
         "text": [
          "0.00%",
          "-28.27%"
         ],
         "textfont": {
          "size": 18
         },
         "textposition": "outside",
         "type": "bar",
         "x": [
          0,
          -28.27476038338658
         ],
         "y": [
          2019,
          2020
         ]
        },
        {
         "name": "Psychiatric hospitals/continuing care units",
         "orientation": "h",
         "text": [
          "0.00%",
          "-17.71%"
         ],
         "textfont": {
          "size": 18
         },
         "textposition": "outside",
         "type": "bar",
         "x": [
          0,
          -17.706821480406386
         ],
         "y": [
          2019,
          2020
         ]
        },
        {
         "name": "St Joseph's Intellectual Disability Service",
         "orientation": "h",
         "text": [
          "0.00%",
          "-7.89%"
         ],
         "textfont": {
          "size": 18
         },
         "textposition": "outside",
         "type": "bar",
         "x": [
          0,
          -7.894736842105263
         ],
         "y": [
          2019,
          2020
         ]
        }
       ],
       "layout": {
        "autosize": false,
        "barmode": "group",
        "height": 360,
        "legend": {
         "orientation": "h",
         "x": 0.01,
         "y": 7
        },
        "template": {
         "data": {
          "bar": [
           {
            "error_x": {
             "color": "#2a3f5f"
            },
            "error_y": {
             "color": "#2a3f5f"
            },
            "marker": {
             "line": {
              "color": "#E5ECF6",
              "width": 0.5
             },
             "pattern": {
              "fillmode": "overlay",
              "size": 10,
              "solidity": 0.2
             }
            },
            "type": "bar"
           }
          ],
          "barpolar": [
           {
            "marker": {
             "line": {
              "color": "#E5ECF6",
              "width": 0.5
             },
             "pattern": {
              "fillmode": "overlay",
              "size": 10,
              "solidity": 0.2
             }
            },
            "type": "barpolar"
           }
          ],
          "carpet": [
           {
            "aaxis": {
             "endlinecolor": "#2a3f5f",
             "gridcolor": "white",
             "linecolor": "white",
             "minorgridcolor": "white",
             "startlinecolor": "#2a3f5f"
            },
            "baxis": {
             "endlinecolor": "#2a3f5f",
             "gridcolor": "white",
             "linecolor": "white",
             "minorgridcolor": "white",
             "startlinecolor": "#2a3f5f"
            },
            "type": "carpet"
           }
          ],
          "choropleth": [
           {
            "colorbar": {
             "outlinewidth": 0,
             "ticks": ""
            },
            "type": "choropleth"
           }
          ],
          "contour": [
           {
            "colorbar": {
             "outlinewidth": 0,
             "ticks": ""
            },
            "colorscale": [
             [
              0,
              "#0d0887"
             ],
             [
              0.1111111111111111,
              "#46039f"
             ],
             [
              0.2222222222222222,
              "#7201a8"
             ],
             [
              0.3333333333333333,
              "#9c179e"
             ],
             [
              0.4444444444444444,
              "#bd3786"
             ],
             [
              0.5555555555555556,
              "#d8576b"
             ],
             [
              0.6666666666666666,
              "#ed7953"
             ],
             [
              0.7777777777777778,
              "#fb9f3a"
             ],
             [
              0.8888888888888888,
              "#fdca26"
             ],
             [
              1,
              "#f0f921"
             ]
            ],
            "type": "contour"
           }
          ],
          "contourcarpet": [
           {
            "colorbar": {
             "outlinewidth": 0,
             "ticks": ""
            },
            "type": "contourcarpet"
           }
          ],
          "heatmap": [
           {
            "colorbar": {
             "outlinewidth": 0,
             "ticks": ""
            },
            "colorscale": [
             [
              0,
              "#0d0887"
             ],
             [
              0.1111111111111111,
              "#46039f"
             ],
             [
              0.2222222222222222,
              "#7201a8"
             ],
             [
              0.3333333333333333,
              "#9c179e"
             ],
             [
              0.4444444444444444,
              "#bd3786"
             ],
             [
              0.5555555555555556,
              "#d8576b"
             ],
             [
              0.6666666666666666,
              "#ed7953"
             ],
             [
              0.7777777777777778,
              "#fb9f3a"
             ],
             [
              0.8888888888888888,
              "#fdca26"
             ],
             [
              1,
              "#f0f921"
             ]
            ],
            "type": "heatmap"
           }
          ],
          "heatmapgl": [
           {
            "colorbar": {
             "outlinewidth": 0,
             "ticks": ""
            },
            "colorscale": [
             [
              0,
              "#0d0887"
             ],
             [
              0.1111111111111111,
              "#46039f"
             ],
             [
              0.2222222222222222,
              "#7201a8"
             ],
             [
              0.3333333333333333,
              "#9c179e"
             ],
             [
              0.4444444444444444,
              "#bd3786"
             ],
             [
              0.5555555555555556,
              "#d8576b"
             ],
             [
              0.6666666666666666,
              "#ed7953"
             ],
             [
              0.7777777777777778,
              "#fb9f3a"
             ],
             [
              0.8888888888888888,
              "#fdca26"
             ],
             [
              1,
              "#f0f921"
             ]
            ],
            "type": "heatmapgl"
           }
          ],
          "histogram": [
           {
            "marker": {
             "pattern": {
              "fillmode": "overlay",
              "size": 10,
              "solidity": 0.2
             }
            },
            "type": "histogram"
           }
          ],
          "histogram2d": [
           {
            "colorbar": {
             "outlinewidth": 0,
             "ticks": ""
            },
            "colorscale": [
             [
              0,
              "#0d0887"
             ],
             [
              0.1111111111111111,
              "#46039f"
             ],
             [
              0.2222222222222222,
              "#7201a8"
             ],
             [
              0.3333333333333333,
              "#9c179e"
             ],
             [
              0.4444444444444444,
              "#bd3786"
             ],
             [
              0.5555555555555556,
              "#d8576b"
             ],
             [
              0.6666666666666666,
              "#ed7953"
             ],
             [
              0.7777777777777778,
              "#fb9f3a"
             ],
             [
              0.8888888888888888,
              "#fdca26"
             ],
             [
              1,
              "#f0f921"
             ]
            ],
            "type": "histogram2d"
           }
          ],
          "histogram2dcontour": [
           {
            "colorbar": {
             "outlinewidth": 0,
             "ticks": ""
            },
            "colorscale": [
             [
              0,
              "#0d0887"
             ],
             [
              0.1111111111111111,
              "#46039f"
             ],
             [
              0.2222222222222222,
              "#7201a8"
             ],
             [
              0.3333333333333333,
              "#9c179e"
             ],
             [
              0.4444444444444444,
              "#bd3786"
             ],
             [
              0.5555555555555556,
              "#d8576b"
             ],
             [
              0.6666666666666666,
              "#ed7953"
             ],
             [
              0.7777777777777778,
              "#fb9f3a"
             ],
             [
              0.8888888888888888,
              "#fdca26"
             ],
             [
              1,
              "#f0f921"
             ]
            ],
            "type": "histogram2dcontour"
           }
          ],
          "mesh3d": [
           {
            "colorbar": {
             "outlinewidth": 0,
             "ticks": ""
            },
            "type": "mesh3d"
           }
          ],
          "parcoords": [
           {
            "line": {
             "colorbar": {
              "outlinewidth": 0,
              "ticks": ""
             }
            },
            "type": "parcoords"
           }
          ],
          "pie": [
           {
            "automargin": true,
            "type": "pie"
           }
          ],
          "scatter": [
           {
            "fillpattern": {
             "fillmode": "overlay",
             "size": 10,
             "solidity": 0.2
            },
            "type": "scatter"
           }
          ],
          "scatter3d": [
           {
            "line": {
             "colorbar": {
              "outlinewidth": 0,
              "ticks": ""
             }
            },
            "marker": {
             "colorbar": {
              "outlinewidth": 0,
              "ticks": ""
             }
            },
            "type": "scatter3d"
           }
          ],
          "scattercarpet": [
           {
            "marker": {
             "colorbar": {
              "outlinewidth": 0,
              "ticks": ""
             }
            },
            "type": "scattercarpet"
           }
          ],
          "scattergeo": [
           {
            "marker": {
             "colorbar": {
              "outlinewidth": 0,
              "ticks": ""
             }
            },
            "type": "scattergeo"
           }
          ],
          "scattergl": [
           {
            "marker": {
             "colorbar": {
              "outlinewidth": 0,
              "ticks": ""
             }
            },
            "type": "scattergl"
           }
          ],
          "scattermapbox": [
           {
            "marker": {
             "colorbar": {
              "outlinewidth": 0,
              "ticks": ""
             }
            },
            "type": "scattermapbox"
           }
          ],
          "scatterpolar": [
           {
            "marker": {
             "colorbar": {
              "outlinewidth": 0,
              "ticks": ""
             }
            },
            "type": "scatterpolar"
           }
          ],
          "scatterpolargl": [
           {
            "marker": {
             "colorbar": {
              "outlinewidth": 0,
              "ticks": ""
             }
            },
            "type": "scatterpolargl"
           }
          ],
          "scatterternary": [
           {
            "marker": {
             "colorbar": {
              "outlinewidth": 0,
              "ticks": ""
             }
            },
            "type": "scatterternary"
           }
          ],
          "surface": [
           {
            "colorbar": {
             "outlinewidth": 0,
             "ticks": ""
            },
            "colorscale": [
             [
              0,
              "#0d0887"
             ],
             [
              0.1111111111111111,
              "#46039f"
             ],
             [
              0.2222222222222222,
              "#7201a8"
             ],
             [
              0.3333333333333333,
              "#9c179e"
             ],
             [
              0.4444444444444444,
              "#bd3786"
             ],
             [
              0.5555555555555556,
              "#d8576b"
             ],
             [
              0.6666666666666666,
              "#ed7953"
             ],
             [
              0.7777777777777778,
              "#fb9f3a"
             ],
             [
              0.8888888888888888,
              "#fdca26"
             ],
             [
              1,
              "#f0f921"
             ]
            ],
            "type": "surface"
           }
          ],
          "table": [
           {
            "cells": {
             "fill": {
              "color": "#EBF0F8"
             },
             "line": {
              "color": "white"
             }
            },
            "header": {
             "fill": {
              "color": "#C8D4E3"
             },
             "line": {
              "color": "white"
             }
            },
            "type": "table"
           }
          ]
         },
         "layout": {
          "annotationdefaults": {
           "arrowcolor": "#2a3f5f",
           "arrowhead": 0,
           "arrowwidth": 1
          },
          "autotypenumbers": "strict",
          "coloraxis": {
           "colorbar": {
            "outlinewidth": 0,
            "ticks": ""
           }
          },
          "colorscale": {
           "diverging": [
            [
             0,
             "#8e0152"
            ],
            [
             0.1,
             "#c51b7d"
            ],
            [
             0.2,
             "#de77ae"
            ],
            [
             0.3,
             "#f1b6da"
            ],
            [
             0.4,
             "#fde0ef"
            ],
            [
             0.5,
             "#f7f7f7"
            ],
            [
             0.6,
             "#e6f5d0"
            ],
            [
             0.7,
             "#b8e186"
            ],
            [
             0.8,
             "#7fbc41"
            ],
            [
             0.9,
             "#4d9221"
            ],
            [
             1,
             "#276419"
            ]
           ],
           "sequential": [
            [
             0,
             "#0d0887"
            ],
            [
             0.1111111111111111,
             "#46039f"
            ],
            [
             0.2222222222222222,
             "#7201a8"
            ],
            [
             0.3333333333333333,
             "#9c179e"
            ],
            [
             0.4444444444444444,
             "#bd3786"
            ],
            [
             0.5555555555555556,
             "#d8576b"
            ],
            [
             0.6666666666666666,
             "#ed7953"
            ],
            [
             0.7777777777777778,
             "#fb9f3a"
            ],
            [
             0.8888888888888888,
             "#fdca26"
            ],
            [
             1,
             "#f0f921"
            ]
           ],
           "sequentialminus": [
            [
             0,
             "#0d0887"
            ],
            [
             0.1111111111111111,
             "#46039f"
            ],
            [
             0.2222222222222222,
             "#7201a8"
            ],
            [
             0.3333333333333333,
             "#9c179e"
            ],
            [
             0.4444444444444444,
             "#bd3786"
            ],
            [
             0.5555555555555556,
             "#d8576b"
            ],
            [
             0.6666666666666666,
             "#ed7953"
            ],
            [
             0.7777777777777778,
             "#fb9f3a"
            ],
            [
             0.8888888888888888,
             "#fdca26"
            ],
            [
             1,
             "#f0f921"
            ]
           ]
          },
          "colorway": [
           "#636efa",
           "#EF553B",
           "#00cc96",
           "#ab63fa",
           "#FFA15A",
           "#19d3f3",
           "#FF6692",
           "#B6E880",
           "#FF97FF",
           "#FECB52"
          ],
          "font": {
           "color": "#2a3f5f"
          },
          "geo": {
           "bgcolor": "white",
           "lakecolor": "white",
           "landcolor": "#E5ECF6",
           "showlakes": true,
           "showland": true,
           "subunitcolor": "white"
          },
          "hoverlabel": {
           "align": "left"
          },
          "hovermode": "closest",
          "mapbox": {
           "style": "light"
          },
          "paper_bgcolor": "white",
          "plot_bgcolor": "#E5ECF6",
          "polar": {
           "angularaxis": {
            "gridcolor": "white",
            "linecolor": "white",
            "ticks": ""
           },
           "bgcolor": "#E5ECF6",
           "radialaxis": {
            "gridcolor": "white",
            "linecolor": "white",
            "ticks": ""
           }
          },
          "scene": {
           "xaxis": {
            "backgroundcolor": "#E5ECF6",
            "gridcolor": "white",
            "gridwidth": 2,
            "linecolor": "white",
            "showbackground": true,
            "ticks": "",
            "zerolinecolor": "white"
           },
           "yaxis": {
            "backgroundcolor": "#E5ECF6",
            "gridcolor": "white",
            "gridwidth": 2,
            "linecolor": "white",
            "showbackground": true,
            "ticks": "",
            "zerolinecolor": "white"
           },
           "zaxis": {
            "backgroundcolor": "#E5ECF6",
            "gridcolor": "white",
            "gridwidth": 2,
            "linecolor": "white",
            "showbackground": true,
            "ticks": "",
            "zerolinecolor": "white"
           }
          },
          "shapedefaults": {
           "line": {
            "color": "#2a3f5f"
           }
          },
          "ternary": {
           "aaxis": {
            "gridcolor": "white",
            "linecolor": "white",
            "ticks": ""
           },
           "baxis": {
            "gridcolor": "white",
            "linecolor": "white",
            "ticks": ""
           },
           "bgcolor": "#E5ECF6",
           "caxis": {
            "gridcolor": "white",
            "linecolor": "white",
            "ticks": ""
           }
          },
          "title": {
           "x": 0.05
          },
          "xaxis": {
           "automargin": true,
           "gridcolor": "white",
           "linecolor": "white",
           "ticks": "",
           "title": {
            "standoff": 15
           },
           "zerolinecolor": "white",
           "zerolinewidth": 2
          },
          "yaxis": {
           "automargin": true,
           "gridcolor": "white",
           "linecolor": "white",
           "ticks": "",
           "title": {
            "standoff": 15
           },
           "zerolinecolor": "white",
           "zerolinewidth": 2
          }
         }
        },
        "title": {
         "text": "Percentage Change by Hospital"
        },
        "width": 1075
       }
      },
      "text/html": [
       "<div>                            <div id=\"839311c3-349a-4725-a87c-ead657c74209\" class=\"plotly-graph-div\" style=\"height:360px; width:1075px;\"></div>            <script type=\"text/javascript\">                require([\"plotly\"], function(Plotly) {                    window.PLOTLYENV=window.PLOTLYENV || {};                                    if (document.getElementById(\"839311c3-349a-4725-a87c-ead657c74209\")) {                    Plotly.newPlot(                        \"839311c3-349a-4725-a87c-ead657c74209\",                        [{\"name\":\"Carraig M\\u00f3r, Cork\",\"orientation\":\"h\",\"text\":[\"0.00%\",\"-33.33%\"],\"textfont\":{\"size\":18},\"textposition\":\"outside\",\"x\":[0,-33.333333333333336],\"y\":[2019,2020],\"type\":\"bar\"},{\"name\":\"Central Mental Hospital, Dublin\",\"orientation\":\"h\",\"text\":[\"0.00%\",\"-0.97%\"],\"textfont\":{\"size\":18},\"textposition\":\"outside\",\"x\":[0,-0.970873786407767],\"y\":[2019,2020],\"type\":\"bar\"},{\"name\":\"General hospital psychiatric units\",\"orientation\":\"h\",\"text\":[\"0.00%\",\"-21.40%\"],\"textfont\":{\"size\":18},\"textposition\":\"outside\",\"x\":[0,-21.401752190237797],\"y\":[2019,2020],\"type\":\"bar\"},{\"name\":\"Private hospitals\",\"orientation\":\"h\",\"text\":[\"0.00%\",\"-28.27%\"],\"textfont\":{\"size\":18},\"textposition\":\"outside\",\"x\":[0,-28.27476038338658],\"y\":[2019,2020],\"type\":\"bar\"},{\"name\":\"Psychiatric hospitals\\u002fcontinuing care units\",\"orientation\":\"h\",\"text\":[\"0.00%\",\"-17.71%\"],\"textfont\":{\"size\":18},\"textposition\":\"outside\",\"x\":[0,-17.706821480406386],\"y\":[2019,2020],\"type\":\"bar\"},{\"name\":\"St Joseph's Intellectual Disability Service\",\"orientation\":\"h\",\"text\":[\"0.00%\",\"-7.89%\"],\"textfont\":{\"size\":18},\"textposition\":\"outside\",\"x\":[0,-7.894736842105263],\"y\":[2019,2020],\"type\":\"bar\"}],                        {\"template\":{\"data\":{\"histogram2dcontour\":[{\"type\":\"histogram2dcontour\",\"colorbar\":{\"outlinewidth\":0,\"ticks\":\"\"},\"colorscale\":[[0.0,\"#0d0887\"],[0.1111111111111111,\"#46039f\"],[0.2222222222222222,\"#7201a8\"],[0.3333333333333333,\"#9c179e\"],[0.4444444444444444,\"#bd3786\"],[0.5555555555555556,\"#d8576b\"],[0.6666666666666666,\"#ed7953\"],[0.7777777777777778,\"#fb9f3a\"],[0.8888888888888888,\"#fdca26\"],[1.0,\"#f0f921\"]]}],\"choropleth\":[{\"type\":\"choropleth\",\"colorbar\":{\"outlinewidth\":0,\"ticks\":\"\"}}],\"histogram2d\":[{\"type\":\"histogram2d\",\"colorbar\":{\"outlinewidth\":0,\"ticks\":\"\"},\"colorscale\":[[0.0,\"#0d0887\"],[0.1111111111111111,\"#46039f\"],[0.2222222222222222,\"#7201a8\"],[0.3333333333333333,\"#9c179e\"],[0.4444444444444444,\"#bd3786\"],[0.5555555555555556,\"#d8576b\"],[0.6666666666666666,\"#ed7953\"],[0.7777777777777778,\"#fb9f3a\"],[0.8888888888888888,\"#fdca26\"],[1.0,\"#f0f921\"]]}],\"heatmap\":[{\"type\":\"heatmap\",\"colorbar\":{\"outlinewidth\":0,\"ticks\":\"\"},\"colorscale\":[[0.0,\"#0d0887\"],[0.1111111111111111,\"#46039f\"],[0.2222222222222222,\"#7201a8\"],[0.3333333333333333,\"#9c179e\"],[0.4444444444444444,\"#bd3786\"],[0.5555555555555556,\"#d8576b\"],[0.6666666666666666,\"#ed7953\"],[0.7777777777777778,\"#fb9f3a\"],[0.8888888888888888,\"#fdca26\"],[1.0,\"#f0f921\"]]}],\"heatmapgl\":[{\"type\":\"heatmapgl\",\"colorbar\":{\"outlinewidth\":0,\"ticks\":\"\"},\"colorscale\":[[0.0,\"#0d0887\"],[0.1111111111111111,\"#46039f\"],[0.2222222222222222,\"#7201a8\"],[0.3333333333333333,\"#9c179e\"],[0.4444444444444444,\"#bd3786\"],[0.5555555555555556,\"#d8576b\"],[0.6666666666666666,\"#ed7953\"],[0.7777777777777778,\"#fb9f3a\"],[0.8888888888888888,\"#fdca26\"],[1.0,\"#f0f921\"]]}],\"contourcarpet\":[{\"type\":\"contourcarpet\",\"colorbar\":{\"outlinewidth\":0,\"ticks\":\"\"}}],\"contour\":[{\"type\":\"contour\",\"colorbar\":{\"outlinewidth\":0,\"ticks\":\"\"},\"colorscale\":[[0.0,\"#0d0887\"],[0.1111111111111111,\"#46039f\"],[0.2222222222222222,\"#7201a8\"],[0.3333333333333333,\"#9c179e\"],[0.4444444444444444,\"#bd3786\"],[0.5555555555555556,\"#d8576b\"],[0.6666666666666666,\"#ed7953\"],[0.7777777777777778,\"#fb9f3a\"],[0.8888888888888888,\"#fdca26\"],[1.0,\"#f0f921\"]]}],\"surface\":[{\"type\":\"surface\",\"colorbar\":{\"outlinewidth\":0,\"ticks\":\"\"},\"colorscale\":[[0.0,\"#0d0887\"],[0.1111111111111111,\"#46039f\"],[0.2222222222222222,\"#7201a8\"],[0.3333333333333333,\"#9c179e\"],[0.4444444444444444,\"#bd3786\"],[0.5555555555555556,\"#d8576b\"],[0.6666666666666666,\"#ed7953\"],[0.7777777777777778,\"#fb9f3a\"],[0.8888888888888888,\"#fdca26\"],[1.0,\"#f0f921\"]]}],\"mesh3d\":[{\"type\":\"mesh3d\",\"colorbar\":{\"outlinewidth\":0,\"ticks\":\"\"}}],\"scatter\":[{\"fillpattern\":{\"fillmode\":\"overlay\",\"size\":10,\"solidity\":0.2},\"type\":\"scatter\"}],\"parcoords\":[{\"type\":\"parcoords\",\"line\":{\"colorbar\":{\"outlinewidth\":0,\"ticks\":\"\"}}}],\"scatterpolargl\":[{\"type\":\"scatterpolargl\",\"marker\":{\"colorbar\":{\"outlinewidth\":0,\"ticks\":\"\"}}}],\"bar\":[{\"error_x\":{\"color\":\"#2a3f5f\"},\"error_y\":{\"color\":\"#2a3f5f\"},\"marker\":{\"line\":{\"color\":\"#E5ECF6\",\"width\":0.5},\"pattern\":{\"fillmode\":\"overlay\",\"size\":10,\"solidity\":0.2}},\"type\":\"bar\"}],\"scattergeo\":[{\"type\":\"scattergeo\",\"marker\":{\"colorbar\":{\"outlinewidth\":0,\"ticks\":\"\"}}}],\"scatterpolar\":[{\"type\":\"scatterpolar\",\"marker\":{\"colorbar\":{\"outlinewidth\":0,\"ticks\":\"\"}}}],\"histogram\":[{\"marker\":{\"pattern\":{\"fillmode\":\"overlay\",\"size\":10,\"solidity\":0.2}},\"type\":\"histogram\"}],\"scattergl\":[{\"type\":\"scattergl\",\"marker\":{\"colorbar\":{\"outlinewidth\":0,\"ticks\":\"\"}}}],\"scatter3d\":[{\"type\":\"scatter3d\",\"line\":{\"colorbar\":{\"outlinewidth\":0,\"ticks\":\"\"}},\"marker\":{\"colorbar\":{\"outlinewidth\":0,\"ticks\":\"\"}}}],\"scattermapbox\":[{\"type\":\"scattermapbox\",\"marker\":{\"colorbar\":{\"outlinewidth\":0,\"ticks\":\"\"}}}],\"scatterternary\":[{\"type\":\"scatterternary\",\"marker\":{\"colorbar\":{\"outlinewidth\":0,\"ticks\":\"\"}}}],\"scattercarpet\":[{\"type\":\"scattercarpet\",\"marker\":{\"colorbar\":{\"outlinewidth\":0,\"ticks\":\"\"}}}],\"carpet\":[{\"aaxis\":{\"endlinecolor\":\"#2a3f5f\",\"gridcolor\":\"white\",\"linecolor\":\"white\",\"minorgridcolor\":\"white\",\"startlinecolor\":\"#2a3f5f\"},\"baxis\":{\"endlinecolor\":\"#2a3f5f\",\"gridcolor\":\"white\",\"linecolor\":\"white\",\"minorgridcolor\":\"white\",\"startlinecolor\":\"#2a3f5f\"},\"type\":\"carpet\"}],\"table\":[{\"cells\":{\"fill\":{\"color\":\"#EBF0F8\"},\"line\":{\"color\":\"white\"}},\"header\":{\"fill\":{\"color\":\"#C8D4E3\"},\"line\":{\"color\":\"white\"}},\"type\":\"table\"}],\"barpolar\":[{\"marker\":{\"line\":{\"color\":\"#E5ECF6\",\"width\":0.5},\"pattern\":{\"fillmode\":\"overlay\",\"size\":10,\"solidity\":0.2}},\"type\":\"barpolar\"}],\"pie\":[{\"automargin\":true,\"type\":\"pie\"}]},\"layout\":{\"autotypenumbers\":\"strict\",\"colorway\":[\"#636efa\",\"#EF553B\",\"#00cc96\",\"#ab63fa\",\"#FFA15A\",\"#19d3f3\",\"#FF6692\",\"#B6E880\",\"#FF97FF\",\"#FECB52\"],\"font\":{\"color\":\"#2a3f5f\"},\"hovermode\":\"closest\",\"hoverlabel\":{\"align\":\"left\"},\"paper_bgcolor\":\"white\",\"plot_bgcolor\":\"#E5ECF6\",\"polar\":{\"bgcolor\":\"#E5ECF6\",\"angularaxis\":{\"gridcolor\":\"white\",\"linecolor\":\"white\",\"ticks\":\"\"},\"radialaxis\":{\"gridcolor\":\"white\",\"linecolor\":\"white\",\"ticks\":\"\"}},\"ternary\":{\"bgcolor\":\"#E5ECF6\",\"aaxis\":{\"gridcolor\":\"white\",\"linecolor\":\"white\",\"ticks\":\"\"},\"baxis\":{\"gridcolor\":\"white\",\"linecolor\":\"white\",\"ticks\":\"\"},\"caxis\":{\"gridcolor\":\"white\",\"linecolor\":\"white\",\"ticks\":\"\"}},\"coloraxis\":{\"colorbar\":{\"outlinewidth\":0,\"ticks\":\"\"}},\"colorscale\":{\"sequential\":[[0.0,\"#0d0887\"],[0.1111111111111111,\"#46039f\"],[0.2222222222222222,\"#7201a8\"],[0.3333333333333333,\"#9c179e\"],[0.4444444444444444,\"#bd3786\"],[0.5555555555555556,\"#d8576b\"],[0.6666666666666666,\"#ed7953\"],[0.7777777777777778,\"#fb9f3a\"],[0.8888888888888888,\"#fdca26\"],[1.0,\"#f0f921\"]],\"sequentialminus\":[[0.0,\"#0d0887\"],[0.1111111111111111,\"#46039f\"],[0.2222222222222222,\"#7201a8\"],[0.3333333333333333,\"#9c179e\"],[0.4444444444444444,\"#bd3786\"],[0.5555555555555556,\"#d8576b\"],[0.6666666666666666,\"#ed7953\"],[0.7777777777777778,\"#fb9f3a\"],[0.8888888888888888,\"#fdca26\"],[1.0,\"#f0f921\"]],\"diverging\":[[0,\"#8e0152\"],[0.1,\"#c51b7d\"],[0.2,\"#de77ae\"],[0.3,\"#f1b6da\"],[0.4,\"#fde0ef\"],[0.5,\"#f7f7f7\"],[0.6,\"#e6f5d0\"],[0.7,\"#b8e186\"],[0.8,\"#7fbc41\"],[0.9,\"#4d9221\"],[1,\"#276419\"]]},\"xaxis\":{\"gridcolor\":\"white\",\"linecolor\":\"white\",\"ticks\":\"\",\"title\":{\"standoff\":15},\"zerolinecolor\":\"white\",\"automargin\":true,\"zerolinewidth\":2},\"yaxis\":{\"gridcolor\":\"white\",\"linecolor\":\"white\",\"ticks\":\"\",\"title\":{\"standoff\":15},\"zerolinecolor\":\"white\",\"automargin\":true,\"zerolinewidth\":2},\"scene\":{\"xaxis\":{\"backgroundcolor\":\"#E5ECF6\",\"gridcolor\":\"white\",\"linecolor\":\"white\",\"showbackground\":true,\"ticks\":\"\",\"zerolinecolor\":\"white\",\"gridwidth\":2},\"yaxis\":{\"backgroundcolor\":\"#E5ECF6\",\"gridcolor\":\"white\",\"linecolor\":\"white\",\"showbackground\":true,\"ticks\":\"\",\"zerolinecolor\":\"white\",\"gridwidth\":2},\"zaxis\":{\"backgroundcolor\":\"#E5ECF6\",\"gridcolor\":\"white\",\"linecolor\":\"white\",\"showbackground\":true,\"ticks\":\"\",\"zerolinecolor\":\"white\",\"gridwidth\":2}},\"shapedefaults\":{\"line\":{\"color\":\"#2a3f5f\"}},\"annotationdefaults\":{\"arrowcolor\":\"#2a3f5f\",\"arrowhead\":0,\"arrowwidth\":1},\"geo\":{\"bgcolor\":\"white\",\"landcolor\":\"#E5ECF6\",\"subunitcolor\":\"white\",\"showland\":true,\"showlakes\":true,\"lakecolor\":\"white\"},\"title\":{\"x\":0.05},\"mapbox\":{\"style\":\"light\"}}},\"legend\":{\"x\":0.01,\"y\":7,\"orientation\":\"h\"},\"barmode\":\"group\",\"title\":{\"text\":\"Percentage Change by Hospital\"},\"autosize\":false,\"width\":1075,\"height\":360},                        {\"responsive\": true}                    ).then(function(){\n",
       "                            \n",
       "var gd = document.getElementById('839311c3-349a-4725-a87c-ead657c74209');\n",
       "var x = new MutationObserver(function (mutations, observer) {{\n",
       "        var display = window.getComputedStyle(gd).display;\n",
       "        if (!display || display === 'none') {{\n",
       "            console.log([gd, 'removed!']);\n",
       "            Plotly.purge(gd);\n",
       "            observer.disconnect();\n",
       "        }}\n",
       "}});\n",
       "\n",
       "// Listen for the removal of the full notebook cells\n",
       "var notebookContainer = gd.closest('#notebook-container');\n",
       "if (notebookContainer) {{\n",
       "    x.observe(notebookContainer, {childList: true});\n",
       "}}\n",
       "\n",
       "// Listen for the clearing of the current output cell\n",
       "var outputEl = gd.closest('.output');\n",
       "if (outputEl) {{\n",
       "    x.observe(outputEl, {childList: true});\n",
       "}}\n",
       "\n",
       "                        })                };                });            </script>        </div>"
      ]
     },
     "metadata": {},
     "output_type": "display_data"
    }
   ],
   "source": [
    "df_group = sex.groupby(['Year', 'Type of Hospital'])['VALUE'].sum().reset_index()\n",
    "\n",
    "\n",
    "df_group = df_group[df_group['Year'].isin([2019, 2020])]\n",
    "\n",
    "\n",
    "years = df_group['Year'].unique()\n",
    "hospitals = df_group['Type of Hospital'].unique()\n",
    "\n",
    "fig = go.Figure()\n",
    "\n",
    "\n",
    "for hospital in hospitals:\n",
    "    hospital_df = df_group[df_group['Type of Hospital'] == hospital]\n",
    "    hospital_totals = hospital_df['VALUE'].values\n",
    "    hospital_percentage_change = [0] + [100 * (hospital_totals[i] - hospital_totals[i-1]) / hospital_totals[i-1] for i in range(1, len(hospital_totals))]\n",
    "    \n",
    "    fig.add_trace(go.Bar(\n",
    "        name=hospital,\n",
    "        y=hospital_df['Year'],  \n",
    "        x=hospital_percentage_change,  \n",
    "        text=[f\"{change:.2f}%\" for change in hospital_percentage_change],\n",
    "        textposition='outside',\n",
    "        textfont_size=18,\n",
    "        orientation='h',  \n",
    "    ))\n",
    "\n",
    "\n",
    "fig.update_layout(barmode='group', title='Percentage Change by Hospital', autosize=False,\n",
    "    width=1075, height=360, legend=dict(x=0.01, y=7),\n",
    "    legend_orientation=\"h\",)\n",
    "\n",
    "fig.show()\n",
    "\n"
   ]
  },
  {
   "cell_type": "markdown",
   "id": "586bd21c",
   "metadata": {},
   "source": [
    "The above chart illustrates the percentage change of inpatients per hospital between 2019 and 2020. It is being worked on to illustrate the impact of covid-19 on psychiatric inpatient services."
   ]
  },
  {
   "cell_type": "markdown",
   "id": "5390009b",
   "metadata": {},
   "source": [
    "As the sample is smaller for Central Mental Hospital Dublin, St Josephs Intellectual Disability and Carraig Mor Cork, a bar chart was utilised to visualise the decrease for 2019/2020."
   ]
  },
  {
   "cell_type": "code",
   "execution_count": 79,
   "id": "81af4a7a",
   "metadata": {
    "scrolled": true
   },
   "outputs": [
    {
     "data": {
      "application/vnd.plotly.v1+json": {
       "config": {
        "plotlyServerURL": "https://plot.ly"
       },
       "data": [
        {
         "mode": "lines+markers",
         "name": "Carraig Mór, Cork",
         "type": "scatter",
         "x": [
          2019,
          2020,
          2021,
          2022
         ],
         "y": [
          15,
          10,
          6,
          4
         ]
        },
        {
         "mode": "lines+markers",
         "name": "Central Mental Hospital, Dublin",
         "type": "scatter",
         "x": [
          2019,
          2020,
          2021,
          2022
         ],
         "y": [
          103,
          102,
          98,
          98
         ]
        },
        {
         "mode": "lines+markers",
         "name": "General hospital psychiatric units",
         "type": "scatter",
         "x": [
          2019,
          2020,
          2021,
          2022
         ],
         "y": [
          799,
          628,
          711,
          744
         ]
        },
        {
         "mode": "lines+markers",
         "name": "Private hospitals",
         "type": "scatter",
         "x": [
          2019,
          2020,
          2021,
          2022
         ],
         "y": [
          626,
          449,
          440,
          456
         ]
        },
        {
         "mode": "lines+markers",
         "name": "Psychiatric hospitals/continuing care units",
         "type": "scatter",
         "x": [
          2019,
          2020,
          2021,
          2022
         ],
         "y": [
          689,
          567,
          552,
          555
         ]
        },
        {
         "mode": "lines+markers",
         "name": "St Joseph's Intellectual Disability Service",
         "type": "scatter",
         "x": [
          2019,
          2020,
          2021,
          2022
         ],
         "y": [
          76,
          70,
          64,
          56
         ]
        }
       ],
       "layout": {
        "paper_bgcolor": "rgba(0, 0, 0, 0)",
        "plot_bgcolor": "rgba(0, 0, 0, 0)",
        "template": {
         "data": {
          "bar": [
           {
            "error_x": {
             "color": "#2a3f5f"
            },
            "error_y": {
             "color": "#2a3f5f"
            },
            "marker": {
             "line": {
              "color": "#E5ECF6",
              "width": 0.5
             },
             "pattern": {
              "fillmode": "overlay",
              "size": 10,
              "solidity": 0.2
             }
            },
            "type": "bar"
           }
          ],
          "barpolar": [
           {
            "marker": {
             "line": {
              "color": "#E5ECF6",
              "width": 0.5
             },
             "pattern": {
              "fillmode": "overlay",
              "size": 10,
              "solidity": 0.2
             }
            },
            "type": "barpolar"
           }
          ],
          "carpet": [
           {
            "aaxis": {
             "endlinecolor": "#2a3f5f",
             "gridcolor": "white",
             "linecolor": "white",
             "minorgridcolor": "white",
             "startlinecolor": "#2a3f5f"
            },
            "baxis": {
             "endlinecolor": "#2a3f5f",
             "gridcolor": "white",
             "linecolor": "white",
             "minorgridcolor": "white",
             "startlinecolor": "#2a3f5f"
            },
            "type": "carpet"
           }
          ],
          "choropleth": [
           {
            "colorbar": {
             "outlinewidth": 0,
             "ticks": ""
            },
            "type": "choropleth"
           }
          ],
          "contour": [
           {
            "colorbar": {
             "outlinewidth": 0,
             "ticks": ""
            },
            "colorscale": [
             [
              0,
              "#0d0887"
             ],
             [
              0.1111111111111111,
              "#46039f"
             ],
             [
              0.2222222222222222,
              "#7201a8"
             ],
             [
              0.3333333333333333,
              "#9c179e"
             ],
             [
              0.4444444444444444,
              "#bd3786"
             ],
             [
              0.5555555555555556,
              "#d8576b"
             ],
             [
              0.6666666666666666,
              "#ed7953"
             ],
             [
              0.7777777777777778,
              "#fb9f3a"
             ],
             [
              0.8888888888888888,
              "#fdca26"
             ],
             [
              1,
              "#f0f921"
             ]
            ],
            "type": "contour"
           }
          ],
          "contourcarpet": [
           {
            "colorbar": {
             "outlinewidth": 0,
             "ticks": ""
            },
            "type": "contourcarpet"
           }
          ],
          "heatmap": [
           {
            "colorbar": {
             "outlinewidth": 0,
             "ticks": ""
            },
            "colorscale": [
             [
              0,
              "#0d0887"
             ],
             [
              0.1111111111111111,
              "#46039f"
             ],
             [
              0.2222222222222222,
              "#7201a8"
             ],
             [
              0.3333333333333333,
              "#9c179e"
             ],
             [
              0.4444444444444444,
              "#bd3786"
             ],
             [
              0.5555555555555556,
              "#d8576b"
             ],
             [
              0.6666666666666666,
              "#ed7953"
             ],
             [
              0.7777777777777778,
              "#fb9f3a"
             ],
             [
              0.8888888888888888,
              "#fdca26"
             ],
             [
              1,
              "#f0f921"
             ]
            ],
            "type": "heatmap"
           }
          ],
          "heatmapgl": [
           {
            "colorbar": {
             "outlinewidth": 0,
             "ticks": ""
            },
            "colorscale": [
             [
              0,
              "#0d0887"
             ],
             [
              0.1111111111111111,
              "#46039f"
             ],
             [
              0.2222222222222222,
              "#7201a8"
             ],
             [
              0.3333333333333333,
              "#9c179e"
             ],
             [
              0.4444444444444444,
              "#bd3786"
             ],
             [
              0.5555555555555556,
              "#d8576b"
             ],
             [
              0.6666666666666666,
              "#ed7953"
             ],
             [
              0.7777777777777778,
              "#fb9f3a"
             ],
             [
              0.8888888888888888,
              "#fdca26"
             ],
             [
              1,
              "#f0f921"
             ]
            ],
            "type": "heatmapgl"
           }
          ],
          "histogram": [
           {
            "marker": {
             "pattern": {
              "fillmode": "overlay",
              "size": 10,
              "solidity": 0.2
             }
            },
            "type": "histogram"
           }
          ],
          "histogram2d": [
           {
            "colorbar": {
             "outlinewidth": 0,
             "ticks": ""
            },
            "colorscale": [
             [
              0,
              "#0d0887"
             ],
             [
              0.1111111111111111,
              "#46039f"
             ],
             [
              0.2222222222222222,
              "#7201a8"
             ],
             [
              0.3333333333333333,
              "#9c179e"
             ],
             [
              0.4444444444444444,
              "#bd3786"
             ],
             [
              0.5555555555555556,
              "#d8576b"
             ],
             [
              0.6666666666666666,
              "#ed7953"
             ],
             [
              0.7777777777777778,
              "#fb9f3a"
             ],
             [
              0.8888888888888888,
              "#fdca26"
             ],
             [
              1,
              "#f0f921"
             ]
            ],
            "type": "histogram2d"
           }
          ],
          "histogram2dcontour": [
           {
            "colorbar": {
             "outlinewidth": 0,
             "ticks": ""
            },
            "colorscale": [
             [
              0,
              "#0d0887"
             ],
             [
              0.1111111111111111,
              "#46039f"
             ],
             [
              0.2222222222222222,
              "#7201a8"
             ],
             [
              0.3333333333333333,
              "#9c179e"
             ],
             [
              0.4444444444444444,
              "#bd3786"
             ],
             [
              0.5555555555555556,
              "#d8576b"
             ],
             [
              0.6666666666666666,
              "#ed7953"
             ],
             [
              0.7777777777777778,
              "#fb9f3a"
             ],
             [
              0.8888888888888888,
              "#fdca26"
             ],
             [
              1,
              "#f0f921"
             ]
            ],
            "type": "histogram2dcontour"
           }
          ],
          "mesh3d": [
           {
            "colorbar": {
             "outlinewidth": 0,
             "ticks": ""
            },
            "type": "mesh3d"
           }
          ],
          "parcoords": [
           {
            "line": {
             "colorbar": {
              "outlinewidth": 0,
              "ticks": ""
             }
            },
            "type": "parcoords"
           }
          ],
          "pie": [
           {
            "automargin": true,
            "type": "pie"
           }
          ],
          "scatter": [
           {
            "fillpattern": {
             "fillmode": "overlay",
             "size": 10,
             "solidity": 0.2
            },
            "type": "scatter"
           }
          ],
          "scatter3d": [
           {
            "line": {
             "colorbar": {
              "outlinewidth": 0,
              "ticks": ""
             }
            },
            "marker": {
             "colorbar": {
              "outlinewidth": 0,
              "ticks": ""
             }
            },
            "type": "scatter3d"
           }
          ],
          "scattercarpet": [
           {
            "marker": {
             "colorbar": {
              "outlinewidth": 0,
              "ticks": ""
             }
            },
            "type": "scattercarpet"
           }
          ],
          "scattergeo": [
           {
            "marker": {
             "colorbar": {
              "outlinewidth": 0,
              "ticks": ""
             }
            },
            "type": "scattergeo"
           }
          ],
          "scattergl": [
           {
            "marker": {
             "colorbar": {
              "outlinewidth": 0,
              "ticks": ""
             }
            },
            "type": "scattergl"
           }
          ],
          "scattermapbox": [
           {
            "marker": {
             "colorbar": {
              "outlinewidth": 0,
              "ticks": ""
             }
            },
            "type": "scattermapbox"
           }
          ],
          "scatterpolar": [
           {
            "marker": {
             "colorbar": {
              "outlinewidth": 0,
              "ticks": ""
             }
            },
            "type": "scatterpolar"
           }
          ],
          "scatterpolargl": [
           {
            "marker": {
             "colorbar": {
              "outlinewidth": 0,
              "ticks": ""
             }
            },
            "type": "scatterpolargl"
           }
          ],
          "scatterternary": [
           {
            "marker": {
             "colorbar": {
              "outlinewidth": 0,
              "ticks": ""
             }
            },
            "type": "scatterternary"
           }
          ],
          "surface": [
           {
            "colorbar": {
             "outlinewidth": 0,
             "ticks": ""
            },
            "colorscale": [
             [
              0,
              "#0d0887"
             ],
             [
              0.1111111111111111,
              "#46039f"
             ],
             [
              0.2222222222222222,
              "#7201a8"
             ],
             [
              0.3333333333333333,
              "#9c179e"
             ],
             [
              0.4444444444444444,
              "#bd3786"
             ],
             [
              0.5555555555555556,
              "#d8576b"
             ],
             [
              0.6666666666666666,
              "#ed7953"
             ],
             [
              0.7777777777777778,
              "#fb9f3a"
             ],
             [
              0.8888888888888888,
              "#fdca26"
             ],
             [
              1,
              "#f0f921"
             ]
            ],
            "type": "surface"
           }
          ],
          "table": [
           {
            "cells": {
             "fill": {
              "color": "#EBF0F8"
             },
             "line": {
              "color": "white"
             }
            },
            "header": {
             "fill": {
              "color": "#C8D4E3"
             },
             "line": {
              "color": "white"
             }
            },
            "type": "table"
           }
          ]
         },
         "layout": {
          "annotationdefaults": {
           "arrowcolor": "#2a3f5f",
           "arrowhead": 0,
           "arrowwidth": 1
          },
          "autotypenumbers": "strict",
          "coloraxis": {
           "colorbar": {
            "outlinewidth": 0,
            "ticks": ""
           }
          },
          "colorscale": {
           "diverging": [
            [
             0,
             "#8e0152"
            ],
            [
             0.1,
             "#c51b7d"
            ],
            [
             0.2,
             "#de77ae"
            ],
            [
             0.3,
             "#f1b6da"
            ],
            [
             0.4,
             "#fde0ef"
            ],
            [
             0.5,
             "#f7f7f7"
            ],
            [
             0.6,
             "#e6f5d0"
            ],
            [
             0.7,
             "#b8e186"
            ],
            [
             0.8,
             "#7fbc41"
            ],
            [
             0.9,
             "#4d9221"
            ],
            [
             1,
             "#276419"
            ]
           ],
           "sequential": [
            [
             0,
             "#0d0887"
            ],
            [
             0.1111111111111111,
             "#46039f"
            ],
            [
             0.2222222222222222,
             "#7201a8"
            ],
            [
             0.3333333333333333,
             "#9c179e"
            ],
            [
             0.4444444444444444,
             "#bd3786"
            ],
            [
             0.5555555555555556,
             "#d8576b"
            ],
            [
             0.6666666666666666,
             "#ed7953"
            ],
            [
             0.7777777777777778,
             "#fb9f3a"
            ],
            [
             0.8888888888888888,
             "#fdca26"
            ],
            [
             1,
             "#f0f921"
            ]
           ],
           "sequentialminus": [
            [
             0,
             "#0d0887"
            ],
            [
             0.1111111111111111,
             "#46039f"
            ],
            [
             0.2222222222222222,
             "#7201a8"
            ],
            [
             0.3333333333333333,
             "#9c179e"
            ],
            [
             0.4444444444444444,
             "#bd3786"
            ],
            [
             0.5555555555555556,
             "#d8576b"
            ],
            [
             0.6666666666666666,
             "#ed7953"
            ],
            [
             0.7777777777777778,
             "#fb9f3a"
            ],
            [
             0.8888888888888888,
             "#fdca26"
            ],
            [
             1,
             "#f0f921"
            ]
           ]
          },
          "colorway": [
           "#636efa",
           "#EF553B",
           "#00cc96",
           "#ab63fa",
           "#FFA15A",
           "#19d3f3",
           "#FF6692",
           "#B6E880",
           "#FF97FF",
           "#FECB52"
          ],
          "font": {
           "color": "#2a3f5f"
          },
          "geo": {
           "bgcolor": "white",
           "lakecolor": "white",
           "landcolor": "#E5ECF6",
           "showlakes": true,
           "showland": true,
           "subunitcolor": "white"
          },
          "hoverlabel": {
           "align": "left"
          },
          "hovermode": "closest",
          "mapbox": {
           "style": "light"
          },
          "paper_bgcolor": "white",
          "plot_bgcolor": "#E5ECF6",
          "polar": {
           "angularaxis": {
            "gridcolor": "white",
            "linecolor": "white",
            "ticks": ""
           },
           "bgcolor": "#E5ECF6",
           "radialaxis": {
            "gridcolor": "white",
            "linecolor": "white",
            "ticks": ""
           }
          },
          "scene": {
           "xaxis": {
            "backgroundcolor": "#E5ECF6",
            "gridcolor": "white",
            "gridwidth": 2,
            "linecolor": "white",
            "showbackground": true,
            "ticks": "",
            "zerolinecolor": "white"
           },
           "yaxis": {
            "backgroundcolor": "#E5ECF6",
            "gridcolor": "white",
            "gridwidth": 2,
            "linecolor": "white",
            "showbackground": true,
            "ticks": "",
            "zerolinecolor": "white"
           },
           "zaxis": {
            "backgroundcolor": "#E5ECF6",
            "gridcolor": "white",
            "gridwidth": 2,
            "linecolor": "white",
            "showbackground": true,
            "ticks": "",
            "zerolinecolor": "white"
           }
          },
          "shapedefaults": {
           "line": {
            "color": "#2a3f5f"
           }
          },
          "ternary": {
           "aaxis": {
            "gridcolor": "white",
            "linecolor": "white",
            "ticks": ""
           },
           "baxis": {
            "gridcolor": "white",
            "linecolor": "white",
            "ticks": ""
           },
           "bgcolor": "#E5ECF6",
           "caxis": {
            "gridcolor": "white",
            "linecolor": "white",
            "ticks": ""
           }
          },
          "title": {
           "x": 0.05
          },
          "xaxis": {
           "automargin": true,
           "gridcolor": "white",
           "linecolor": "white",
           "ticks": "",
           "title": {
            "standoff": 15
           },
           "zerolinecolor": "white",
           "zerolinewidth": 2
          },
          "yaxis": {
           "automargin": true,
           "gridcolor": "white",
           "linecolor": "white",
           "ticks": "",
           "title": {
            "standoff": 15
           },
           "zerolinecolor": "white",
           "zerolinewidth": 2
          }
         }
        },
        "title": {
         "font": {
          "color": "black",
          "size": 24
         },
         "text": "Psychiatric Inpatients Total by Hospital <br><sup>Ireland 2019-2022</sup>"
        },
        "xaxis": {
         "linecolor": "black",
         "showgrid": false,
         "showticklabels": true,
         "tickfont": {
          "color": "black",
          "size": 14
         },
         "title": {
          "text": "Year"
         },
         "zeroline": false
        },
        "yaxis": {
         "linecolor": "black",
         "showgrid": false,
         "showticklabels": true,
         "tickfont": {
          "color": "black",
          "size": 14
         },
         "title": {
          "text": "Total"
         },
         "zeroline": false
        }
       }
      },
      "text/html": [
       "<div>                            <div id=\"f2ae147f-ca88-4257-a3ab-d36e6d0beb99\" class=\"plotly-graph-div\" style=\"height:525px; width:100%;\"></div>            <script type=\"text/javascript\">                require([\"plotly\"], function(Plotly) {                    window.PLOTLYENV=window.PLOTLYENV || {};                                    if (document.getElementById(\"f2ae147f-ca88-4257-a3ab-d36e6d0beb99\")) {                    Plotly.newPlot(                        \"f2ae147f-ca88-4257-a3ab-d36e6d0beb99\",                        [{\"mode\":\"lines+markers\",\"name\":\"Carraig M\\u00f3r, Cork\",\"x\":[2019,2020,2021,2022],\"y\":[15.0,10.0,6.0,4.0],\"type\":\"scatter\"},{\"mode\":\"lines+markers\",\"name\":\"Central Mental Hospital, Dublin\",\"x\":[2019,2020,2021,2022],\"y\":[103.0,102.0,98.0,98.0],\"type\":\"scatter\"},{\"mode\":\"lines+markers\",\"name\":\"General hospital psychiatric units\",\"x\":[2019,2020,2021,2022],\"y\":[799.0,628.0,711.0,744.0],\"type\":\"scatter\"},{\"mode\":\"lines+markers\",\"name\":\"Private hospitals\",\"x\":[2019,2020,2021,2022],\"y\":[626.0,449.0,440.0,456.0],\"type\":\"scatter\"},{\"mode\":\"lines+markers\",\"name\":\"Psychiatric hospitals\\u002fcontinuing care units\",\"x\":[2019,2020,2021,2022],\"y\":[689.0,567.0,552.0,555.0],\"type\":\"scatter\"},{\"mode\":\"lines+markers\",\"name\":\"St Joseph's Intellectual Disability Service\",\"x\":[2019,2020,2021,2022],\"y\":[76.0,70.0,64.0,56.0],\"type\":\"scatter\"}],                        {\"template\":{\"data\":{\"histogram2dcontour\":[{\"type\":\"histogram2dcontour\",\"colorbar\":{\"outlinewidth\":0,\"ticks\":\"\"},\"colorscale\":[[0.0,\"#0d0887\"],[0.1111111111111111,\"#46039f\"],[0.2222222222222222,\"#7201a8\"],[0.3333333333333333,\"#9c179e\"],[0.4444444444444444,\"#bd3786\"],[0.5555555555555556,\"#d8576b\"],[0.6666666666666666,\"#ed7953\"],[0.7777777777777778,\"#fb9f3a\"],[0.8888888888888888,\"#fdca26\"],[1.0,\"#f0f921\"]]}],\"choropleth\":[{\"type\":\"choropleth\",\"colorbar\":{\"outlinewidth\":0,\"ticks\":\"\"}}],\"histogram2d\":[{\"type\":\"histogram2d\",\"colorbar\":{\"outlinewidth\":0,\"ticks\":\"\"},\"colorscale\":[[0.0,\"#0d0887\"],[0.1111111111111111,\"#46039f\"],[0.2222222222222222,\"#7201a8\"],[0.3333333333333333,\"#9c179e\"],[0.4444444444444444,\"#bd3786\"],[0.5555555555555556,\"#d8576b\"],[0.6666666666666666,\"#ed7953\"],[0.7777777777777778,\"#fb9f3a\"],[0.8888888888888888,\"#fdca26\"],[1.0,\"#f0f921\"]]}],\"heatmap\":[{\"type\":\"heatmap\",\"colorbar\":{\"outlinewidth\":0,\"ticks\":\"\"},\"colorscale\":[[0.0,\"#0d0887\"],[0.1111111111111111,\"#46039f\"],[0.2222222222222222,\"#7201a8\"],[0.3333333333333333,\"#9c179e\"],[0.4444444444444444,\"#bd3786\"],[0.5555555555555556,\"#d8576b\"],[0.6666666666666666,\"#ed7953\"],[0.7777777777777778,\"#fb9f3a\"],[0.8888888888888888,\"#fdca26\"],[1.0,\"#f0f921\"]]}],\"heatmapgl\":[{\"type\":\"heatmapgl\",\"colorbar\":{\"outlinewidth\":0,\"ticks\":\"\"},\"colorscale\":[[0.0,\"#0d0887\"],[0.1111111111111111,\"#46039f\"],[0.2222222222222222,\"#7201a8\"],[0.3333333333333333,\"#9c179e\"],[0.4444444444444444,\"#bd3786\"],[0.5555555555555556,\"#d8576b\"],[0.6666666666666666,\"#ed7953\"],[0.7777777777777778,\"#fb9f3a\"],[0.8888888888888888,\"#fdca26\"],[1.0,\"#f0f921\"]]}],\"contourcarpet\":[{\"type\":\"contourcarpet\",\"colorbar\":{\"outlinewidth\":0,\"ticks\":\"\"}}],\"contour\":[{\"type\":\"contour\",\"colorbar\":{\"outlinewidth\":0,\"ticks\":\"\"},\"colorscale\":[[0.0,\"#0d0887\"],[0.1111111111111111,\"#46039f\"],[0.2222222222222222,\"#7201a8\"],[0.3333333333333333,\"#9c179e\"],[0.4444444444444444,\"#bd3786\"],[0.5555555555555556,\"#d8576b\"],[0.6666666666666666,\"#ed7953\"],[0.7777777777777778,\"#fb9f3a\"],[0.8888888888888888,\"#fdca26\"],[1.0,\"#f0f921\"]]}],\"surface\":[{\"type\":\"surface\",\"colorbar\":{\"outlinewidth\":0,\"ticks\":\"\"},\"colorscale\":[[0.0,\"#0d0887\"],[0.1111111111111111,\"#46039f\"],[0.2222222222222222,\"#7201a8\"],[0.3333333333333333,\"#9c179e\"],[0.4444444444444444,\"#bd3786\"],[0.5555555555555556,\"#d8576b\"],[0.6666666666666666,\"#ed7953\"],[0.7777777777777778,\"#fb9f3a\"],[0.8888888888888888,\"#fdca26\"],[1.0,\"#f0f921\"]]}],\"mesh3d\":[{\"type\":\"mesh3d\",\"colorbar\":{\"outlinewidth\":0,\"ticks\":\"\"}}],\"scatter\":[{\"fillpattern\":{\"fillmode\":\"overlay\",\"size\":10,\"solidity\":0.2},\"type\":\"scatter\"}],\"parcoords\":[{\"type\":\"parcoords\",\"line\":{\"colorbar\":{\"outlinewidth\":0,\"ticks\":\"\"}}}],\"scatterpolargl\":[{\"type\":\"scatterpolargl\",\"marker\":{\"colorbar\":{\"outlinewidth\":0,\"ticks\":\"\"}}}],\"bar\":[{\"error_x\":{\"color\":\"#2a3f5f\"},\"error_y\":{\"color\":\"#2a3f5f\"},\"marker\":{\"line\":{\"color\":\"#E5ECF6\",\"width\":0.5},\"pattern\":{\"fillmode\":\"overlay\",\"size\":10,\"solidity\":0.2}},\"type\":\"bar\"}],\"scattergeo\":[{\"type\":\"scattergeo\",\"marker\":{\"colorbar\":{\"outlinewidth\":0,\"ticks\":\"\"}}}],\"scatterpolar\":[{\"type\":\"scatterpolar\",\"marker\":{\"colorbar\":{\"outlinewidth\":0,\"ticks\":\"\"}}}],\"histogram\":[{\"marker\":{\"pattern\":{\"fillmode\":\"overlay\",\"size\":10,\"solidity\":0.2}},\"type\":\"histogram\"}],\"scattergl\":[{\"type\":\"scattergl\",\"marker\":{\"colorbar\":{\"outlinewidth\":0,\"ticks\":\"\"}}}],\"scatter3d\":[{\"type\":\"scatter3d\",\"line\":{\"colorbar\":{\"outlinewidth\":0,\"ticks\":\"\"}},\"marker\":{\"colorbar\":{\"outlinewidth\":0,\"ticks\":\"\"}}}],\"scattermapbox\":[{\"type\":\"scattermapbox\",\"marker\":{\"colorbar\":{\"outlinewidth\":0,\"ticks\":\"\"}}}],\"scatterternary\":[{\"type\":\"scatterternary\",\"marker\":{\"colorbar\":{\"outlinewidth\":0,\"ticks\":\"\"}}}],\"scattercarpet\":[{\"type\":\"scattercarpet\",\"marker\":{\"colorbar\":{\"outlinewidth\":0,\"ticks\":\"\"}}}],\"carpet\":[{\"aaxis\":{\"endlinecolor\":\"#2a3f5f\",\"gridcolor\":\"white\",\"linecolor\":\"white\",\"minorgridcolor\":\"white\",\"startlinecolor\":\"#2a3f5f\"},\"baxis\":{\"endlinecolor\":\"#2a3f5f\",\"gridcolor\":\"white\",\"linecolor\":\"white\",\"minorgridcolor\":\"white\",\"startlinecolor\":\"#2a3f5f\"},\"type\":\"carpet\"}],\"table\":[{\"cells\":{\"fill\":{\"color\":\"#EBF0F8\"},\"line\":{\"color\":\"white\"}},\"header\":{\"fill\":{\"color\":\"#C8D4E3\"},\"line\":{\"color\":\"white\"}},\"type\":\"table\"}],\"barpolar\":[{\"marker\":{\"line\":{\"color\":\"#E5ECF6\",\"width\":0.5},\"pattern\":{\"fillmode\":\"overlay\",\"size\":10,\"solidity\":0.2}},\"type\":\"barpolar\"}],\"pie\":[{\"automargin\":true,\"type\":\"pie\"}]},\"layout\":{\"autotypenumbers\":\"strict\",\"colorway\":[\"#636efa\",\"#EF553B\",\"#00cc96\",\"#ab63fa\",\"#FFA15A\",\"#19d3f3\",\"#FF6692\",\"#B6E880\",\"#FF97FF\",\"#FECB52\"],\"font\":{\"color\":\"#2a3f5f\"},\"hovermode\":\"closest\",\"hoverlabel\":{\"align\":\"left\"},\"paper_bgcolor\":\"white\",\"plot_bgcolor\":\"#E5ECF6\",\"polar\":{\"bgcolor\":\"#E5ECF6\",\"angularaxis\":{\"gridcolor\":\"white\",\"linecolor\":\"white\",\"ticks\":\"\"},\"radialaxis\":{\"gridcolor\":\"white\",\"linecolor\":\"white\",\"ticks\":\"\"}},\"ternary\":{\"bgcolor\":\"#E5ECF6\",\"aaxis\":{\"gridcolor\":\"white\",\"linecolor\":\"white\",\"ticks\":\"\"},\"baxis\":{\"gridcolor\":\"white\",\"linecolor\":\"white\",\"ticks\":\"\"},\"caxis\":{\"gridcolor\":\"white\",\"linecolor\":\"white\",\"ticks\":\"\"}},\"coloraxis\":{\"colorbar\":{\"outlinewidth\":0,\"ticks\":\"\"}},\"colorscale\":{\"sequential\":[[0.0,\"#0d0887\"],[0.1111111111111111,\"#46039f\"],[0.2222222222222222,\"#7201a8\"],[0.3333333333333333,\"#9c179e\"],[0.4444444444444444,\"#bd3786\"],[0.5555555555555556,\"#d8576b\"],[0.6666666666666666,\"#ed7953\"],[0.7777777777777778,\"#fb9f3a\"],[0.8888888888888888,\"#fdca26\"],[1.0,\"#f0f921\"]],\"sequentialminus\":[[0.0,\"#0d0887\"],[0.1111111111111111,\"#46039f\"],[0.2222222222222222,\"#7201a8\"],[0.3333333333333333,\"#9c179e\"],[0.4444444444444444,\"#bd3786\"],[0.5555555555555556,\"#d8576b\"],[0.6666666666666666,\"#ed7953\"],[0.7777777777777778,\"#fb9f3a\"],[0.8888888888888888,\"#fdca26\"],[1.0,\"#f0f921\"]],\"diverging\":[[0,\"#8e0152\"],[0.1,\"#c51b7d\"],[0.2,\"#de77ae\"],[0.3,\"#f1b6da\"],[0.4,\"#fde0ef\"],[0.5,\"#f7f7f7\"],[0.6,\"#e6f5d0\"],[0.7,\"#b8e186\"],[0.8,\"#7fbc41\"],[0.9,\"#4d9221\"],[1,\"#276419\"]]},\"xaxis\":{\"gridcolor\":\"white\",\"linecolor\":\"white\",\"ticks\":\"\",\"title\":{\"standoff\":15},\"zerolinecolor\":\"white\",\"automargin\":true,\"zerolinewidth\":2},\"yaxis\":{\"gridcolor\":\"white\",\"linecolor\":\"white\",\"ticks\":\"\",\"title\":{\"standoff\":15},\"zerolinecolor\":\"white\",\"automargin\":true,\"zerolinewidth\":2},\"scene\":{\"xaxis\":{\"backgroundcolor\":\"#E5ECF6\",\"gridcolor\":\"white\",\"linecolor\":\"white\",\"showbackground\":true,\"ticks\":\"\",\"zerolinecolor\":\"white\",\"gridwidth\":2},\"yaxis\":{\"backgroundcolor\":\"#E5ECF6\",\"gridcolor\":\"white\",\"linecolor\":\"white\",\"showbackground\":true,\"ticks\":\"\",\"zerolinecolor\":\"white\",\"gridwidth\":2},\"zaxis\":{\"backgroundcolor\":\"#E5ECF6\",\"gridcolor\":\"white\",\"linecolor\":\"white\",\"showbackground\":true,\"ticks\":\"\",\"zerolinecolor\":\"white\",\"gridwidth\":2}},\"shapedefaults\":{\"line\":{\"color\":\"#2a3f5f\"}},\"annotationdefaults\":{\"arrowcolor\":\"#2a3f5f\",\"arrowhead\":0,\"arrowwidth\":1},\"geo\":{\"bgcolor\":\"white\",\"landcolor\":\"#E5ECF6\",\"subunitcolor\":\"white\",\"showland\":true,\"showlakes\":true,\"lakecolor\":\"white\"},\"title\":{\"x\":0.05},\"mapbox\":{\"style\":\"light\"}}},\"xaxis\":{\"title\":{\"text\":\"Year\"},\"tickfont\":{\"size\":14,\"color\":\"black\"},\"showgrid\":false,\"zeroline\":false,\"showticklabels\":true,\"linecolor\":\"black\"},\"yaxis\":{\"title\":{\"text\":\"Total\"},\"tickfont\":{\"size\":14,\"color\":\"black\"},\"showgrid\":false,\"zeroline\":false,\"showticklabels\":true,\"linecolor\":\"black\"},\"title\":{\"text\":\"Psychiatric Inpatients Total by Hospital \\u003cbr\\u003e\\u003csup\\u003eIreland 2019-2022\\u003c\\u002fsup\\u003e\",\"font\":{\"size\":24,\"color\":\"black\"}},\"plot_bgcolor\":\"rgba(0, 0, 0, 0)\",\"paper_bgcolor\":\"rgba(0, 0, 0, 0)\"},                        {\"responsive\": true}                    ).then(function(){\n",
       "                            \n",
       "var gd = document.getElementById('f2ae147f-ca88-4257-a3ab-d36e6d0beb99');\n",
       "var x = new MutationObserver(function (mutations, observer) {{\n",
       "        var display = window.getComputedStyle(gd).display;\n",
       "        if (!display || display === 'none') {{\n",
       "            console.log([gd, 'removed!']);\n",
       "            Plotly.purge(gd);\n",
       "            observer.disconnect();\n",
       "        }}\n",
       "}});\n",
       "\n",
       "// Listen for the removal of the full notebook cells\n",
       "var notebookContainer = gd.closest('#notebook-container');\n",
       "if (notebookContainer) {{\n",
       "    x.observe(notebookContainer, {childList: true});\n",
       "}}\n",
       "\n",
       "// Listen for the clearing of the current output cell\n",
       "var outputEl = gd.closest('.output');\n",
       "if (outputEl) {{\n",
       "    x.observe(outputEl, {childList: true});\n",
       "}}\n",
       "\n",
       "                        })                };                });            </script>        </div>"
      ]
     },
     "metadata": {},
     "output_type": "display_data"
    }
   ],
   "source": [
    "import plotly.graph_objects as go\n",
    "\n",
    "\n",
    "fig = go.Figure()\n",
    "\n",
    "\n",
    "df_grouped = sex[(sex['Year'] >= 2019) & (sex['Year'] <= 2022)].groupby(['Year', 'Type of Hospital']).sum().reset_index()\n",
    "\n",
    "\n",
    "categories = df_grouped['Type of Hospital'].unique()\n",
    "\n",
    "\n",
    "for category in categories:\n",
    "    df_category = df_grouped[df_grouped['Type of Hospital'] == category]\n",
    "    fig.add_trace(go.Scatter(x=df_category['Year'], y=df_category['VALUE'],\n",
    "                             mode='lines+markers', name=str(category)))\n",
    "\n",
    "\n",
    "fig.update_layout({\n",
    "    'plot_bgcolor': 'rgba(0, 0, 0, 0)',\n",
    "    'paper_bgcolor': 'rgba(0, 0, 0, 0)',\n",
    "}, \n",
    "xaxis=dict(showgrid=False, zeroline=False, showticklabels=True, linecolor='black', title_font=dict(size=18, color='black'), tickfont=dict(size=14, color='black'), title='Year'),\n",
    "yaxis=dict(showgrid=False, zeroline=False, showticklabels=True, linecolor='black', title_font=dict(size=18, color='black'), tickfont=dict(size=14, color='black'), title='Total'),\n",
    "title = \"Psychiatric Inpatients Total by Hospital <br><sup>Ireland 2019-2022</sup>\",\n",
    "title_font=dict(size=24, color='black'))\n",
    "\n",
    "fig.show()"
   ]
  },
  {
   "cell_type": "markdown",
   "id": "621cac2a",
   "metadata": {},
   "source": [
    "The above chart, which needs further work to its colors and fonts, is used to visualise the trend before during and after the covid-19 pandemic"
   ]
  },
  {
   "cell_type": "markdown",
   "id": "fe038684",
   "metadata": {},
   "source": [
    "___________________________________________________________________________________________________________________"
   ]
  },
  {
   "cell_type": "code",
   "execution_count": 4,
   "id": "36d3b412",
   "metadata": {
    "scrolled": true
   },
   "outputs": [
    {
     "data": {
      "text/html": [
       "<div>\n",
       "<style scoped>\n",
       "    .dataframe tbody tr th:only-of-type {\n",
       "        vertical-align: middle;\n",
       "    }\n",
       "\n",
       "    .dataframe tbody tr th {\n",
       "        vertical-align: top;\n",
       "    }\n",
       "\n",
       "    .dataframe thead th {\n",
       "        text-align: right;\n",
       "    }\n",
       "</style>\n",
       "<table border=\"1\" class=\"dataframe\">\n",
       "  <thead>\n",
       "    <tr style=\"text-align: right;\">\n",
       "      <th></th>\n",
       "      <th>Statistic Label</th>\n",
       "      <th>Year</th>\n",
       "      <th>Type of Hospital</th>\n",
       "      <th>Socio Economic Group</th>\n",
       "      <th>UNIT</th>\n",
       "      <th>VALUE</th>\n",
       "    </tr>\n",
       "  </thead>\n",
       "  <tbody>\n",
       "    <tr>\n",
       "      <th>1003</th>\n",
       "      <td>Psychiatric In-patients (%)</td>\n",
       "      <td>2022</td>\n",
       "      <td>Private hospitals</td>\n",
       "      <td>Manual skilled</td>\n",
       "      <td>%</td>\n",
       "      <td>2.41</td>\n",
       "    </tr>\n",
       "    <tr>\n",
       "      <th>1004</th>\n",
       "      <td>Psychiatric In-patients (%)</td>\n",
       "      <td>2022</td>\n",
       "      <td>Private hospitals</td>\n",
       "      <td>Semi-skilled</td>\n",
       "      <td>%</td>\n",
       "      <td>2.63</td>\n",
       "    </tr>\n",
       "    <tr>\n",
       "      <th>1005</th>\n",
       "      <td>Psychiatric In-patients (%)</td>\n",
       "      <td>2022</td>\n",
       "      <td>Private hospitals</td>\n",
       "      <td>Unskilled</td>\n",
       "      <td>%</td>\n",
       "      <td>1.75</td>\n",
       "    </tr>\n",
       "    <tr>\n",
       "      <th>1006</th>\n",
       "      <td>Psychiatric In-patients (%)</td>\n",
       "      <td>2022</td>\n",
       "      <td>Private hospitals</td>\n",
       "      <td>Unspecified</td>\n",
       "      <td>%</td>\n",
       "      <td>59.43</td>\n",
       "    </tr>\n",
       "    <tr>\n",
       "      <th>1007</th>\n",
       "      <td>Psychiatric In-patients (%)</td>\n",
       "      <td>2022</td>\n",
       "      <td>Private hospitals</td>\n",
       "      <td>All socio-economic groups</td>\n",
       "      <td>%</td>\n",
       "      <td>100.00</td>\n",
       "    </tr>\n",
       "  </tbody>\n",
       "</table>\n",
       "</div>"
      ],
      "text/plain": [
       "                  Statistic Label  Year   Type of Hospital   \n",
       "1003  Psychiatric In-patients (%)  2022  Private hospitals  \\\n",
       "1004  Psychiatric In-patients (%)  2022  Private hospitals   \n",
       "1005  Psychiatric In-patients (%)  2022  Private hospitals   \n",
       "1006  Psychiatric In-patients (%)  2022  Private hospitals   \n",
       "1007  Psychiatric In-patients (%)  2022  Private hospitals   \n",
       "\n",
       "           Socio Economic Group UNIT   VALUE  \n",
       "1003             Manual skilled    %    2.41  \n",
       "1004               Semi-skilled    %    2.63  \n",
       "1005                  Unskilled    %    1.75  \n",
       "1006                Unspecified    %   59.43  \n",
       "1007  All socio-economic groups    %  100.00  "
      ]
     },
     "execution_count": 4,
     "metadata": {},
     "output_type": "execute_result"
    }
   ],
   "source": [
    "socioeco.tail()"
   ]
  },
  {
   "cell_type": "code",
   "execution_count": 76,
   "id": "d8756560",
   "metadata": {},
   "outputs": [
    {
     "data": {
      "text/html": [
       "<div>\n",
       "<style scoped>\n",
       "    .dataframe tbody tr th:only-of-type {\n",
       "        vertical-align: middle;\n",
       "    }\n",
       "\n",
       "    .dataframe tbody tr th {\n",
       "        vertical-align: top;\n",
       "    }\n",
       "\n",
       "    .dataframe thead th {\n",
       "        text-align: right;\n",
       "    }\n",
       "</style>\n",
       "<table border=\"1\" class=\"dataframe\">\n",
       "  <thead>\n",
       "    <tr style=\"text-align: right;\">\n",
       "      <th></th>\n",
       "      <th>Statistic Label</th>\n",
       "      <th>Year</th>\n",
       "      <th>Detailed Marital Status</th>\n",
       "      <th>Type of Hospital</th>\n",
       "      <th>UNIT</th>\n",
       "      <th>VALUE</th>\n",
       "    </tr>\n",
       "  </thead>\n",
       "  <tbody>\n",
       "    <tr>\n",
       "      <th>0</th>\n",
       "      <td>Psychiatric In-patients (Number)</td>\n",
       "      <td>2013</td>\n",
       "      <td>All marital status</td>\n",
       "      <td>Central Mental Hospital, Dublin</td>\n",
       "      <td>Number</td>\n",
       "      <td>93.0</td>\n",
       "    </tr>\n",
       "    <tr>\n",
       "      <th>1</th>\n",
       "      <td>Psychiatric In-patients (Number)</td>\n",
       "      <td>2013</td>\n",
       "      <td>All marital status</td>\n",
       "      <td>St Joseph's Intellectual Disability Service</td>\n",
       "      <td>Number</td>\n",
       "      <td>130.0</td>\n",
       "    </tr>\n",
       "    <tr>\n",
       "      <th>2</th>\n",
       "      <td>Psychiatric In-patients (Number)</td>\n",
       "      <td>2013</td>\n",
       "      <td>All marital status</td>\n",
       "      <td>Carraig Mór, Cork</td>\n",
       "      <td>Number</td>\n",
       "      <td>36.0</td>\n",
       "    </tr>\n",
       "    <tr>\n",
       "      <th>3</th>\n",
       "      <td>Psychiatric In-patients (Number)</td>\n",
       "      <td>2013</td>\n",
       "      <td>All marital status</td>\n",
       "      <td>Total psychiatric hospitals</td>\n",
       "      <td>Number</td>\n",
       "      <td>2401.0</td>\n",
       "    </tr>\n",
       "    <tr>\n",
       "      <th>4</th>\n",
       "      <td>Psychiatric In-patients (Number)</td>\n",
       "      <td>2013</td>\n",
       "      <td>All marital status</td>\n",
       "      <td>General hospital psychiatric units</td>\n",
       "      <td>Number</td>\n",
       "      <td>718.0</td>\n",
       "    </tr>\n",
       "  </tbody>\n",
       "</table>\n",
       "</div>"
      ],
      "text/plain": [
       "                    Statistic Label  Year Detailed Marital Status   \n",
       "0  Psychiatric In-patients (Number)  2013      All marital status  \\\n",
       "1  Psychiatric In-patients (Number)  2013      All marital status   \n",
       "2  Psychiatric In-patients (Number)  2013      All marital status   \n",
       "3  Psychiatric In-patients (Number)  2013      All marital status   \n",
       "4  Psychiatric In-patients (Number)  2013      All marital status   \n",
       "\n",
       "                              Type of Hospital    UNIT   VALUE  \n",
       "0              Central Mental Hospital, Dublin  Number    93.0  \n",
       "1  St Joseph's Intellectual Disability Service  Number   130.0  \n",
       "2                            Carraig Mór, Cork  Number    36.0  \n",
       "3                  Total psychiatric hospitals  Number  2401.0  \n",
       "4           General hospital psychiatric units  Number   718.0  "
      ]
     },
     "execution_count": 76,
     "metadata": {},
     "output_type": "execute_result"
    }
   ],
   "source": [
    "marital.head()"
   ]
  },
  {
   "cell_type": "code",
   "execution_count": 77,
   "id": "503836ea",
   "metadata": {},
   "outputs": [
    {
     "data": {
      "text/html": [
       "<div>\n",
       "<style scoped>\n",
       "    .dataframe tbody tr th:only-of-type {\n",
       "        vertical-align: middle;\n",
       "    }\n",
       "\n",
       "    .dataframe tbody tr th {\n",
       "        vertical-align: top;\n",
       "    }\n",
       "\n",
       "    .dataframe thead th {\n",
       "        text-align: right;\n",
       "    }\n",
       "</style>\n",
       "<table border=\"1\" class=\"dataframe\">\n",
       "  <thead>\n",
       "    <tr style=\"text-align: right;\">\n",
       "      <th></th>\n",
       "      <th>Statistic Label</th>\n",
       "      <th>Year</th>\n",
       "      <th>Type of Hospital</th>\n",
       "      <th>ICD 10 Diagnostic Group</th>\n",
       "      <th>UNIT</th>\n",
       "      <th>VALUE</th>\n",
       "    </tr>\n",
       "  </thead>\n",
       "  <tbody>\n",
       "    <tr>\n",
       "      <th>0</th>\n",
       "      <td>Psychiatric In-patients (Number)</td>\n",
       "      <td>2013</td>\n",
       "      <td>Central Mental Hospital, Dublin</td>\n",
       "      <td>Organic mental disorders</td>\n",
       "      <td>Number</td>\n",
       "      <td>1.0</td>\n",
       "    </tr>\n",
       "    <tr>\n",
       "      <th>1</th>\n",
       "      <td>Psychiatric In-patients (Number)</td>\n",
       "      <td>2013</td>\n",
       "      <td>Central Mental Hospital, Dublin</td>\n",
       "      <td>Schizophrenia, schizotypal and delusional diso...</td>\n",
       "      <td>Number</td>\n",
       "      <td>68.0</td>\n",
       "    </tr>\n",
       "    <tr>\n",
       "      <th>2</th>\n",
       "      <td>Psychiatric In-patients (Number)</td>\n",
       "      <td>2013</td>\n",
       "      <td>Central Mental Hospital, Dublin</td>\n",
       "      <td>Depressive disorders</td>\n",
       "      <td>Number</td>\n",
       "      <td>3.0</td>\n",
       "    </tr>\n",
       "    <tr>\n",
       "      <th>3</th>\n",
       "      <td>Psychiatric In-patients (Number)</td>\n",
       "      <td>2013</td>\n",
       "      <td>Central Mental Hospital, Dublin</td>\n",
       "      <td>Mania</td>\n",
       "      <td>Number</td>\n",
       "      <td>4.0</td>\n",
       "    </tr>\n",
       "    <tr>\n",
       "      <th>4</th>\n",
       "      <td>Psychiatric In-patients (Number)</td>\n",
       "      <td>2013</td>\n",
       "      <td>Central Mental Hospital, Dublin</td>\n",
       "      <td>Neuroses</td>\n",
       "      <td>Number</td>\n",
       "      <td>1.0</td>\n",
       "    </tr>\n",
       "  </tbody>\n",
       "</table>\n",
       "</div>"
      ],
      "text/plain": [
       "                    Statistic Label  Year                 Type of Hospital   \n",
       "0  Psychiatric In-patients (Number)  2013  Central Mental Hospital, Dublin  \\\n",
       "1  Psychiatric In-patients (Number)  2013  Central Mental Hospital, Dublin   \n",
       "2  Psychiatric In-patients (Number)  2013  Central Mental Hospital, Dublin   \n",
       "3  Psychiatric In-patients (Number)  2013  Central Mental Hospital, Dublin   \n",
       "4  Psychiatric In-patients (Number)  2013  Central Mental Hospital, Dublin   \n",
       "\n",
       "                             ICD 10 Diagnostic Group    UNIT  VALUE  \n",
       "0                           Organic mental disorders  Number    1.0  \n",
       "1  Schizophrenia, schizotypal and delusional diso...  Number   68.0  \n",
       "2                               Depressive disorders  Number    3.0  \n",
       "3                                              Mania  Number    4.0  \n",
       "4                                           Neuroses  Number    1.0  "
      ]
     },
     "execution_count": 77,
     "metadata": {},
     "output_type": "execute_result"
    }
   ],
   "source": [
    "diag.head()"
   ]
  },
  {
   "cell_type": "code",
   "execution_count": 7,
   "id": "61cae5bb",
   "metadata": {
    "scrolled": true
   },
   "outputs": [
    {
     "data": {
      "text/html": [
       "<div>\n",
       "<style scoped>\n",
       "    .dataframe tbody tr th:only-of-type {\n",
       "        vertical-align: middle;\n",
       "    }\n",
       "\n",
       "    .dataframe tbody tr th {\n",
       "        vertical-align: top;\n",
       "    }\n",
       "\n",
       "    .dataframe thead th {\n",
       "        text-align: right;\n",
       "    }\n",
       "</style>\n",
       "<table border=\"1\" class=\"dataframe\">\n",
       "  <thead>\n",
       "    <tr style=\"text-align: right;\">\n",
       "      <th></th>\n",
       "      <th>Year</th>\n",
       "      <th>VALUE</th>\n",
       "    </tr>\n",
       "  </thead>\n",
       "  <tbody>\n",
       "    <tr>\n",
       "      <th>count</th>\n",
       "      <td>1008.000000</td>\n",
       "      <td>1008.000000</td>\n",
       "    </tr>\n",
       "    <tr>\n",
       "      <th>mean</th>\n",
       "      <td>2018.500000</td>\n",
       "      <td>58.835972</td>\n",
       "    </tr>\n",
       "    <tr>\n",
       "      <th>std</th>\n",
       "      <td>3.097233</td>\n",
       "      <td>213.782562</td>\n",
       "    </tr>\n",
       "    <tr>\n",
       "      <th>min</th>\n",
       "      <td>2013.000000</td>\n",
       "      <td>0.000000</td>\n",
       "    </tr>\n",
       "    <tr>\n",
       "      <th>25%</th>\n",
       "      <td>2016.000000</td>\n",
       "      <td>0.000000</td>\n",
       "    </tr>\n",
       "    <tr>\n",
       "      <th>50%</th>\n",
       "      <td>2019.500000</td>\n",
       "      <td>4.000000</td>\n",
       "    </tr>\n",
       "    <tr>\n",
       "      <th>75%</th>\n",
       "      <td>2021.000000</td>\n",
       "      <td>33.075000</td>\n",
       "    </tr>\n",
       "    <tr>\n",
       "      <th>max</th>\n",
       "      <td>2022.000000</td>\n",
       "      <td>2408.000000</td>\n",
       "    </tr>\n",
       "  </tbody>\n",
       "</table>\n",
       "</div>"
      ],
      "text/plain": [
       "              Year        VALUE\n",
       "count  1008.000000  1008.000000\n",
       "mean   2018.500000    58.835972\n",
       "std       3.097233   213.782562\n",
       "min    2013.000000     0.000000\n",
       "25%    2016.000000     0.000000\n",
       "50%    2019.500000     4.000000\n",
       "75%    2021.000000    33.075000\n",
       "max    2022.000000  2408.000000"
      ]
     },
     "execution_count": 7,
     "metadata": {},
     "output_type": "execute_result"
    }
   ],
   "source": [
    "socioeco.describe()"
   ]
  },
  {
   "cell_type": "code",
   "execution_count": 8,
   "id": "e83d2f7d",
   "metadata": {
    "scrolled": false
   },
   "outputs": [
    {
     "name": "stdout",
     "output_type": "stream",
     "text": [
      "<class 'pandas.core.frame.DataFrame'>\n",
      "RangeIndex: 1008 entries, 0 to 1007\n",
      "Data columns (total 6 columns):\n",
      " #   Column                Non-Null Count  Dtype  \n",
      "---  ------                --------------  -----  \n",
      " 0   Statistic Label       1008 non-null   object \n",
      " 1   Year                  1008 non-null   int64  \n",
      " 2   Type of Hospital      1008 non-null   object \n",
      " 3   Socio Economic Group  1008 non-null   object \n",
      " 4   UNIT                  1008 non-null   object \n",
      " 5   VALUE                 1008 non-null   float64\n",
      "dtypes: float64(1), int64(1), object(4)\n",
      "memory usage: 47.4+ KB\n"
     ]
    }
   ],
   "source": [
    "socioeco.info()"
   ]
  },
  {
   "cell_type": "code",
   "execution_count": 112,
   "id": "bad645e4",
   "metadata": {
    "scrolled": false
   },
   "outputs": [
    {
     "data": {
      "application/vnd.plotly.v1+json": {
       "config": {
        "plotlyServerURL": "https://plot.ly"
       },
       "data": [
        {
         "name": "Female",
         "text": [
          "0.00%",
          "3.53%",
          "-6.28%",
          "-20.98%",
          "1.70%",
          "2.15%"
         ],
         "textfont": {
          "color": "blue",
          "size": 18
         },
         "textposition": "outside",
         "type": "bar",
         "x": [
          2013,
          2016,
          2019,
          2020,
          2021,
          2022
         ],
         "y": [
          1076,
          1114,
          1044,
          825,
          839,
          857
         ]
        },
        {
         "name": "Male",
         "text": [
          "0.00%",
          "-2.34%",
          "-2.32%",
          "-20.81%",
          "3.10%",
          "2.33%"
         ],
         "textfont": {
          "color": "red",
          "size": 18
         },
         "textposition": "outside",
         "type": "bar",
         "x": [
          2013,
          2016,
          2019,
          2020,
          2021,
          2022
         ],
         "y": [
          1325,
          1294,
          1264,
          1001,
          1032,
          1056
         ]
        }
       ],
       "layout": {
        "barmode": "group",
        "template": {
         "data": {
          "bar": [
           {
            "error_x": {
             "color": "#2a3f5f"
            },
            "error_y": {
             "color": "#2a3f5f"
            },
            "marker": {
             "line": {
              "color": "#E5ECF6",
              "width": 0.5
             },
             "pattern": {
              "fillmode": "overlay",
              "size": 10,
              "solidity": 0.2
             }
            },
            "type": "bar"
           }
          ],
          "barpolar": [
           {
            "marker": {
             "line": {
              "color": "#E5ECF6",
              "width": 0.5
             },
             "pattern": {
              "fillmode": "overlay",
              "size": 10,
              "solidity": 0.2
             }
            },
            "type": "barpolar"
           }
          ],
          "carpet": [
           {
            "aaxis": {
             "endlinecolor": "#2a3f5f",
             "gridcolor": "white",
             "linecolor": "white",
             "minorgridcolor": "white",
             "startlinecolor": "#2a3f5f"
            },
            "baxis": {
             "endlinecolor": "#2a3f5f",
             "gridcolor": "white",
             "linecolor": "white",
             "minorgridcolor": "white",
             "startlinecolor": "#2a3f5f"
            },
            "type": "carpet"
           }
          ],
          "choropleth": [
           {
            "colorbar": {
             "outlinewidth": 0,
             "ticks": ""
            },
            "type": "choropleth"
           }
          ],
          "contour": [
           {
            "colorbar": {
             "outlinewidth": 0,
             "ticks": ""
            },
            "colorscale": [
             [
              0,
              "#0d0887"
             ],
             [
              0.1111111111111111,
              "#46039f"
             ],
             [
              0.2222222222222222,
              "#7201a8"
             ],
             [
              0.3333333333333333,
              "#9c179e"
             ],
             [
              0.4444444444444444,
              "#bd3786"
             ],
             [
              0.5555555555555556,
              "#d8576b"
             ],
             [
              0.6666666666666666,
              "#ed7953"
             ],
             [
              0.7777777777777778,
              "#fb9f3a"
             ],
             [
              0.8888888888888888,
              "#fdca26"
             ],
             [
              1,
              "#f0f921"
             ]
            ],
            "type": "contour"
           }
          ],
          "contourcarpet": [
           {
            "colorbar": {
             "outlinewidth": 0,
             "ticks": ""
            },
            "type": "contourcarpet"
           }
          ],
          "heatmap": [
           {
            "colorbar": {
             "outlinewidth": 0,
             "ticks": ""
            },
            "colorscale": [
             [
              0,
              "#0d0887"
             ],
             [
              0.1111111111111111,
              "#46039f"
             ],
             [
              0.2222222222222222,
              "#7201a8"
             ],
             [
              0.3333333333333333,
              "#9c179e"
             ],
             [
              0.4444444444444444,
              "#bd3786"
             ],
             [
              0.5555555555555556,
              "#d8576b"
             ],
             [
              0.6666666666666666,
              "#ed7953"
             ],
             [
              0.7777777777777778,
              "#fb9f3a"
             ],
             [
              0.8888888888888888,
              "#fdca26"
             ],
             [
              1,
              "#f0f921"
             ]
            ],
            "type": "heatmap"
           }
          ],
          "heatmapgl": [
           {
            "colorbar": {
             "outlinewidth": 0,
             "ticks": ""
            },
            "colorscale": [
             [
              0,
              "#0d0887"
             ],
             [
              0.1111111111111111,
              "#46039f"
             ],
             [
              0.2222222222222222,
              "#7201a8"
             ],
             [
              0.3333333333333333,
              "#9c179e"
             ],
             [
              0.4444444444444444,
              "#bd3786"
             ],
             [
              0.5555555555555556,
              "#d8576b"
             ],
             [
              0.6666666666666666,
              "#ed7953"
             ],
             [
              0.7777777777777778,
              "#fb9f3a"
             ],
             [
              0.8888888888888888,
              "#fdca26"
             ],
             [
              1,
              "#f0f921"
             ]
            ],
            "type": "heatmapgl"
           }
          ],
          "histogram": [
           {
            "marker": {
             "pattern": {
              "fillmode": "overlay",
              "size": 10,
              "solidity": 0.2
             }
            },
            "type": "histogram"
           }
          ],
          "histogram2d": [
           {
            "colorbar": {
             "outlinewidth": 0,
             "ticks": ""
            },
            "colorscale": [
             [
              0,
              "#0d0887"
             ],
             [
              0.1111111111111111,
              "#46039f"
             ],
             [
              0.2222222222222222,
              "#7201a8"
             ],
             [
              0.3333333333333333,
              "#9c179e"
             ],
             [
              0.4444444444444444,
              "#bd3786"
             ],
             [
              0.5555555555555556,
              "#d8576b"
             ],
             [
              0.6666666666666666,
              "#ed7953"
             ],
             [
              0.7777777777777778,
              "#fb9f3a"
             ],
             [
              0.8888888888888888,
              "#fdca26"
             ],
             [
              1,
              "#f0f921"
             ]
            ],
            "type": "histogram2d"
           }
          ],
          "histogram2dcontour": [
           {
            "colorbar": {
             "outlinewidth": 0,
             "ticks": ""
            },
            "colorscale": [
             [
              0,
              "#0d0887"
             ],
             [
              0.1111111111111111,
              "#46039f"
             ],
             [
              0.2222222222222222,
              "#7201a8"
             ],
             [
              0.3333333333333333,
              "#9c179e"
             ],
             [
              0.4444444444444444,
              "#bd3786"
             ],
             [
              0.5555555555555556,
              "#d8576b"
             ],
             [
              0.6666666666666666,
              "#ed7953"
             ],
             [
              0.7777777777777778,
              "#fb9f3a"
             ],
             [
              0.8888888888888888,
              "#fdca26"
             ],
             [
              1,
              "#f0f921"
             ]
            ],
            "type": "histogram2dcontour"
           }
          ],
          "mesh3d": [
           {
            "colorbar": {
             "outlinewidth": 0,
             "ticks": ""
            },
            "type": "mesh3d"
           }
          ],
          "parcoords": [
           {
            "line": {
             "colorbar": {
              "outlinewidth": 0,
              "ticks": ""
             }
            },
            "type": "parcoords"
           }
          ],
          "pie": [
           {
            "automargin": true,
            "type": "pie"
           }
          ],
          "scatter": [
           {
            "fillpattern": {
             "fillmode": "overlay",
             "size": 10,
             "solidity": 0.2
            },
            "type": "scatter"
           }
          ],
          "scatter3d": [
           {
            "line": {
             "colorbar": {
              "outlinewidth": 0,
              "ticks": ""
             }
            },
            "marker": {
             "colorbar": {
              "outlinewidth": 0,
              "ticks": ""
             }
            },
            "type": "scatter3d"
           }
          ],
          "scattercarpet": [
           {
            "marker": {
             "colorbar": {
              "outlinewidth": 0,
              "ticks": ""
             }
            },
            "type": "scattercarpet"
           }
          ],
          "scattergeo": [
           {
            "marker": {
             "colorbar": {
              "outlinewidth": 0,
              "ticks": ""
             }
            },
            "type": "scattergeo"
           }
          ],
          "scattergl": [
           {
            "marker": {
             "colorbar": {
              "outlinewidth": 0,
              "ticks": ""
             }
            },
            "type": "scattergl"
           }
          ],
          "scattermapbox": [
           {
            "marker": {
             "colorbar": {
              "outlinewidth": 0,
              "ticks": ""
             }
            },
            "type": "scattermapbox"
           }
          ],
          "scatterpolar": [
           {
            "marker": {
             "colorbar": {
              "outlinewidth": 0,
              "ticks": ""
             }
            },
            "type": "scatterpolar"
           }
          ],
          "scatterpolargl": [
           {
            "marker": {
             "colorbar": {
              "outlinewidth": 0,
              "ticks": ""
             }
            },
            "type": "scatterpolargl"
           }
          ],
          "scatterternary": [
           {
            "marker": {
             "colorbar": {
              "outlinewidth": 0,
              "ticks": ""
             }
            },
            "type": "scatterternary"
           }
          ],
          "surface": [
           {
            "colorbar": {
             "outlinewidth": 0,
             "ticks": ""
            },
            "colorscale": [
             [
              0,
              "#0d0887"
             ],
             [
              0.1111111111111111,
              "#46039f"
             ],
             [
              0.2222222222222222,
              "#7201a8"
             ],
             [
              0.3333333333333333,
              "#9c179e"
             ],
             [
              0.4444444444444444,
              "#bd3786"
             ],
             [
              0.5555555555555556,
              "#d8576b"
             ],
             [
              0.6666666666666666,
              "#ed7953"
             ],
             [
              0.7777777777777778,
              "#fb9f3a"
             ],
             [
              0.8888888888888888,
              "#fdca26"
             ],
             [
              1,
              "#f0f921"
             ]
            ],
            "type": "surface"
           }
          ],
          "table": [
           {
            "cells": {
             "fill": {
              "color": "#EBF0F8"
             },
             "line": {
              "color": "white"
             }
            },
            "header": {
             "fill": {
              "color": "#C8D4E3"
             },
             "line": {
              "color": "white"
             }
            },
            "type": "table"
           }
          ]
         },
         "layout": {
          "annotationdefaults": {
           "arrowcolor": "#2a3f5f",
           "arrowhead": 0,
           "arrowwidth": 1
          },
          "autotypenumbers": "strict",
          "coloraxis": {
           "colorbar": {
            "outlinewidth": 0,
            "ticks": ""
           }
          },
          "colorscale": {
           "diverging": [
            [
             0,
             "#8e0152"
            ],
            [
             0.1,
             "#c51b7d"
            ],
            [
             0.2,
             "#de77ae"
            ],
            [
             0.3,
             "#f1b6da"
            ],
            [
             0.4,
             "#fde0ef"
            ],
            [
             0.5,
             "#f7f7f7"
            ],
            [
             0.6,
             "#e6f5d0"
            ],
            [
             0.7,
             "#b8e186"
            ],
            [
             0.8,
             "#7fbc41"
            ],
            [
             0.9,
             "#4d9221"
            ],
            [
             1,
             "#276419"
            ]
           ],
           "sequential": [
            [
             0,
             "#0d0887"
            ],
            [
             0.1111111111111111,
             "#46039f"
            ],
            [
             0.2222222222222222,
             "#7201a8"
            ],
            [
             0.3333333333333333,
             "#9c179e"
            ],
            [
             0.4444444444444444,
             "#bd3786"
            ],
            [
             0.5555555555555556,
             "#d8576b"
            ],
            [
             0.6666666666666666,
             "#ed7953"
            ],
            [
             0.7777777777777778,
             "#fb9f3a"
            ],
            [
             0.8888888888888888,
             "#fdca26"
            ],
            [
             1,
             "#f0f921"
            ]
           ],
           "sequentialminus": [
            [
             0,
             "#0d0887"
            ],
            [
             0.1111111111111111,
             "#46039f"
            ],
            [
             0.2222222222222222,
             "#7201a8"
            ],
            [
             0.3333333333333333,
             "#9c179e"
            ],
            [
             0.4444444444444444,
             "#bd3786"
            ],
            [
             0.5555555555555556,
             "#d8576b"
            ],
            [
             0.6666666666666666,
             "#ed7953"
            ],
            [
             0.7777777777777778,
             "#fb9f3a"
            ],
            [
             0.8888888888888888,
             "#fdca26"
            ],
            [
             1,
             "#f0f921"
            ]
           ]
          },
          "colorway": [
           "#636efa",
           "#EF553B",
           "#00cc96",
           "#ab63fa",
           "#FFA15A",
           "#19d3f3",
           "#FF6692",
           "#B6E880",
           "#FF97FF",
           "#FECB52"
          ],
          "font": {
           "color": "#2a3f5f"
          },
          "geo": {
           "bgcolor": "white",
           "lakecolor": "white",
           "landcolor": "#E5ECF6",
           "showlakes": true,
           "showland": true,
           "subunitcolor": "white"
          },
          "hoverlabel": {
           "align": "left"
          },
          "hovermode": "closest",
          "mapbox": {
           "style": "light"
          },
          "paper_bgcolor": "white",
          "plot_bgcolor": "#E5ECF6",
          "polar": {
           "angularaxis": {
            "gridcolor": "white",
            "linecolor": "white",
            "ticks": ""
           },
           "bgcolor": "#E5ECF6",
           "radialaxis": {
            "gridcolor": "white",
            "linecolor": "white",
            "ticks": ""
           }
          },
          "scene": {
           "xaxis": {
            "backgroundcolor": "#E5ECF6",
            "gridcolor": "white",
            "gridwidth": 2,
            "linecolor": "white",
            "showbackground": true,
            "ticks": "",
            "zerolinecolor": "white"
           },
           "yaxis": {
            "backgroundcolor": "#E5ECF6",
            "gridcolor": "white",
            "gridwidth": 2,
            "linecolor": "white",
            "showbackground": true,
            "ticks": "",
            "zerolinecolor": "white"
           },
           "zaxis": {
            "backgroundcolor": "#E5ECF6",
            "gridcolor": "white",
            "gridwidth": 2,
            "linecolor": "white",
            "showbackground": true,
            "ticks": "",
            "zerolinecolor": "white"
           }
          },
          "shapedefaults": {
           "line": {
            "color": "#2a3f5f"
           }
          },
          "ternary": {
           "aaxis": {
            "gridcolor": "white",
            "linecolor": "white",
            "ticks": ""
           },
           "baxis": {
            "gridcolor": "white",
            "linecolor": "white",
            "ticks": ""
           },
           "bgcolor": "#E5ECF6",
           "caxis": {
            "gridcolor": "white",
            "linecolor": "white",
            "ticks": ""
           }
          },
          "title": {
           "x": 0.05
          },
          "xaxis": {
           "automargin": true,
           "gridcolor": "white",
           "linecolor": "white",
           "ticks": "",
           "title": {
            "standoff": 15
           },
           "zerolinecolor": "white",
           "zerolinewidth": 2
          },
          "yaxis": {
           "automargin": true,
           "gridcolor": "white",
           "linecolor": "white",
           "ticks": "",
           "title": {
            "standoff": 15
           },
           "zerolinecolor": "white",
           "zerolinewidth": 2
          }
         }
        },
        "title": {
         "text": "Year-over-Year Percentage Change by Gender <br><sup>Ireland 2013-2022</sup>"
        }
       }
      },
      "text/html": [
       "<div>                            <div id=\"dd09654f-e6fe-4e64-a118-596dc9e796c6\" class=\"plotly-graph-div\" style=\"height:525px; width:100%;\"></div>            <script type=\"text/javascript\">                require([\"plotly\"], function(Plotly) {                    window.PLOTLYENV=window.PLOTLYENV || {};                                    if (document.getElementById(\"dd09654f-e6fe-4e64-a118-596dc9e796c6\")) {                    Plotly.newPlot(                        \"dd09654f-e6fe-4e64-a118-596dc9e796c6\",                        [{\"name\":\"Female\",\"text\":[\"0.00%\",\"3.53%\",\"-6.28%\",\"-20.98%\",\"1.70%\",\"2.15%\"],\"textfont\":{\"color\":\"blue\",\"size\":18},\"textposition\":\"outside\",\"x\":[2013,2016,2019,2020,2021,2022],\"y\":[1076.0,1114.0,1044.0,825.0,839.0,857.0],\"type\":\"bar\"},{\"name\":\"Male\",\"text\":[\"0.00%\",\"-2.34%\",\"-2.32%\",\"-20.81%\",\"3.10%\",\"2.33%\"],\"textfont\":{\"color\":\"red\",\"size\":18},\"textposition\":\"outside\",\"x\":[2013,2016,2019,2020,2021,2022],\"y\":[1325.0,1294.0,1264.0,1001.0,1032.0,1056.0],\"type\":\"bar\"}],                        {\"template\":{\"data\":{\"histogram2dcontour\":[{\"type\":\"histogram2dcontour\",\"colorbar\":{\"outlinewidth\":0,\"ticks\":\"\"},\"colorscale\":[[0.0,\"#0d0887\"],[0.1111111111111111,\"#46039f\"],[0.2222222222222222,\"#7201a8\"],[0.3333333333333333,\"#9c179e\"],[0.4444444444444444,\"#bd3786\"],[0.5555555555555556,\"#d8576b\"],[0.6666666666666666,\"#ed7953\"],[0.7777777777777778,\"#fb9f3a\"],[0.8888888888888888,\"#fdca26\"],[1.0,\"#f0f921\"]]}],\"choropleth\":[{\"type\":\"choropleth\",\"colorbar\":{\"outlinewidth\":0,\"ticks\":\"\"}}],\"histogram2d\":[{\"type\":\"histogram2d\",\"colorbar\":{\"outlinewidth\":0,\"ticks\":\"\"},\"colorscale\":[[0.0,\"#0d0887\"],[0.1111111111111111,\"#46039f\"],[0.2222222222222222,\"#7201a8\"],[0.3333333333333333,\"#9c179e\"],[0.4444444444444444,\"#bd3786\"],[0.5555555555555556,\"#d8576b\"],[0.6666666666666666,\"#ed7953\"],[0.7777777777777778,\"#fb9f3a\"],[0.8888888888888888,\"#fdca26\"],[1.0,\"#f0f921\"]]}],\"heatmap\":[{\"type\":\"heatmap\",\"colorbar\":{\"outlinewidth\":0,\"ticks\":\"\"},\"colorscale\":[[0.0,\"#0d0887\"],[0.1111111111111111,\"#46039f\"],[0.2222222222222222,\"#7201a8\"],[0.3333333333333333,\"#9c179e\"],[0.4444444444444444,\"#bd3786\"],[0.5555555555555556,\"#d8576b\"],[0.6666666666666666,\"#ed7953\"],[0.7777777777777778,\"#fb9f3a\"],[0.8888888888888888,\"#fdca26\"],[1.0,\"#f0f921\"]]}],\"heatmapgl\":[{\"type\":\"heatmapgl\",\"colorbar\":{\"outlinewidth\":0,\"ticks\":\"\"},\"colorscale\":[[0.0,\"#0d0887\"],[0.1111111111111111,\"#46039f\"],[0.2222222222222222,\"#7201a8\"],[0.3333333333333333,\"#9c179e\"],[0.4444444444444444,\"#bd3786\"],[0.5555555555555556,\"#d8576b\"],[0.6666666666666666,\"#ed7953\"],[0.7777777777777778,\"#fb9f3a\"],[0.8888888888888888,\"#fdca26\"],[1.0,\"#f0f921\"]]}],\"contourcarpet\":[{\"type\":\"contourcarpet\",\"colorbar\":{\"outlinewidth\":0,\"ticks\":\"\"}}],\"contour\":[{\"type\":\"contour\",\"colorbar\":{\"outlinewidth\":0,\"ticks\":\"\"},\"colorscale\":[[0.0,\"#0d0887\"],[0.1111111111111111,\"#46039f\"],[0.2222222222222222,\"#7201a8\"],[0.3333333333333333,\"#9c179e\"],[0.4444444444444444,\"#bd3786\"],[0.5555555555555556,\"#d8576b\"],[0.6666666666666666,\"#ed7953\"],[0.7777777777777778,\"#fb9f3a\"],[0.8888888888888888,\"#fdca26\"],[1.0,\"#f0f921\"]]}],\"surface\":[{\"type\":\"surface\",\"colorbar\":{\"outlinewidth\":0,\"ticks\":\"\"},\"colorscale\":[[0.0,\"#0d0887\"],[0.1111111111111111,\"#46039f\"],[0.2222222222222222,\"#7201a8\"],[0.3333333333333333,\"#9c179e\"],[0.4444444444444444,\"#bd3786\"],[0.5555555555555556,\"#d8576b\"],[0.6666666666666666,\"#ed7953\"],[0.7777777777777778,\"#fb9f3a\"],[0.8888888888888888,\"#fdca26\"],[1.0,\"#f0f921\"]]}],\"mesh3d\":[{\"type\":\"mesh3d\",\"colorbar\":{\"outlinewidth\":0,\"ticks\":\"\"}}],\"scatter\":[{\"fillpattern\":{\"fillmode\":\"overlay\",\"size\":10,\"solidity\":0.2},\"type\":\"scatter\"}],\"parcoords\":[{\"type\":\"parcoords\",\"line\":{\"colorbar\":{\"outlinewidth\":0,\"ticks\":\"\"}}}],\"scatterpolargl\":[{\"type\":\"scatterpolargl\",\"marker\":{\"colorbar\":{\"outlinewidth\":0,\"ticks\":\"\"}}}],\"bar\":[{\"error_x\":{\"color\":\"#2a3f5f\"},\"error_y\":{\"color\":\"#2a3f5f\"},\"marker\":{\"line\":{\"color\":\"#E5ECF6\",\"width\":0.5},\"pattern\":{\"fillmode\":\"overlay\",\"size\":10,\"solidity\":0.2}},\"type\":\"bar\"}],\"scattergeo\":[{\"type\":\"scattergeo\",\"marker\":{\"colorbar\":{\"outlinewidth\":0,\"ticks\":\"\"}}}],\"scatterpolar\":[{\"type\":\"scatterpolar\",\"marker\":{\"colorbar\":{\"outlinewidth\":0,\"ticks\":\"\"}}}],\"histogram\":[{\"marker\":{\"pattern\":{\"fillmode\":\"overlay\",\"size\":10,\"solidity\":0.2}},\"type\":\"histogram\"}],\"scattergl\":[{\"type\":\"scattergl\",\"marker\":{\"colorbar\":{\"outlinewidth\":0,\"ticks\":\"\"}}}],\"scatter3d\":[{\"type\":\"scatter3d\",\"line\":{\"colorbar\":{\"outlinewidth\":0,\"ticks\":\"\"}},\"marker\":{\"colorbar\":{\"outlinewidth\":0,\"ticks\":\"\"}}}],\"scattermapbox\":[{\"type\":\"scattermapbox\",\"marker\":{\"colorbar\":{\"outlinewidth\":0,\"ticks\":\"\"}}}],\"scatterternary\":[{\"type\":\"scatterternary\",\"marker\":{\"colorbar\":{\"outlinewidth\":0,\"ticks\":\"\"}}}],\"scattercarpet\":[{\"type\":\"scattercarpet\",\"marker\":{\"colorbar\":{\"outlinewidth\":0,\"ticks\":\"\"}}}],\"carpet\":[{\"aaxis\":{\"endlinecolor\":\"#2a3f5f\",\"gridcolor\":\"white\",\"linecolor\":\"white\",\"minorgridcolor\":\"white\",\"startlinecolor\":\"#2a3f5f\"},\"baxis\":{\"endlinecolor\":\"#2a3f5f\",\"gridcolor\":\"white\",\"linecolor\":\"white\",\"minorgridcolor\":\"white\",\"startlinecolor\":\"#2a3f5f\"},\"type\":\"carpet\"}],\"table\":[{\"cells\":{\"fill\":{\"color\":\"#EBF0F8\"},\"line\":{\"color\":\"white\"}},\"header\":{\"fill\":{\"color\":\"#C8D4E3\"},\"line\":{\"color\":\"white\"}},\"type\":\"table\"}],\"barpolar\":[{\"marker\":{\"line\":{\"color\":\"#E5ECF6\",\"width\":0.5},\"pattern\":{\"fillmode\":\"overlay\",\"size\":10,\"solidity\":0.2}},\"type\":\"barpolar\"}],\"pie\":[{\"automargin\":true,\"type\":\"pie\"}]},\"layout\":{\"autotypenumbers\":\"strict\",\"colorway\":[\"#636efa\",\"#EF553B\",\"#00cc96\",\"#ab63fa\",\"#FFA15A\",\"#19d3f3\",\"#FF6692\",\"#B6E880\",\"#FF97FF\",\"#FECB52\"],\"font\":{\"color\":\"#2a3f5f\"},\"hovermode\":\"closest\",\"hoverlabel\":{\"align\":\"left\"},\"paper_bgcolor\":\"white\",\"plot_bgcolor\":\"#E5ECF6\",\"polar\":{\"bgcolor\":\"#E5ECF6\",\"angularaxis\":{\"gridcolor\":\"white\",\"linecolor\":\"white\",\"ticks\":\"\"},\"radialaxis\":{\"gridcolor\":\"white\",\"linecolor\":\"white\",\"ticks\":\"\"}},\"ternary\":{\"bgcolor\":\"#E5ECF6\",\"aaxis\":{\"gridcolor\":\"white\",\"linecolor\":\"white\",\"ticks\":\"\"},\"baxis\":{\"gridcolor\":\"white\",\"linecolor\":\"white\",\"ticks\":\"\"},\"caxis\":{\"gridcolor\":\"white\",\"linecolor\":\"white\",\"ticks\":\"\"}},\"coloraxis\":{\"colorbar\":{\"outlinewidth\":0,\"ticks\":\"\"}},\"colorscale\":{\"sequential\":[[0.0,\"#0d0887\"],[0.1111111111111111,\"#46039f\"],[0.2222222222222222,\"#7201a8\"],[0.3333333333333333,\"#9c179e\"],[0.4444444444444444,\"#bd3786\"],[0.5555555555555556,\"#d8576b\"],[0.6666666666666666,\"#ed7953\"],[0.7777777777777778,\"#fb9f3a\"],[0.8888888888888888,\"#fdca26\"],[1.0,\"#f0f921\"]],\"sequentialminus\":[[0.0,\"#0d0887\"],[0.1111111111111111,\"#46039f\"],[0.2222222222222222,\"#7201a8\"],[0.3333333333333333,\"#9c179e\"],[0.4444444444444444,\"#bd3786\"],[0.5555555555555556,\"#d8576b\"],[0.6666666666666666,\"#ed7953\"],[0.7777777777777778,\"#fb9f3a\"],[0.8888888888888888,\"#fdca26\"],[1.0,\"#f0f921\"]],\"diverging\":[[0,\"#8e0152\"],[0.1,\"#c51b7d\"],[0.2,\"#de77ae\"],[0.3,\"#f1b6da\"],[0.4,\"#fde0ef\"],[0.5,\"#f7f7f7\"],[0.6,\"#e6f5d0\"],[0.7,\"#b8e186\"],[0.8,\"#7fbc41\"],[0.9,\"#4d9221\"],[1,\"#276419\"]]},\"xaxis\":{\"gridcolor\":\"white\",\"linecolor\":\"white\",\"ticks\":\"\",\"title\":{\"standoff\":15},\"zerolinecolor\":\"white\",\"automargin\":true,\"zerolinewidth\":2},\"yaxis\":{\"gridcolor\":\"white\",\"linecolor\":\"white\",\"ticks\":\"\",\"title\":{\"standoff\":15},\"zerolinecolor\":\"white\",\"automargin\":true,\"zerolinewidth\":2},\"scene\":{\"xaxis\":{\"backgroundcolor\":\"#E5ECF6\",\"gridcolor\":\"white\",\"linecolor\":\"white\",\"showbackground\":true,\"ticks\":\"\",\"zerolinecolor\":\"white\",\"gridwidth\":2},\"yaxis\":{\"backgroundcolor\":\"#E5ECF6\",\"gridcolor\":\"white\",\"linecolor\":\"white\",\"showbackground\":true,\"ticks\":\"\",\"zerolinecolor\":\"white\",\"gridwidth\":2},\"zaxis\":{\"backgroundcolor\":\"#E5ECF6\",\"gridcolor\":\"white\",\"linecolor\":\"white\",\"showbackground\":true,\"ticks\":\"\",\"zerolinecolor\":\"white\",\"gridwidth\":2}},\"shapedefaults\":{\"line\":{\"color\":\"#2a3f5f\"}},\"annotationdefaults\":{\"arrowcolor\":\"#2a3f5f\",\"arrowhead\":0,\"arrowwidth\":1},\"geo\":{\"bgcolor\":\"white\",\"landcolor\":\"#E5ECF6\",\"subunitcolor\":\"white\",\"showland\":true,\"showlakes\":true,\"lakecolor\":\"white\"},\"title\":{\"x\":0.05},\"mapbox\":{\"style\":\"light\"}}},\"barmode\":\"group\",\"title\":{\"text\":\"Year-over-Year Percentage Change by Gender \\u003cbr\\u003e\\u003csup\\u003eIreland 2013-2022\\u003c\\u002fsup\\u003e\"}},                        {\"responsive\": true}                    ).then(function(){\n",
       "                            \n",
       "var gd = document.getElementById('dd09654f-e6fe-4e64-a118-596dc9e796c6');\n",
       "var x = new MutationObserver(function (mutations, observer) {{\n",
       "        var display = window.getComputedStyle(gd).display;\n",
       "        if (!display || display === 'none') {{\n",
       "            console.log([gd, 'removed!']);\n",
       "            Plotly.purge(gd);\n",
       "            observer.disconnect();\n",
       "        }}\n",
       "}});\n",
       "\n",
       "// Listen for the removal of the full notebook cells\n",
       "var notebookContainer = gd.closest('#notebook-container');\n",
       "if (notebookContainer) {{\n",
       "    x.observe(notebookContainer, {childList: true});\n",
       "}}\n",
       "\n",
       "// Listen for the clearing of the current output cell\n",
       "var outputEl = gd.closest('.output');\n",
       "if (outputEl) {{\n",
       "    x.observe(outputEl, {childList: true});\n",
       "}}\n",
       "\n",
       "                        })                };                });            </script>        </div>"
      ]
     },
     "metadata": {},
     "output_type": "display_data"
    }
   ],
   "source": [
    "import plotly.graph_objects as go\n",
    "\n",
    "df_group = sex.groupby(['Year', 'Sex'])['VALUE'].sum().reset_index()\n",
    "\n",
    "\n",
    "years = df_group['Year'].unique()\n",
    "genders = df_group['Sex'].unique()\n",
    "\n",
    "fig = go.Figure()\n",
    "\n",
    "\n",
    "for gender in genders:\n",
    "    gender_df = df_group[df_group['Sex'] == gender]\n",
    "    gender_totals = gender_df['VALUE'].values\n",
    "    gender_percentage_change = [0] + [100 * (gender_totals[i] - gender_totals[i-1]) / gender_totals[i-1] for i in range(1, len(gender_totals))]\n",
    "    \n",
    "    fig.add_trace(go.Bar(\n",
    "        name=gender,\n",
    "        x=gender_df['Year'],\n",
    "        y=gender_totals,\n",
    "        text=[f\"{change:.2f}%\" for change in gender_percentage_change],\n",
    "        textposition='outside',\n",
    "        textfont_size=18,\n",
    "        textfont_color='red' if gender == 'Male' else 'blue'\n",
    "    ))\n",
    "\n",
    "fig.update_layout(barmode='group', title='Year-over-Year Percentage Change by Gender <br><sup>Ireland 2013-2022</sup>')\n",
    "\n",
    "fig.show()\n"
   ]
  },
  {
   "cell_type": "markdown",
   "id": "6a38af35",
   "metadata": {},
   "source": [
    "Above is a graphical representation of the total population change by gender in psychiatric hospitals in Ireland over time. For both male and female genders the chart represents an almost 21% decrease in inpatients from 2019 to 2020. The growth of inpatients post the 2020 decline is observed to be higher for males than females.  "
   ]
  },
  {
   "cell_type": "code",
   "execution_count": 113,
   "id": "6c06d015",
   "metadata": {
    "scrolled": false
   },
   "outputs": [
    {
     "data": {
      "text/html": [
       "<div>\n",
       "<style scoped>\n",
       "    .dataframe tbody tr th:only-of-type {\n",
       "        vertical-align: middle;\n",
       "    }\n",
       "\n",
       "    .dataframe tbody tr th {\n",
       "        vertical-align: top;\n",
       "    }\n",
       "\n",
       "    .dataframe thead th {\n",
       "        text-align: right;\n",
       "    }\n",
       "</style>\n",
       "<table border=\"1\" class=\"dataframe\">\n",
       "  <thead>\n",
       "    <tr style=\"text-align: right;\">\n",
       "      <th></th>\n",
       "      <th>Year</th>\n",
       "      <th>Sex</th>\n",
       "      <th>Type of Hospital</th>\n",
       "      <th>VALUE</th>\n",
       "    </tr>\n",
       "  </thead>\n",
       "  <tbody>\n",
       "    <tr>\n",
       "      <th>7</th>\n",
       "      <td>2013</td>\n",
       "      <td>Male</td>\n",
       "      <td>Central Mental Hospital, Dublin</td>\n",
       "      <td>84.0</td>\n",
       "    </tr>\n",
       "    <tr>\n",
       "      <th>8</th>\n",
       "      <td>2013</td>\n",
       "      <td>Male</td>\n",
       "      <td>St Joseph's Intellectual Disability Service</td>\n",
       "      <td>88.0</td>\n",
       "    </tr>\n",
       "    <tr>\n",
       "      <th>9</th>\n",
       "      <td>2013</td>\n",
       "      <td>Male</td>\n",
       "      <td>Carraig Mór, Cork</td>\n",
       "      <td>25.0</td>\n",
       "    </tr>\n",
       "    <tr>\n",
       "      <th>11</th>\n",
       "      <td>2013</td>\n",
       "      <td>Male</td>\n",
       "      <td>General hospital psychiatric units</td>\n",
       "      <td>380.0</td>\n",
       "    </tr>\n",
       "    <tr>\n",
       "      <th>12</th>\n",
       "      <td>2013</td>\n",
       "      <td>Male</td>\n",
       "      <td>Psychiatric hospitals/continuing care units</td>\n",
       "      <td>513.0</td>\n",
       "    </tr>\n",
       "  </tbody>\n",
       "</table>\n",
       "</div>"
      ],
      "text/plain": [
       "    Year   Sex                             Type of Hospital  VALUE\n",
       "7   2013  Male              Central Mental Hospital, Dublin   84.0\n",
       "8   2013  Male  St Joseph's Intellectual Disability Service   88.0\n",
       "9   2013  Male                            Carraig Mór, Cork   25.0\n",
       "11  2013  Male           General hospital psychiatric units  380.0\n",
       "12  2013  Male  Psychiatric hospitals/continuing care units  513.0"
      ]
     },
     "execution_count": 113,
     "metadata": {},
     "output_type": "execute_result"
    }
   ],
   "source": [
    "sex.head()"
   ]
  },
  {
   "cell_type": "markdown",
   "id": "79c06907",
   "metadata": {},
   "source": [
    "The visualisation of the selected time frame for the observed decrease in the original total inpatient trend, demonstrates all hospitals in the dataset recorded a decrease for 2019/2020 which may imply a shared cause throughout the sector. Although Carraig Mor had one of the smaller population sizes, it recorded the highest decrease in inpatients at -33.33% for the year 2020 with Private hospitals recording the second highest decrease."
   ]
  },
  {
   "cell_type": "markdown",
   "id": "96f2a214",
   "metadata": {},
   "source": [
    "<h1> Pysychiatric Inpatient Demographics - 2019-2022 <h1> <br><sup>Private vs Public</sup>"
   ]
  },
  {
   "cell_type": "markdown",
   "id": "e20fa2b9",
   "metadata": {},
   "source": [
    "Knowing that the overall inpatient population of the mentioned hospitals in this dataset faced a sharp decline in inpatients from 2019 to 2020, this section of the analysis will focus on the patient demographics for the time frame 2019 to 2022 from the perspective of private and public hospitals. The purpose of this section is to (A) Distinguish if a particular socio-economic group may be more vulnerable to sudden sharp decreases in inpatient care and/or (B) Discover if there is a notable diffrence between private hospitals and public hospitals intake post the sharp decline."
   ]
  },
  {
   "cell_type": "code",
   "execution_count": 81,
   "id": "0412c532",
   "metadata": {
    "scrolled": true
   },
   "outputs": [
    {
     "data": {
      "text/html": [
       "<div>\n",
       "<style scoped>\n",
       "    .dataframe tbody tr th:only-of-type {\n",
       "        vertical-align: middle;\n",
       "    }\n",
       "\n",
       "    .dataframe tbody tr th {\n",
       "        vertical-align: top;\n",
       "    }\n",
       "\n",
       "    .dataframe thead th {\n",
       "        text-align: right;\n",
       "    }\n",
       "</style>\n",
       "<table border=\"1\" class=\"dataframe\">\n",
       "  <thead>\n",
       "    <tr style=\"text-align: right;\">\n",
       "      <th></th>\n",
       "      <th>Statistic Label</th>\n",
       "      <th>Year</th>\n",
       "      <th>Type of Hospital</th>\n",
       "      <th>Socio Economic Group</th>\n",
       "      <th>UNIT</th>\n",
       "      <th>VALUE</th>\n",
       "    </tr>\n",
       "  </thead>\n",
       "  <tbody>\n",
       "    <tr>\n",
       "      <th>1003</th>\n",
       "      <td>Psychiatric In-patients (%)</td>\n",
       "      <td>2022</td>\n",
       "      <td>Private hospitals</td>\n",
       "      <td>Manual skilled</td>\n",
       "      <td>%</td>\n",
       "      <td>2.41</td>\n",
       "    </tr>\n",
       "    <tr>\n",
       "      <th>1004</th>\n",
       "      <td>Psychiatric In-patients (%)</td>\n",
       "      <td>2022</td>\n",
       "      <td>Private hospitals</td>\n",
       "      <td>Semi-skilled</td>\n",
       "      <td>%</td>\n",
       "      <td>2.63</td>\n",
       "    </tr>\n",
       "    <tr>\n",
       "      <th>1005</th>\n",
       "      <td>Psychiatric In-patients (%)</td>\n",
       "      <td>2022</td>\n",
       "      <td>Private hospitals</td>\n",
       "      <td>Unskilled</td>\n",
       "      <td>%</td>\n",
       "      <td>1.75</td>\n",
       "    </tr>\n",
       "    <tr>\n",
       "      <th>1006</th>\n",
       "      <td>Psychiatric In-patients (%)</td>\n",
       "      <td>2022</td>\n",
       "      <td>Private hospitals</td>\n",
       "      <td>Unspecified</td>\n",
       "      <td>%</td>\n",
       "      <td>59.43</td>\n",
       "    </tr>\n",
       "    <tr>\n",
       "      <th>1007</th>\n",
       "      <td>Psychiatric In-patients (%)</td>\n",
       "      <td>2022</td>\n",
       "      <td>Private hospitals</td>\n",
       "      <td>All socio-economic groups</td>\n",
       "      <td>%</td>\n",
       "      <td>100.00</td>\n",
       "    </tr>\n",
       "  </tbody>\n",
       "</table>\n",
       "</div>"
      ],
      "text/plain": [
       "                  Statistic Label  Year   Type of Hospital   \n",
       "1003  Psychiatric In-patients (%)  2022  Private hospitals  \\\n",
       "1004  Psychiatric In-patients (%)  2022  Private hospitals   \n",
       "1005  Psychiatric In-patients (%)  2022  Private hospitals   \n",
       "1006  Psychiatric In-patients (%)  2022  Private hospitals   \n",
       "1007  Psychiatric In-patients (%)  2022  Private hospitals   \n",
       "\n",
       "           Socio Economic Group UNIT   VALUE  \n",
       "1003             Manual skilled    %    2.41  \n",
       "1004               Semi-skilled    %    2.63  \n",
       "1005                  Unskilled    %    1.75  \n",
       "1006                Unspecified    %   59.43  \n",
       "1007  All socio-economic groups    %  100.00  "
      ]
     },
     "execution_count": 81,
     "metadata": {},
     "output_type": "execute_result"
    }
   ],
   "source": [
    "socioeco.tail()"
   ]
  },
  {
   "cell_type": "code",
   "execution_count": 82,
   "id": "3e04ab82",
   "metadata": {},
   "outputs": [
    {
     "data": {
      "text/plain": [
       "Statistic Label         0\n",
       "Year                    0\n",
       "Type of Hospital        0\n",
       "Socio Economic Group    0\n",
       "UNIT                    0\n",
       "VALUE                   0\n",
       "dtype: int64"
      ]
     },
     "execution_count": 82,
     "metadata": {},
     "output_type": "execute_result"
    }
   ],
   "source": [
    "socioeco.isnull().sum()"
   ]
  },
  {
   "cell_type": "code",
   "execution_count": 83,
   "id": "de3a04e7",
   "metadata": {},
   "outputs": [
    {
     "data": {
      "text/plain": [
       "Statistic Label          object\n",
       "Year                      int64\n",
       "Type of Hospital         object\n",
       "Socio Economic Group     object\n",
       "UNIT                     object\n",
       "VALUE                   float64\n",
       "dtype: object"
      ]
     },
     "execution_count": 83,
     "metadata": {},
     "output_type": "execute_result"
    }
   ],
   "source": [
    "socioeco.dtypes"
   ]
  },
  {
   "cell_type": "code",
   "execution_count": 84,
   "id": "87fcdac6",
   "metadata": {},
   "outputs": [
    {
     "data": {
      "text/plain": [
       "array(['Psychiatric In-patients (Number)', 'Psychiatric In-patients (%)'],\n",
       "      dtype=object)"
      ]
     },
     "execution_count": 84,
     "metadata": {},
     "output_type": "execute_result"
    }
   ],
   "source": [
    "socioeco[\"Statistic Label\"].unique()"
   ]
  },
  {
   "cell_type": "markdown",
   "id": "81d28a5e",
   "metadata": {},
   "source": [
    "The values in the value column are expressed as both a percentage and as a number. I will seperate the dataset to hold only the value and discard the percentage representation."
   ]
  },
  {
   "cell_type": "code",
   "execution_count": 85,
   "id": "8f180698",
   "metadata": {},
   "outputs": [],
   "source": [
    "df_socio = socioeco[~socioeco['UNIT'].str.contains('%')]"
   ]
  },
  {
   "cell_type": "code",
   "execution_count": 86,
   "id": "b811e278",
   "metadata": {},
   "outputs": [
    {
     "data": {
      "text/html": [
       "<div>\n",
       "<style scoped>\n",
       "    .dataframe tbody tr th:only-of-type {\n",
       "        vertical-align: middle;\n",
       "    }\n",
       "\n",
       "    .dataframe tbody tr th {\n",
       "        vertical-align: top;\n",
       "    }\n",
       "\n",
       "    .dataframe thead th {\n",
       "        text-align: right;\n",
       "    }\n",
       "</style>\n",
       "<table border=\"1\" class=\"dataframe\">\n",
       "  <thead>\n",
       "    <tr style=\"text-align: right;\">\n",
       "      <th></th>\n",
       "      <th>Statistic Label</th>\n",
       "      <th>Year</th>\n",
       "      <th>Type of Hospital</th>\n",
       "      <th>Socio Economic Group</th>\n",
       "      <th>UNIT</th>\n",
       "      <th>VALUE</th>\n",
       "    </tr>\n",
       "  </thead>\n",
       "  <tbody>\n",
       "    <tr>\n",
       "      <th>499</th>\n",
       "      <td>Psychiatric In-patients (Number)</td>\n",
       "      <td>2022</td>\n",
       "      <td>Private hospitals</td>\n",
       "      <td>Manual skilled</td>\n",
       "      <td>Number</td>\n",
       "      <td>11.0</td>\n",
       "    </tr>\n",
       "    <tr>\n",
       "      <th>500</th>\n",
       "      <td>Psychiatric In-patients (Number)</td>\n",
       "      <td>2022</td>\n",
       "      <td>Private hospitals</td>\n",
       "      <td>Semi-skilled</td>\n",
       "      <td>Number</td>\n",
       "      <td>12.0</td>\n",
       "    </tr>\n",
       "    <tr>\n",
       "      <th>501</th>\n",
       "      <td>Psychiatric In-patients (Number)</td>\n",
       "      <td>2022</td>\n",
       "      <td>Private hospitals</td>\n",
       "      <td>Unskilled</td>\n",
       "      <td>Number</td>\n",
       "      <td>8.0</td>\n",
       "    </tr>\n",
       "    <tr>\n",
       "      <th>502</th>\n",
       "      <td>Psychiatric In-patients (Number)</td>\n",
       "      <td>2022</td>\n",
       "      <td>Private hospitals</td>\n",
       "      <td>Unspecified</td>\n",
       "      <td>Number</td>\n",
       "      <td>271.0</td>\n",
       "    </tr>\n",
       "    <tr>\n",
       "      <th>503</th>\n",
       "      <td>Psychiatric In-patients (Number)</td>\n",
       "      <td>2022</td>\n",
       "      <td>Private hospitals</td>\n",
       "      <td>All socio-economic groups</td>\n",
       "      <td>Number</td>\n",
       "      <td>456.0</td>\n",
       "    </tr>\n",
       "  </tbody>\n",
       "</table>\n",
       "</div>"
      ],
      "text/plain": [
       "                      Statistic Label  Year   Type of Hospital   \n",
       "499  Psychiatric In-patients (Number)  2022  Private hospitals  \\\n",
       "500  Psychiatric In-patients (Number)  2022  Private hospitals   \n",
       "501  Psychiatric In-patients (Number)  2022  Private hospitals   \n",
       "502  Psychiatric In-patients (Number)  2022  Private hospitals   \n",
       "503  Psychiatric In-patients (Number)  2022  Private hospitals   \n",
       "\n",
       "          Socio Economic Group    UNIT  VALUE  \n",
       "499             Manual skilled  Number   11.0  \n",
       "500               Semi-skilled  Number   12.0  \n",
       "501                  Unskilled  Number    8.0  \n",
       "502                Unspecified  Number  271.0  \n",
       "503  All socio-economic groups  Number  456.0  "
      ]
     },
     "execution_count": 86,
     "metadata": {},
     "output_type": "execute_result"
    }
   ],
   "source": [
    "df_socio.tail()"
   ]
  },
  {
   "cell_type": "code",
   "execution_count": 87,
   "id": "dfcb476c",
   "metadata": {},
   "outputs": [
    {
     "data": {
      "text/plain": [
       "array(['Farmers', 'Agricultural workers', 'Higher professional',\n",
       "       'Lower professional', 'Employers & managers',\n",
       "       'Own account workers', 'Non-manual', 'Manual skilled',\n",
       "       'Semi-skilled', 'Unskilled', 'Unspecified',\n",
       "       'All socio-economic groups'], dtype=object)"
      ]
     },
     "execution_count": 87,
     "metadata": {},
     "output_type": "execute_result"
    }
   ],
   "source": [
    "df_socio[\"Socio Economic Group\"].unique()"
   ]
  },
  {
   "cell_type": "markdown",
   "id": "b6371640",
   "metadata": {},
   "source": [
    "I will drop \"All socio-economic groups\" rows from the dataset as I want to analyse the groups individually."
   ]
  },
  {
   "cell_type": "code",
   "execution_count": 114,
   "id": "64cd46b4",
   "metadata": {},
   "outputs": [],
   "source": [
    "df_socio = df_socio[~df_socio['Socio Economic Group'].str.contains('All socio-economic groups')]"
   ]
  },
  {
   "cell_type": "code",
   "execution_count": 115,
   "id": "f081f4d2",
   "metadata": {
    "scrolled": true
   },
   "outputs": [
    {
     "data": {
      "text/plain": [
       "array(['Farmers', 'Agricultural workers', 'Higher professional',\n",
       "       'Lower professional', 'Employers & managers',\n",
       "       'Own account workers', 'Non-manual', 'Manual skilled',\n",
       "       'Semi-skilled', 'Unskilled', 'Unspecified'], dtype=object)"
      ]
     },
     "execution_count": 115,
     "metadata": {},
     "output_type": "execute_result"
    }
   ],
   "source": [
    "df_socio[\"Socio Economic Group\"].unique()"
   ]
  },
  {
   "cell_type": "markdown",
   "id": "6ee90228",
   "metadata": {},
   "source": [
    "Seperating the data for public and private hospitals"
   ]
  },
  {
   "cell_type": "code",
   "execution_count": 116,
   "id": "9a32393f",
   "metadata": {},
   "outputs": [],
   "source": [
    "df_private = df_socio[df_socio['Type of Hospital'] == 'Private hospitals']"
   ]
  },
  {
   "cell_type": "code",
   "execution_count": 117,
   "id": "32fa57d5",
   "metadata": {},
   "outputs": [],
   "source": [
    "df_public = df_socio[~df_socio['Type of Hospital'].str.contains('Private hospitals')]"
   ]
  },
  {
   "cell_type": "code",
   "execution_count": 118,
   "id": "bd9bb5bc",
   "metadata": {},
   "outputs": [
    {
     "data": {
      "text/html": [
       "<div>\n",
       "<style scoped>\n",
       "    .dataframe tbody tr th:only-of-type {\n",
       "        vertical-align: middle;\n",
       "    }\n",
       "\n",
       "    .dataframe tbody tr th {\n",
       "        vertical-align: top;\n",
       "    }\n",
       "\n",
       "    .dataframe thead th {\n",
       "        text-align: right;\n",
       "    }\n",
       "</style>\n",
       "<table border=\"1\" class=\"dataframe\">\n",
       "  <thead>\n",
       "    <tr style=\"text-align: right;\">\n",
       "      <th></th>\n",
       "      <th>Statistic Label</th>\n",
       "      <th>Year</th>\n",
       "      <th>Type of Hospital</th>\n",
       "      <th>Socio Economic Group</th>\n",
       "      <th>UNIT</th>\n",
       "      <th>VALUE</th>\n",
       "    </tr>\n",
       "  </thead>\n",
       "  <tbody>\n",
       "    <tr>\n",
       "      <th>240</th>\n",
       "      <td>Psychiatric In-patients (Number)</td>\n",
       "      <td>2019</td>\n",
       "      <td>Private hospitals</td>\n",
       "      <td>Farmers</td>\n",
       "      <td>Number</td>\n",
       "      <td>10.0</td>\n",
       "    </tr>\n",
       "    <tr>\n",
       "      <th>241</th>\n",
       "      <td>Psychiatric In-patients (Number)</td>\n",
       "      <td>2019</td>\n",
       "      <td>Private hospitals</td>\n",
       "      <td>Agricultural workers</td>\n",
       "      <td>Number</td>\n",
       "      <td>1.0</td>\n",
       "    </tr>\n",
       "    <tr>\n",
       "      <th>242</th>\n",
       "      <td>Psychiatric In-patients (Number)</td>\n",
       "      <td>2019</td>\n",
       "      <td>Private hospitals</td>\n",
       "      <td>Higher professional</td>\n",
       "      <td>Number</td>\n",
       "      <td>45.0</td>\n",
       "    </tr>\n",
       "    <tr>\n",
       "      <th>243</th>\n",
       "      <td>Psychiatric In-patients (Number)</td>\n",
       "      <td>2019</td>\n",
       "      <td>Private hospitals</td>\n",
       "      <td>Lower professional</td>\n",
       "      <td>Number</td>\n",
       "      <td>103.0</td>\n",
       "    </tr>\n",
       "    <tr>\n",
       "      <th>244</th>\n",
       "      <td>Psychiatric In-patients (Number)</td>\n",
       "      <td>2019</td>\n",
       "      <td>Private hospitals</td>\n",
       "      <td>Employers &amp; managers</td>\n",
       "      <td>Number</td>\n",
       "      <td>46.0</td>\n",
       "    </tr>\n",
       "  </tbody>\n",
       "</table>\n",
       "</div>"
      ],
      "text/plain": [
       "                      Statistic Label  Year   Type of Hospital   \n",
       "240  Psychiatric In-patients (Number)  2019  Private hospitals  \\\n",
       "241  Psychiatric In-patients (Number)  2019  Private hospitals   \n",
       "242  Psychiatric In-patients (Number)  2019  Private hospitals   \n",
       "243  Psychiatric In-patients (Number)  2019  Private hospitals   \n",
       "244  Psychiatric In-patients (Number)  2019  Private hospitals   \n",
       "\n",
       "     Socio Economic Group    UNIT  VALUE  \n",
       "240               Farmers  Number   10.0  \n",
       "241  Agricultural workers  Number    1.0  \n",
       "242   Higher professional  Number   45.0  \n",
       "243    Lower professional  Number  103.0  \n",
       "244  Employers & managers  Number   46.0  "
      ]
     },
     "execution_count": 118,
     "metadata": {},
     "output_type": "execute_result"
    }
   ],
   "source": [
    "df_private.head()"
   ]
  },
  {
   "cell_type": "code",
   "execution_count": 119,
   "id": "7bded5a7",
   "metadata": {},
   "outputs": [
    {
     "data": {
      "text/html": [
       "<div>\n",
       "<style scoped>\n",
       "    .dataframe tbody tr th:only-of-type {\n",
       "        vertical-align: middle;\n",
       "    }\n",
       "\n",
       "    .dataframe tbody tr th {\n",
       "        vertical-align: top;\n",
       "    }\n",
       "\n",
       "    .dataframe thead th {\n",
       "        text-align: right;\n",
       "    }\n",
       "</style>\n",
       "<table border=\"1\" class=\"dataframe\">\n",
       "  <thead>\n",
       "    <tr style=\"text-align: right;\">\n",
       "      <th></th>\n",
       "      <th>Statistic Label</th>\n",
       "      <th>Year</th>\n",
       "      <th>Type of Hospital</th>\n",
       "      <th>Socio Economic Group</th>\n",
       "      <th>UNIT</th>\n",
       "      <th>VALUE</th>\n",
       "    </tr>\n",
       "  </thead>\n",
       "  <tbody>\n",
       "    <tr>\n",
       "      <th>168</th>\n",
       "      <td>Psychiatric In-patients (Number)</td>\n",
       "      <td>2019</td>\n",
       "      <td>Central Mental Hospital, Dublin</td>\n",
       "      <td>Farmers</td>\n",
       "      <td>Number</td>\n",
       "      <td>0.0</td>\n",
       "    </tr>\n",
       "    <tr>\n",
       "      <th>169</th>\n",
       "      <td>Psychiatric In-patients (Number)</td>\n",
       "      <td>2019</td>\n",
       "      <td>Central Mental Hospital, Dublin</td>\n",
       "      <td>Agricultural workers</td>\n",
       "      <td>Number</td>\n",
       "      <td>0.0</td>\n",
       "    </tr>\n",
       "    <tr>\n",
       "      <th>170</th>\n",
       "      <td>Psychiatric In-patients (Number)</td>\n",
       "      <td>2019</td>\n",
       "      <td>Central Mental Hospital, Dublin</td>\n",
       "      <td>Higher professional</td>\n",
       "      <td>Number</td>\n",
       "      <td>0.0</td>\n",
       "    </tr>\n",
       "    <tr>\n",
       "      <th>171</th>\n",
       "      <td>Psychiatric In-patients (Number)</td>\n",
       "      <td>2019</td>\n",
       "      <td>Central Mental Hospital, Dublin</td>\n",
       "      <td>Lower professional</td>\n",
       "      <td>Number</td>\n",
       "      <td>0.0</td>\n",
       "    </tr>\n",
       "    <tr>\n",
       "      <th>172</th>\n",
       "      <td>Psychiatric In-patients (Number)</td>\n",
       "      <td>2019</td>\n",
       "      <td>Central Mental Hospital, Dublin</td>\n",
       "      <td>Employers &amp; managers</td>\n",
       "      <td>Number</td>\n",
       "      <td>0.0</td>\n",
       "    </tr>\n",
       "  </tbody>\n",
       "</table>\n",
       "</div>"
      ],
      "text/plain": [
       "                      Statistic Label  Year                 Type of Hospital   \n",
       "168  Psychiatric In-patients (Number)  2019  Central Mental Hospital, Dublin  \\\n",
       "169  Psychiatric In-patients (Number)  2019  Central Mental Hospital, Dublin   \n",
       "170  Psychiatric In-patients (Number)  2019  Central Mental Hospital, Dublin   \n",
       "171  Psychiatric In-patients (Number)  2019  Central Mental Hospital, Dublin   \n",
       "172  Psychiatric In-patients (Number)  2019  Central Mental Hospital, Dublin   \n",
       "\n",
       "     Socio Economic Group    UNIT  VALUE  \n",
       "168               Farmers  Number    0.0  \n",
       "169  Agricultural workers  Number    0.0  \n",
       "170   Higher professional  Number    0.0  \n",
       "171    Lower professional  Number    0.0  \n",
       "172  Employers & managers  Number    0.0  "
      ]
     },
     "execution_count": 119,
     "metadata": {},
     "output_type": "execute_result"
    }
   ],
   "source": [
    "df_public.head()"
   ]
  },
  {
   "cell_type": "markdown",
   "id": "9f5a361e",
   "metadata": {},
   "source": [
    "Removing unwanted years to keep only 2019-2022"
   ]
  },
  {
   "cell_type": "code",
   "execution_count": 120,
   "id": "d746efb7",
   "metadata": {},
   "outputs": [],
   "source": [
    "years_to_remove = [2013, 2014, 2015, 2016, 2017, 2018]"
   ]
  },
  {
   "cell_type": "code",
   "execution_count": 121,
   "id": "afa09796",
   "metadata": {},
   "outputs": [],
   "source": [
    "df_private = df_private[~df_private['Year'].isin(years_to_remove)]\n",
    "df_public = df_public[~df_public['Year'].isin(years_to_remove)]\n",
    "df_socio = df_socio[~df_socio['Year'].isin(years_to_remove)]"
   ]
  },
  {
   "cell_type": "code",
   "execution_count": 122,
   "id": "72727dbd",
   "metadata": {},
   "outputs": [
    {
     "data": {
      "text/plain": [
       "array([2019, 2020, 2021, 2022], dtype=int64)"
      ]
     },
     "execution_count": 122,
     "metadata": {},
     "output_type": "execute_result"
    }
   ],
   "source": [
    "df_private['Year'].unique()"
   ]
  },
  {
   "cell_type": "code",
   "execution_count": 123,
   "id": "14426d61",
   "metadata": {},
   "outputs": [
    {
     "data": {
      "text/plain": [
       "array([2019, 2020, 2021, 2022], dtype=int64)"
      ]
     },
     "execution_count": 123,
     "metadata": {},
     "output_type": "execute_result"
    }
   ],
   "source": [
    "df_public['Year'].unique()"
   ]
  },
  {
   "cell_type": "code",
   "execution_count": 124,
   "id": "8a23f7bc",
   "metadata": {},
   "outputs": [
    {
     "name": "stdout",
     "output_type": "stream",
     "text": [
      "<class 'pandas.core.frame.DataFrame'>\n",
      "Index: 44 entries, 240 to 502\n",
      "Data columns (total 6 columns):\n",
      " #   Column                Non-Null Count  Dtype  \n",
      "---  ------                --------------  -----  \n",
      " 0   Statistic Label       44 non-null     object \n",
      " 1   Year                  44 non-null     int64  \n",
      " 2   Type of Hospital      44 non-null     object \n",
      " 3   Socio Economic Group  44 non-null     object \n",
      " 4   UNIT                  44 non-null     object \n",
      " 5   VALUE                 44 non-null     float64\n",
      "dtypes: float64(1), int64(1), object(4)\n",
      "memory usage: 2.4+ KB\n"
     ]
    }
   ],
   "source": [
    "df_private.info()"
   ]
  },
  {
   "cell_type": "code",
   "execution_count": 125,
   "id": "237928a2",
   "metadata": {
    "scrolled": false
   },
   "outputs": [
    {
     "name": "stdout",
     "output_type": "stream",
     "text": [
      "<class 'pandas.core.frame.DataFrame'>\n",
      "Index: 220 entries, 168 to 490\n",
      "Data columns (total 6 columns):\n",
      " #   Column                Non-Null Count  Dtype  \n",
      "---  ------                --------------  -----  \n",
      " 0   Statistic Label       220 non-null    object \n",
      " 1   Year                  220 non-null    int64  \n",
      " 2   Type of Hospital      220 non-null    object \n",
      " 3   Socio Economic Group  220 non-null    object \n",
      " 4   UNIT                  220 non-null    object \n",
      " 5   VALUE                 220 non-null    float64\n",
      "dtypes: float64(1), int64(1), object(4)\n",
      "memory usage: 12.0+ KB\n"
     ]
    }
   ],
   "source": [
    "df_public.info()"
   ]
  },
  {
   "cell_type": "code",
   "execution_count": 126,
   "id": "87a7f19b",
   "metadata": {
    "scrolled": true
   },
   "outputs": [
    {
     "data": {
      "text/plain": [
       "array(['Central Mental Hospital, Dublin',\n",
       "       \"St Joseph's Intellectual Disability Service\", 'Carraig Mór, Cork',\n",
       "       'General hospital psychiatric units',\n",
       "       'Psychiatric hospitals/continuing care units'], dtype=object)"
      ]
     },
     "execution_count": 126,
     "metadata": {},
     "output_type": "execute_result"
    }
   ],
   "source": [
    "df_public['Type of Hospital'].unique()"
   ]
  },
  {
   "cell_type": "code",
   "execution_count": 127,
   "id": "babb2501",
   "metadata": {},
   "outputs": [],
   "source": [
    "df_socio = df_socio[~df_socio['Type of Hospital'].str.contains('Total psychiatric hospitals')]"
   ]
  },
  {
   "cell_type": "code",
   "execution_count": 128,
   "id": "711df6f8",
   "metadata": {
    "scrolled": false
   },
   "outputs": [
    {
     "data": {
      "application/vnd.plotly.v1+json": {
       "config": {
        "plotlyServerURL": "https://plot.ly"
       },
       "data": [
        {
         "mode": "lines+markers",
         "name": "Agricultural workers",
         "type": "scatter",
         "x": [
          2019,
          2020,
          2021,
          2022
         ],
         "y": [
          17,
          10,
          4,
          5
         ]
        },
        {
         "mode": "lines+markers",
         "name": "Employers & managers",
         "type": "scatter",
         "x": [
          2019,
          2020,
          2021,
          2022
         ],
         "y": [
          63,
          28,
          29,
          37
         ]
        },
        {
         "mode": "lines+markers",
         "name": "Farmers",
         "type": "scatter",
         "x": [
          2019,
          2020,
          2021,
          2022
         ],
         "y": [
          56,
          44,
          29,
          34
         ]
        },
        {
         "mode": "lines+markers",
         "name": "Higher professional",
         "type": "scatter",
         "x": [
          2019,
          2020,
          2021,
          2022
         ],
         "y": [
          69,
          39,
          39,
          49
         ]
        },
        {
         "mode": "lines+markers",
         "name": "Lower professional",
         "type": "scatter",
         "x": [
          2019,
          2020,
          2021,
          2022
         ],
         "y": [
          178,
          97,
          104,
          96
         ]
        },
        {
         "mode": "lines+markers",
         "name": "Manual skilled",
         "type": "scatter",
         "x": [
          2019,
          2020,
          2021,
          2022
         ],
         "y": [
          105,
          60,
          41,
          47
         ]
        },
        {
         "mode": "lines+markers",
         "name": "Non-manual",
         "type": "scatter",
         "x": [
          2019,
          2020,
          2021,
          2022
         ],
         "y": [
          255,
          158,
          130,
          131
         ]
        },
        {
         "mode": "lines+markers",
         "name": "Own account workers",
         "type": "scatter",
         "x": [
          2019,
          2020,
          2021,
          2022
         ],
         "y": [
          18,
          6,
          6,
          6
         ]
        },
        {
         "mode": "lines+markers",
         "name": "Semi-skilled",
         "type": "scatter",
         "x": [
          2019,
          2020,
          2021,
          2022
         ],
         "y": [
          84,
          54,
          60,
          54
         ]
        },
        {
         "mode": "lines+markers",
         "name": "Unskilled",
         "type": "scatter",
         "x": [
          2019,
          2020,
          2021,
          2022
         ],
         "y": [
          120,
          83,
          66,
          58
         ]
        },
        {
         "mode": "lines+markers",
         "name": "Unspecified",
         "type": "scatter",
         "x": [
          2019,
          2020,
          2021,
          2022
         ],
         "y": [
          1343,
          1247,
          1363,
          1396
         ]
        }
       ],
       "layout": {
        "paper_bgcolor": "rgba(0, 0, 0, 0)",
        "plot_bgcolor": "rgba(0, 0, 0, 0)",
        "template": {
         "data": {
          "bar": [
           {
            "error_x": {
             "color": "#2a3f5f"
            },
            "error_y": {
             "color": "#2a3f5f"
            },
            "marker": {
             "line": {
              "color": "#E5ECF6",
              "width": 0.5
             },
             "pattern": {
              "fillmode": "overlay",
              "size": 10,
              "solidity": 0.2
             }
            },
            "type": "bar"
           }
          ],
          "barpolar": [
           {
            "marker": {
             "line": {
              "color": "#E5ECF6",
              "width": 0.5
             },
             "pattern": {
              "fillmode": "overlay",
              "size": 10,
              "solidity": 0.2
             }
            },
            "type": "barpolar"
           }
          ],
          "carpet": [
           {
            "aaxis": {
             "endlinecolor": "#2a3f5f",
             "gridcolor": "white",
             "linecolor": "white",
             "minorgridcolor": "white",
             "startlinecolor": "#2a3f5f"
            },
            "baxis": {
             "endlinecolor": "#2a3f5f",
             "gridcolor": "white",
             "linecolor": "white",
             "minorgridcolor": "white",
             "startlinecolor": "#2a3f5f"
            },
            "type": "carpet"
           }
          ],
          "choropleth": [
           {
            "colorbar": {
             "outlinewidth": 0,
             "ticks": ""
            },
            "type": "choropleth"
           }
          ],
          "contour": [
           {
            "colorbar": {
             "outlinewidth": 0,
             "ticks": ""
            },
            "colorscale": [
             [
              0,
              "#0d0887"
             ],
             [
              0.1111111111111111,
              "#46039f"
             ],
             [
              0.2222222222222222,
              "#7201a8"
             ],
             [
              0.3333333333333333,
              "#9c179e"
             ],
             [
              0.4444444444444444,
              "#bd3786"
             ],
             [
              0.5555555555555556,
              "#d8576b"
             ],
             [
              0.6666666666666666,
              "#ed7953"
             ],
             [
              0.7777777777777778,
              "#fb9f3a"
             ],
             [
              0.8888888888888888,
              "#fdca26"
             ],
             [
              1,
              "#f0f921"
             ]
            ],
            "type": "contour"
           }
          ],
          "contourcarpet": [
           {
            "colorbar": {
             "outlinewidth": 0,
             "ticks": ""
            },
            "type": "contourcarpet"
           }
          ],
          "heatmap": [
           {
            "colorbar": {
             "outlinewidth": 0,
             "ticks": ""
            },
            "colorscale": [
             [
              0,
              "#0d0887"
             ],
             [
              0.1111111111111111,
              "#46039f"
             ],
             [
              0.2222222222222222,
              "#7201a8"
             ],
             [
              0.3333333333333333,
              "#9c179e"
             ],
             [
              0.4444444444444444,
              "#bd3786"
             ],
             [
              0.5555555555555556,
              "#d8576b"
             ],
             [
              0.6666666666666666,
              "#ed7953"
             ],
             [
              0.7777777777777778,
              "#fb9f3a"
             ],
             [
              0.8888888888888888,
              "#fdca26"
             ],
             [
              1,
              "#f0f921"
             ]
            ],
            "type": "heatmap"
           }
          ],
          "heatmapgl": [
           {
            "colorbar": {
             "outlinewidth": 0,
             "ticks": ""
            },
            "colorscale": [
             [
              0,
              "#0d0887"
             ],
             [
              0.1111111111111111,
              "#46039f"
             ],
             [
              0.2222222222222222,
              "#7201a8"
             ],
             [
              0.3333333333333333,
              "#9c179e"
             ],
             [
              0.4444444444444444,
              "#bd3786"
             ],
             [
              0.5555555555555556,
              "#d8576b"
             ],
             [
              0.6666666666666666,
              "#ed7953"
             ],
             [
              0.7777777777777778,
              "#fb9f3a"
             ],
             [
              0.8888888888888888,
              "#fdca26"
             ],
             [
              1,
              "#f0f921"
             ]
            ],
            "type": "heatmapgl"
           }
          ],
          "histogram": [
           {
            "marker": {
             "pattern": {
              "fillmode": "overlay",
              "size": 10,
              "solidity": 0.2
             }
            },
            "type": "histogram"
           }
          ],
          "histogram2d": [
           {
            "colorbar": {
             "outlinewidth": 0,
             "ticks": ""
            },
            "colorscale": [
             [
              0,
              "#0d0887"
             ],
             [
              0.1111111111111111,
              "#46039f"
             ],
             [
              0.2222222222222222,
              "#7201a8"
             ],
             [
              0.3333333333333333,
              "#9c179e"
             ],
             [
              0.4444444444444444,
              "#bd3786"
             ],
             [
              0.5555555555555556,
              "#d8576b"
             ],
             [
              0.6666666666666666,
              "#ed7953"
             ],
             [
              0.7777777777777778,
              "#fb9f3a"
             ],
             [
              0.8888888888888888,
              "#fdca26"
             ],
             [
              1,
              "#f0f921"
             ]
            ],
            "type": "histogram2d"
           }
          ],
          "histogram2dcontour": [
           {
            "colorbar": {
             "outlinewidth": 0,
             "ticks": ""
            },
            "colorscale": [
             [
              0,
              "#0d0887"
             ],
             [
              0.1111111111111111,
              "#46039f"
             ],
             [
              0.2222222222222222,
              "#7201a8"
             ],
             [
              0.3333333333333333,
              "#9c179e"
             ],
             [
              0.4444444444444444,
              "#bd3786"
             ],
             [
              0.5555555555555556,
              "#d8576b"
             ],
             [
              0.6666666666666666,
              "#ed7953"
             ],
             [
              0.7777777777777778,
              "#fb9f3a"
             ],
             [
              0.8888888888888888,
              "#fdca26"
             ],
             [
              1,
              "#f0f921"
             ]
            ],
            "type": "histogram2dcontour"
           }
          ],
          "mesh3d": [
           {
            "colorbar": {
             "outlinewidth": 0,
             "ticks": ""
            },
            "type": "mesh3d"
           }
          ],
          "parcoords": [
           {
            "line": {
             "colorbar": {
              "outlinewidth": 0,
              "ticks": ""
             }
            },
            "type": "parcoords"
           }
          ],
          "pie": [
           {
            "automargin": true,
            "type": "pie"
           }
          ],
          "scatter": [
           {
            "fillpattern": {
             "fillmode": "overlay",
             "size": 10,
             "solidity": 0.2
            },
            "type": "scatter"
           }
          ],
          "scatter3d": [
           {
            "line": {
             "colorbar": {
              "outlinewidth": 0,
              "ticks": ""
             }
            },
            "marker": {
             "colorbar": {
              "outlinewidth": 0,
              "ticks": ""
             }
            },
            "type": "scatter3d"
           }
          ],
          "scattercarpet": [
           {
            "marker": {
             "colorbar": {
              "outlinewidth": 0,
              "ticks": ""
             }
            },
            "type": "scattercarpet"
           }
          ],
          "scattergeo": [
           {
            "marker": {
             "colorbar": {
              "outlinewidth": 0,
              "ticks": ""
             }
            },
            "type": "scattergeo"
           }
          ],
          "scattergl": [
           {
            "marker": {
             "colorbar": {
              "outlinewidth": 0,
              "ticks": ""
             }
            },
            "type": "scattergl"
           }
          ],
          "scattermapbox": [
           {
            "marker": {
             "colorbar": {
              "outlinewidth": 0,
              "ticks": ""
             }
            },
            "type": "scattermapbox"
           }
          ],
          "scatterpolar": [
           {
            "marker": {
             "colorbar": {
              "outlinewidth": 0,
              "ticks": ""
             }
            },
            "type": "scatterpolar"
           }
          ],
          "scatterpolargl": [
           {
            "marker": {
             "colorbar": {
              "outlinewidth": 0,
              "ticks": ""
             }
            },
            "type": "scatterpolargl"
           }
          ],
          "scatterternary": [
           {
            "marker": {
             "colorbar": {
              "outlinewidth": 0,
              "ticks": ""
             }
            },
            "type": "scatterternary"
           }
          ],
          "surface": [
           {
            "colorbar": {
             "outlinewidth": 0,
             "ticks": ""
            },
            "colorscale": [
             [
              0,
              "#0d0887"
             ],
             [
              0.1111111111111111,
              "#46039f"
             ],
             [
              0.2222222222222222,
              "#7201a8"
             ],
             [
              0.3333333333333333,
              "#9c179e"
             ],
             [
              0.4444444444444444,
              "#bd3786"
             ],
             [
              0.5555555555555556,
              "#d8576b"
             ],
             [
              0.6666666666666666,
              "#ed7953"
             ],
             [
              0.7777777777777778,
              "#fb9f3a"
             ],
             [
              0.8888888888888888,
              "#fdca26"
             ],
             [
              1,
              "#f0f921"
             ]
            ],
            "type": "surface"
           }
          ],
          "table": [
           {
            "cells": {
             "fill": {
              "color": "#EBF0F8"
             },
             "line": {
              "color": "white"
             }
            },
            "header": {
             "fill": {
              "color": "#C8D4E3"
             },
             "line": {
              "color": "white"
             }
            },
            "type": "table"
           }
          ]
         },
         "layout": {
          "annotationdefaults": {
           "arrowcolor": "#2a3f5f",
           "arrowhead": 0,
           "arrowwidth": 1
          },
          "autotypenumbers": "strict",
          "coloraxis": {
           "colorbar": {
            "outlinewidth": 0,
            "ticks": ""
           }
          },
          "colorscale": {
           "diverging": [
            [
             0,
             "#8e0152"
            ],
            [
             0.1,
             "#c51b7d"
            ],
            [
             0.2,
             "#de77ae"
            ],
            [
             0.3,
             "#f1b6da"
            ],
            [
             0.4,
             "#fde0ef"
            ],
            [
             0.5,
             "#f7f7f7"
            ],
            [
             0.6,
             "#e6f5d0"
            ],
            [
             0.7,
             "#b8e186"
            ],
            [
             0.8,
             "#7fbc41"
            ],
            [
             0.9,
             "#4d9221"
            ],
            [
             1,
             "#276419"
            ]
           ],
           "sequential": [
            [
             0,
             "#0d0887"
            ],
            [
             0.1111111111111111,
             "#46039f"
            ],
            [
             0.2222222222222222,
             "#7201a8"
            ],
            [
             0.3333333333333333,
             "#9c179e"
            ],
            [
             0.4444444444444444,
             "#bd3786"
            ],
            [
             0.5555555555555556,
             "#d8576b"
            ],
            [
             0.6666666666666666,
             "#ed7953"
            ],
            [
             0.7777777777777778,
             "#fb9f3a"
            ],
            [
             0.8888888888888888,
             "#fdca26"
            ],
            [
             1,
             "#f0f921"
            ]
           ],
           "sequentialminus": [
            [
             0,
             "#0d0887"
            ],
            [
             0.1111111111111111,
             "#46039f"
            ],
            [
             0.2222222222222222,
             "#7201a8"
            ],
            [
             0.3333333333333333,
             "#9c179e"
            ],
            [
             0.4444444444444444,
             "#bd3786"
            ],
            [
             0.5555555555555556,
             "#d8576b"
            ],
            [
             0.6666666666666666,
             "#ed7953"
            ],
            [
             0.7777777777777778,
             "#fb9f3a"
            ],
            [
             0.8888888888888888,
             "#fdca26"
            ],
            [
             1,
             "#f0f921"
            ]
           ]
          },
          "colorway": [
           "#636efa",
           "#EF553B",
           "#00cc96",
           "#ab63fa",
           "#FFA15A",
           "#19d3f3",
           "#FF6692",
           "#B6E880",
           "#FF97FF",
           "#FECB52"
          ],
          "font": {
           "color": "#2a3f5f"
          },
          "geo": {
           "bgcolor": "white",
           "lakecolor": "white",
           "landcolor": "#E5ECF6",
           "showlakes": true,
           "showland": true,
           "subunitcolor": "white"
          },
          "hoverlabel": {
           "align": "left"
          },
          "hovermode": "closest",
          "mapbox": {
           "style": "light"
          },
          "paper_bgcolor": "white",
          "plot_bgcolor": "#E5ECF6",
          "polar": {
           "angularaxis": {
            "gridcolor": "white",
            "linecolor": "white",
            "ticks": ""
           },
           "bgcolor": "#E5ECF6",
           "radialaxis": {
            "gridcolor": "white",
            "linecolor": "white",
            "ticks": ""
           }
          },
          "scene": {
           "xaxis": {
            "backgroundcolor": "#E5ECF6",
            "gridcolor": "white",
            "gridwidth": 2,
            "linecolor": "white",
            "showbackground": true,
            "ticks": "",
            "zerolinecolor": "white"
           },
           "yaxis": {
            "backgroundcolor": "#E5ECF6",
            "gridcolor": "white",
            "gridwidth": 2,
            "linecolor": "white",
            "showbackground": true,
            "ticks": "",
            "zerolinecolor": "white"
           },
           "zaxis": {
            "backgroundcolor": "#E5ECF6",
            "gridcolor": "white",
            "gridwidth": 2,
            "linecolor": "white",
            "showbackground": true,
            "ticks": "",
            "zerolinecolor": "white"
           }
          },
          "shapedefaults": {
           "line": {
            "color": "#2a3f5f"
           }
          },
          "ternary": {
           "aaxis": {
            "gridcolor": "white",
            "linecolor": "white",
            "ticks": ""
           },
           "baxis": {
            "gridcolor": "white",
            "linecolor": "white",
            "ticks": ""
           },
           "bgcolor": "#E5ECF6",
           "caxis": {
            "gridcolor": "white",
            "linecolor": "white",
            "ticks": ""
           }
          },
          "title": {
           "x": 0.05
          },
          "xaxis": {
           "automargin": true,
           "gridcolor": "white",
           "linecolor": "white",
           "ticks": "",
           "title": {
            "standoff": 15
           },
           "zerolinecolor": "white",
           "zerolinewidth": 2
          },
          "yaxis": {
           "automargin": true,
           "gridcolor": "white",
           "linecolor": "white",
           "ticks": "",
           "title": {
            "standoff": 15
           },
           "zerolinecolor": "white",
           "zerolinewidth": 2
          }
         }
        },
        "title": {
         "font": {
          "color": "black",
          "size": 24
         },
         "text": "Psychiatric Inpatients Total by Socio Economic Grouping <br><sup>Ireland 2019-2022</sup>"
        },
        "xaxis": {
         "linecolor": "black",
         "showgrid": false,
         "showticklabels": true,
         "tickfont": {
          "color": "black",
          "size": 14
         },
         "title": {
          "text": "Year"
         },
         "zeroline": false
        },
        "yaxis": {
         "linecolor": "black",
         "showgrid": false,
         "showticklabels": true,
         "tickfont": {
          "color": "black",
          "size": 14
         },
         "title": {
          "text": "Total"
         },
         "zeroline": false
        }
       }
      },
      "text/html": [
       "<div>                            <div id=\"e3122d33-a402-4fb5-a99f-ff0c092f39c9\" class=\"plotly-graph-div\" style=\"height:525px; width:100%;\"></div>            <script type=\"text/javascript\">                require([\"plotly\"], function(Plotly) {                    window.PLOTLYENV=window.PLOTLYENV || {};                                    if (document.getElementById(\"e3122d33-a402-4fb5-a99f-ff0c092f39c9\")) {                    Plotly.newPlot(                        \"e3122d33-a402-4fb5-a99f-ff0c092f39c9\",                        [{\"mode\":\"lines+markers\",\"name\":\"Agricultural workers\",\"x\":[2019,2020,2021,2022],\"y\":[17.0,10.0,4.0,5.0],\"type\":\"scatter\"},{\"mode\":\"lines+markers\",\"name\":\"Employers & managers\",\"x\":[2019,2020,2021,2022],\"y\":[63.0,28.0,29.0,37.0],\"type\":\"scatter\"},{\"mode\":\"lines+markers\",\"name\":\"Farmers\",\"x\":[2019,2020,2021,2022],\"y\":[56.0,44.0,29.0,34.0],\"type\":\"scatter\"},{\"mode\":\"lines+markers\",\"name\":\"Higher professional\",\"x\":[2019,2020,2021,2022],\"y\":[69.0,39.0,39.0,49.0],\"type\":\"scatter\"},{\"mode\":\"lines+markers\",\"name\":\"Lower professional\",\"x\":[2019,2020,2021,2022],\"y\":[178.0,97.0,104.0,96.0],\"type\":\"scatter\"},{\"mode\":\"lines+markers\",\"name\":\"Manual skilled\",\"x\":[2019,2020,2021,2022],\"y\":[105.0,60.0,41.0,47.0],\"type\":\"scatter\"},{\"mode\":\"lines+markers\",\"name\":\"Non-manual\",\"x\":[2019,2020,2021,2022],\"y\":[255.0,158.0,130.0,131.0],\"type\":\"scatter\"},{\"mode\":\"lines+markers\",\"name\":\"Own account workers\",\"x\":[2019,2020,2021,2022],\"y\":[18.0,6.0,6.0,6.0],\"type\":\"scatter\"},{\"mode\":\"lines+markers\",\"name\":\"Semi-skilled\",\"x\":[2019,2020,2021,2022],\"y\":[84.0,54.0,60.0,54.0],\"type\":\"scatter\"},{\"mode\":\"lines+markers\",\"name\":\"Unskilled\",\"x\":[2019,2020,2021,2022],\"y\":[120.0,83.0,66.0,58.0],\"type\":\"scatter\"},{\"mode\":\"lines+markers\",\"name\":\"Unspecified\",\"x\":[2019,2020,2021,2022],\"y\":[1343.0,1247.0,1363.0,1396.0],\"type\":\"scatter\"}],                        {\"template\":{\"data\":{\"histogram2dcontour\":[{\"type\":\"histogram2dcontour\",\"colorbar\":{\"outlinewidth\":0,\"ticks\":\"\"},\"colorscale\":[[0.0,\"#0d0887\"],[0.1111111111111111,\"#46039f\"],[0.2222222222222222,\"#7201a8\"],[0.3333333333333333,\"#9c179e\"],[0.4444444444444444,\"#bd3786\"],[0.5555555555555556,\"#d8576b\"],[0.6666666666666666,\"#ed7953\"],[0.7777777777777778,\"#fb9f3a\"],[0.8888888888888888,\"#fdca26\"],[1.0,\"#f0f921\"]]}],\"choropleth\":[{\"type\":\"choropleth\",\"colorbar\":{\"outlinewidth\":0,\"ticks\":\"\"}}],\"histogram2d\":[{\"type\":\"histogram2d\",\"colorbar\":{\"outlinewidth\":0,\"ticks\":\"\"},\"colorscale\":[[0.0,\"#0d0887\"],[0.1111111111111111,\"#46039f\"],[0.2222222222222222,\"#7201a8\"],[0.3333333333333333,\"#9c179e\"],[0.4444444444444444,\"#bd3786\"],[0.5555555555555556,\"#d8576b\"],[0.6666666666666666,\"#ed7953\"],[0.7777777777777778,\"#fb9f3a\"],[0.8888888888888888,\"#fdca26\"],[1.0,\"#f0f921\"]]}],\"heatmap\":[{\"type\":\"heatmap\",\"colorbar\":{\"outlinewidth\":0,\"ticks\":\"\"},\"colorscale\":[[0.0,\"#0d0887\"],[0.1111111111111111,\"#46039f\"],[0.2222222222222222,\"#7201a8\"],[0.3333333333333333,\"#9c179e\"],[0.4444444444444444,\"#bd3786\"],[0.5555555555555556,\"#d8576b\"],[0.6666666666666666,\"#ed7953\"],[0.7777777777777778,\"#fb9f3a\"],[0.8888888888888888,\"#fdca26\"],[1.0,\"#f0f921\"]]}],\"heatmapgl\":[{\"type\":\"heatmapgl\",\"colorbar\":{\"outlinewidth\":0,\"ticks\":\"\"},\"colorscale\":[[0.0,\"#0d0887\"],[0.1111111111111111,\"#46039f\"],[0.2222222222222222,\"#7201a8\"],[0.3333333333333333,\"#9c179e\"],[0.4444444444444444,\"#bd3786\"],[0.5555555555555556,\"#d8576b\"],[0.6666666666666666,\"#ed7953\"],[0.7777777777777778,\"#fb9f3a\"],[0.8888888888888888,\"#fdca26\"],[1.0,\"#f0f921\"]]}],\"contourcarpet\":[{\"type\":\"contourcarpet\",\"colorbar\":{\"outlinewidth\":0,\"ticks\":\"\"}}],\"contour\":[{\"type\":\"contour\",\"colorbar\":{\"outlinewidth\":0,\"ticks\":\"\"},\"colorscale\":[[0.0,\"#0d0887\"],[0.1111111111111111,\"#46039f\"],[0.2222222222222222,\"#7201a8\"],[0.3333333333333333,\"#9c179e\"],[0.4444444444444444,\"#bd3786\"],[0.5555555555555556,\"#d8576b\"],[0.6666666666666666,\"#ed7953\"],[0.7777777777777778,\"#fb9f3a\"],[0.8888888888888888,\"#fdca26\"],[1.0,\"#f0f921\"]]}],\"surface\":[{\"type\":\"surface\",\"colorbar\":{\"outlinewidth\":0,\"ticks\":\"\"},\"colorscale\":[[0.0,\"#0d0887\"],[0.1111111111111111,\"#46039f\"],[0.2222222222222222,\"#7201a8\"],[0.3333333333333333,\"#9c179e\"],[0.4444444444444444,\"#bd3786\"],[0.5555555555555556,\"#d8576b\"],[0.6666666666666666,\"#ed7953\"],[0.7777777777777778,\"#fb9f3a\"],[0.8888888888888888,\"#fdca26\"],[1.0,\"#f0f921\"]]}],\"mesh3d\":[{\"type\":\"mesh3d\",\"colorbar\":{\"outlinewidth\":0,\"ticks\":\"\"}}],\"scatter\":[{\"fillpattern\":{\"fillmode\":\"overlay\",\"size\":10,\"solidity\":0.2},\"type\":\"scatter\"}],\"parcoords\":[{\"type\":\"parcoords\",\"line\":{\"colorbar\":{\"outlinewidth\":0,\"ticks\":\"\"}}}],\"scatterpolargl\":[{\"type\":\"scatterpolargl\",\"marker\":{\"colorbar\":{\"outlinewidth\":0,\"ticks\":\"\"}}}],\"bar\":[{\"error_x\":{\"color\":\"#2a3f5f\"},\"error_y\":{\"color\":\"#2a3f5f\"},\"marker\":{\"line\":{\"color\":\"#E5ECF6\",\"width\":0.5},\"pattern\":{\"fillmode\":\"overlay\",\"size\":10,\"solidity\":0.2}},\"type\":\"bar\"}],\"scattergeo\":[{\"type\":\"scattergeo\",\"marker\":{\"colorbar\":{\"outlinewidth\":0,\"ticks\":\"\"}}}],\"scatterpolar\":[{\"type\":\"scatterpolar\",\"marker\":{\"colorbar\":{\"outlinewidth\":0,\"ticks\":\"\"}}}],\"histogram\":[{\"marker\":{\"pattern\":{\"fillmode\":\"overlay\",\"size\":10,\"solidity\":0.2}},\"type\":\"histogram\"}],\"scattergl\":[{\"type\":\"scattergl\",\"marker\":{\"colorbar\":{\"outlinewidth\":0,\"ticks\":\"\"}}}],\"scatter3d\":[{\"type\":\"scatter3d\",\"line\":{\"colorbar\":{\"outlinewidth\":0,\"ticks\":\"\"}},\"marker\":{\"colorbar\":{\"outlinewidth\":0,\"ticks\":\"\"}}}],\"scattermapbox\":[{\"type\":\"scattermapbox\",\"marker\":{\"colorbar\":{\"outlinewidth\":0,\"ticks\":\"\"}}}],\"scatterternary\":[{\"type\":\"scatterternary\",\"marker\":{\"colorbar\":{\"outlinewidth\":0,\"ticks\":\"\"}}}],\"scattercarpet\":[{\"type\":\"scattercarpet\",\"marker\":{\"colorbar\":{\"outlinewidth\":0,\"ticks\":\"\"}}}],\"carpet\":[{\"aaxis\":{\"endlinecolor\":\"#2a3f5f\",\"gridcolor\":\"white\",\"linecolor\":\"white\",\"minorgridcolor\":\"white\",\"startlinecolor\":\"#2a3f5f\"},\"baxis\":{\"endlinecolor\":\"#2a3f5f\",\"gridcolor\":\"white\",\"linecolor\":\"white\",\"minorgridcolor\":\"white\",\"startlinecolor\":\"#2a3f5f\"},\"type\":\"carpet\"}],\"table\":[{\"cells\":{\"fill\":{\"color\":\"#EBF0F8\"},\"line\":{\"color\":\"white\"}},\"header\":{\"fill\":{\"color\":\"#C8D4E3\"},\"line\":{\"color\":\"white\"}},\"type\":\"table\"}],\"barpolar\":[{\"marker\":{\"line\":{\"color\":\"#E5ECF6\",\"width\":0.5},\"pattern\":{\"fillmode\":\"overlay\",\"size\":10,\"solidity\":0.2}},\"type\":\"barpolar\"}],\"pie\":[{\"automargin\":true,\"type\":\"pie\"}]},\"layout\":{\"autotypenumbers\":\"strict\",\"colorway\":[\"#636efa\",\"#EF553B\",\"#00cc96\",\"#ab63fa\",\"#FFA15A\",\"#19d3f3\",\"#FF6692\",\"#B6E880\",\"#FF97FF\",\"#FECB52\"],\"font\":{\"color\":\"#2a3f5f\"},\"hovermode\":\"closest\",\"hoverlabel\":{\"align\":\"left\"},\"paper_bgcolor\":\"white\",\"plot_bgcolor\":\"#E5ECF6\",\"polar\":{\"bgcolor\":\"#E5ECF6\",\"angularaxis\":{\"gridcolor\":\"white\",\"linecolor\":\"white\",\"ticks\":\"\"},\"radialaxis\":{\"gridcolor\":\"white\",\"linecolor\":\"white\",\"ticks\":\"\"}},\"ternary\":{\"bgcolor\":\"#E5ECF6\",\"aaxis\":{\"gridcolor\":\"white\",\"linecolor\":\"white\",\"ticks\":\"\"},\"baxis\":{\"gridcolor\":\"white\",\"linecolor\":\"white\",\"ticks\":\"\"},\"caxis\":{\"gridcolor\":\"white\",\"linecolor\":\"white\",\"ticks\":\"\"}},\"coloraxis\":{\"colorbar\":{\"outlinewidth\":0,\"ticks\":\"\"}},\"colorscale\":{\"sequential\":[[0.0,\"#0d0887\"],[0.1111111111111111,\"#46039f\"],[0.2222222222222222,\"#7201a8\"],[0.3333333333333333,\"#9c179e\"],[0.4444444444444444,\"#bd3786\"],[0.5555555555555556,\"#d8576b\"],[0.6666666666666666,\"#ed7953\"],[0.7777777777777778,\"#fb9f3a\"],[0.8888888888888888,\"#fdca26\"],[1.0,\"#f0f921\"]],\"sequentialminus\":[[0.0,\"#0d0887\"],[0.1111111111111111,\"#46039f\"],[0.2222222222222222,\"#7201a8\"],[0.3333333333333333,\"#9c179e\"],[0.4444444444444444,\"#bd3786\"],[0.5555555555555556,\"#d8576b\"],[0.6666666666666666,\"#ed7953\"],[0.7777777777777778,\"#fb9f3a\"],[0.8888888888888888,\"#fdca26\"],[1.0,\"#f0f921\"]],\"diverging\":[[0,\"#8e0152\"],[0.1,\"#c51b7d\"],[0.2,\"#de77ae\"],[0.3,\"#f1b6da\"],[0.4,\"#fde0ef\"],[0.5,\"#f7f7f7\"],[0.6,\"#e6f5d0\"],[0.7,\"#b8e186\"],[0.8,\"#7fbc41\"],[0.9,\"#4d9221\"],[1,\"#276419\"]]},\"xaxis\":{\"gridcolor\":\"white\",\"linecolor\":\"white\",\"ticks\":\"\",\"title\":{\"standoff\":15},\"zerolinecolor\":\"white\",\"automargin\":true,\"zerolinewidth\":2},\"yaxis\":{\"gridcolor\":\"white\",\"linecolor\":\"white\",\"ticks\":\"\",\"title\":{\"standoff\":15},\"zerolinecolor\":\"white\",\"automargin\":true,\"zerolinewidth\":2},\"scene\":{\"xaxis\":{\"backgroundcolor\":\"#E5ECF6\",\"gridcolor\":\"white\",\"linecolor\":\"white\",\"showbackground\":true,\"ticks\":\"\",\"zerolinecolor\":\"white\",\"gridwidth\":2},\"yaxis\":{\"backgroundcolor\":\"#E5ECF6\",\"gridcolor\":\"white\",\"linecolor\":\"white\",\"showbackground\":true,\"ticks\":\"\",\"zerolinecolor\":\"white\",\"gridwidth\":2},\"zaxis\":{\"backgroundcolor\":\"#E5ECF6\",\"gridcolor\":\"white\",\"linecolor\":\"white\",\"showbackground\":true,\"ticks\":\"\",\"zerolinecolor\":\"white\",\"gridwidth\":2}},\"shapedefaults\":{\"line\":{\"color\":\"#2a3f5f\"}},\"annotationdefaults\":{\"arrowcolor\":\"#2a3f5f\",\"arrowhead\":0,\"arrowwidth\":1},\"geo\":{\"bgcolor\":\"white\",\"landcolor\":\"#E5ECF6\",\"subunitcolor\":\"white\",\"showland\":true,\"showlakes\":true,\"lakecolor\":\"white\"},\"title\":{\"x\":0.05},\"mapbox\":{\"style\":\"light\"}}},\"xaxis\":{\"title\":{\"text\":\"Year\"},\"tickfont\":{\"size\":14,\"color\":\"black\"},\"showgrid\":false,\"zeroline\":false,\"showticklabels\":true,\"linecolor\":\"black\"},\"yaxis\":{\"title\":{\"text\":\"Total\"},\"tickfont\":{\"size\":14,\"color\":\"black\"},\"showgrid\":false,\"zeroline\":false,\"showticklabels\":true,\"linecolor\":\"black\"},\"title\":{\"text\":\"Psychiatric Inpatients Total by Socio Economic Grouping \\u003cbr\\u003e\\u003csup\\u003eIreland 2019-2022\\u003c\\u002fsup\\u003e\",\"font\":{\"size\":24,\"color\":\"black\"}},\"plot_bgcolor\":\"rgba(0, 0, 0, 0)\",\"paper_bgcolor\":\"rgba(0, 0, 0, 0)\"},                        {\"responsive\": true}                    ).then(function(){\n",
       "                            \n",
       "var gd = document.getElementById('e3122d33-a402-4fb5-a99f-ff0c092f39c9');\n",
       "var x = new MutationObserver(function (mutations, observer) {{\n",
       "        var display = window.getComputedStyle(gd).display;\n",
       "        if (!display || display === 'none') {{\n",
       "            console.log([gd, 'removed!']);\n",
       "            Plotly.purge(gd);\n",
       "            observer.disconnect();\n",
       "        }}\n",
       "}});\n",
       "\n",
       "// Listen for the removal of the full notebook cells\n",
       "var notebookContainer = gd.closest('#notebook-container');\n",
       "if (notebookContainer) {{\n",
       "    x.observe(notebookContainer, {childList: true});\n",
       "}}\n",
       "\n",
       "// Listen for the clearing of the current output cell\n",
       "var outputEl = gd.closest('.output');\n",
       "if (outputEl) {{\n",
       "    x.observe(outputEl, {childList: true});\n",
       "}}\n",
       "\n",
       "                        })                };                });            </script>        </div>"
      ]
     },
     "metadata": {},
     "output_type": "display_data"
    }
   ],
   "source": [
    "import plotly.graph_objects as go\n",
    "\n",
    "\n",
    "fig = go.Figure()\n",
    "\n",
    "\n",
    "df_grouped = df_socio.groupby(['Year', 'Socio Economic Group']).sum().reset_index()\n",
    "\n",
    "\n",
    "categories = df_grouped['Socio Economic Group'].unique()\n",
    "\n",
    "\n",
    "for category in categories:\n",
    "    df_category = df_grouped[df_grouped['Socio Economic Group'] == category]\n",
    "    fig.add_trace(go.Scatter(x=df_category['Year'], y=df_category['VALUE'],\n",
    "                             mode='lines+markers', name=str(category)))\n",
    "\n",
    "\n",
    "fig.update_layout({\n",
    "    'plot_bgcolor': 'rgba(0, 0, 0, 0)',\n",
    "    'paper_bgcolor': 'rgba(0, 0, 0, 0)',\n",
    "}, \n",
    "xaxis=dict(showgrid=False, zeroline=False, showticklabels=True, linecolor='black', title_font=dict(size=18, color='black'), tickfont=dict(size=14, color='black'), title='Year'),\n",
    "yaxis=dict(showgrid=False, zeroline=False, showticklabels=True, linecolor='black', title_font=dict(size=18, color='black'), tickfont=dict(size=14, color='black'), title='Total'),\n",
    "title = \"Psychiatric Inpatients Total by Socio Economic Grouping <br><sup>Ireland 2019-2022</sup>\",\n",
    "title_font=dict(size=24, color='black'))\n",
    "\n",
    "fig.show()"
   ]
  },
  {
   "cell_type": "markdown",
   "id": "f956bbc9",
   "metadata": {},
   "source": [
    "With regard to the group most vulnerable socio-economic group to the decrease in inpatients in 2020 (assuming the cause was national based on shared experience in previous graph) the unspecified group account for the largest number of inpatients of socio-economic groups. However, there is no context to the grouping other than the status is unspecified and represents both unkown and those living alone or students with no family and unemployed/retired person with no family."
   ]
  },
  {
   "cell_type": "markdown",
   "id": "53ff43a7",
   "metadata": {},
   "source": [
    "<i>Socio‐economic group is determined by a person’s occupation or their former occupation where the \n",
    "patient is unemployed or retired.  If a patient is a student or engaged in house duties, the occupation \n",
    "of the head of household/spouse/guardian is used to determine socio‐economic group.  If such \n",
    "persons (students/or persons engaged in house duties) are not members of a family unit and/or are \n",
    "living alone (e.g. widowed grandparents etc) they are assigned to the unknown group. <i>"
   ]
  },
  {
   "cell_type": "code",
   "execution_count": 104,
   "id": "d1439b8e",
   "metadata": {},
   "outputs": [],
   "source": [
    "df_sum = df_socio.groupby(['Socio Economic Group', 'Type of Hospital', 'Year']).sum()"
   ]
  },
  {
   "cell_type": "markdown",
   "id": "f853a608",
   "metadata": {},
   "source": [
    "In this section I go slightly deeper into the total inpatients by socio-economic group and the type of hospital year over year by summing the totals of each group. The purpose of this summing is to discover deeper insights into the impacts of the 2020 decline in terms of the hospital type and socio-economic group. It is already understood that the unspecified group represent the greater category and so for the purpose of this section, will not be included due to its lack in context. "
   ]
  },
  {
   "cell_type": "code",
   "execution_count": 105,
   "id": "8e5ca0ce",
   "metadata": {
    "scrolled": false
   },
   "outputs": [
    {
     "data": {
      "text/html": [
       "<div>\n",
       "<style scoped>\n",
       "    .dataframe tbody tr th:only-of-type {\n",
       "        vertical-align: middle;\n",
       "    }\n",
       "\n",
       "    .dataframe tbody tr th {\n",
       "        vertical-align: top;\n",
       "    }\n",
       "\n",
       "    .dataframe thead th {\n",
       "        text-align: right;\n",
       "    }\n",
       "</style>\n",
       "<table border=\"1\" class=\"dataframe\">\n",
       "  <thead>\n",
       "    <tr style=\"text-align: right;\">\n",
       "      <th></th>\n",
       "      <th></th>\n",
       "      <th></th>\n",
       "      <th>Statistic Label</th>\n",
       "      <th>UNIT</th>\n",
       "      <th>VALUE</th>\n",
       "    </tr>\n",
       "    <tr>\n",
       "      <th>Socio Economic Group</th>\n",
       "      <th>Type of Hospital</th>\n",
       "      <th>Year</th>\n",
       "      <th></th>\n",
       "      <th></th>\n",
       "      <th></th>\n",
       "    </tr>\n",
       "  </thead>\n",
       "  <tbody>\n",
       "    <tr>\n",
       "      <th rowspan=\"12\" valign=\"top\">Semi-skilled</th>\n",
       "      <th rowspan=\"4\" valign=\"top\">Private hospitals</th>\n",
       "      <th>2019</th>\n",
       "      <td>Psychiatric In-patients (Number)</td>\n",
       "      <td>Number</td>\n",
       "      <td>15.0</td>\n",
       "    </tr>\n",
       "    <tr>\n",
       "      <th>2020</th>\n",
       "      <td>Psychiatric In-patients (Number)</td>\n",
       "      <td>Number</td>\n",
       "      <td>10.0</td>\n",
       "    </tr>\n",
       "    <tr>\n",
       "      <th>2021</th>\n",
       "      <td>Psychiatric In-patients (Number)</td>\n",
       "      <td>Number</td>\n",
       "      <td>14.0</td>\n",
       "    </tr>\n",
       "    <tr>\n",
       "      <th>2022</th>\n",
       "      <td>Psychiatric In-patients (Number)</td>\n",
       "      <td>Number</td>\n",
       "      <td>12.0</td>\n",
       "    </tr>\n",
       "    <tr>\n",
       "      <th rowspan=\"4\" valign=\"top\">Psychiatric hospitals/continuing care units</th>\n",
       "      <th>2019</th>\n",
       "      <td>Psychiatric In-patients (Number)</td>\n",
       "      <td>Number</td>\n",
       "      <td>28.0</td>\n",
       "    </tr>\n",
       "    <tr>\n",
       "      <th>2020</th>\n",
       "      <td>Psychiatric In-patients (Number)</td>\n",
       "      <td>Number</td>\n",
       "      <td>16.0</td>\n",
       "    </tr>\n",
       "    <tr>\n",
       "      <th>2021</th>\n",
       "      <td>Psychiatric In-patients (Number)</td>\n",
       "      <td>Number</td>\n",
       "      <td>15.0</td>\n",
       "    </tr>\n",
       "    <tr>\n",
       "      <th>2022</th>\n",
       "      <td>Psychiatric In-patients (Number)</td>\n",
       "      <td>Number</td>\n",
       "      <td>15.0</td>\n",
       "    </tr>\n",
       "    <tr>\n",
       "      <th rowspan=\"4\" valign=\"top\">St Joseph's Intellectual Disability Service</th>\n",
       "      <th>2019</th>\n",
       "      <td>Psychiatric In-patients (Number)</td>\n",
       "      <td>Number</td>\n",
       "      <td>0.0</td>\n",
       "    </tr>\n",
       "    <tr>\n",
       "      <th>2020</th>\n",
       "      <td>Psychiatric In-patients (Number)</td>\n",
       "      <td>Number</td>\n",
       "      <td>0.0</td>\n",
       "    </tr>\n",
       "    <tr>\n",
       "      <th>2021</th>\n",
       "      <td>Psychiatric In-patients (Number)</td>\n",
       "      <td>Number</td>\n",
       "      <td>0.0</td>\n",
       "    </tr>\n",
       "    <tr>\n",
       "      <th>2022</th>\n",
       "      <td>Psychiatric In-patients (Number)</td>\n",
       "      <td>Number</td>\n",
       "      <td>0.0</td>\n",
       "    </tr>\n",
       "    <tr>\n",
       "      <th rowspan=\"24\" valign=\"top\">Unskilled</th>\n",
       "      <th rowspan=\"4\" valign=\"top\">Carraig Mór, Cork</th>\n",
       "      <th>2019</th>\n",
       "      <td>Psychiatric In-patients (Number)</td>\n",
       "      <td>Number</td>\n",
       "      <td>1.0</td>\n",
       "    </tr>\n",
       "    <tr>\n",
       "      <th>2020</th>\n",
       "      <td>Psychiatric In-patients (Number)</td>\n",
       "      <td>Number</td>\n",
       "      <td>3.0</td>\n",
       "    </tr>\n",
       "    <tr>\n",
       "      <th>2021</th>\n",
       "      <td>Psychiatric In-patients (Number)</td>\n",
       "      <td>Number</td>\n",
       "      <td>0.0</td>\n",
       "    </tr>\n",
       "    <tr>\n",
       "      <th>2022</th>\n",
       "      <td>Psychiatric In-patients (Number)</td>\n",
       "      <td>Number</td>\n",
       "      <td>0.0</td>\n",
       "    </tr>\n",
       "    <tr>\n",
       "      <th rowspan=\"4\" valign=\"top\">Central Mental Hospital, Dublin</th>\n",
       "      <th>2019</th>\n",
       "      <td>Psychiatric In-patients (Number)</td>\n",
       "      <td>Number</td>\n",
       "      <td>0.0</td>\n",
       "    </tr>\n",
       "    <tr>\n",
       "      <th>2020</th>\n",
       "      <td>Psychiatric In-patients (Number)</td>\n",
       "      <td>Number</td>\n",
       "      <td>0.0</td>\n",
       "    </tr>\n",
       "    <tr>\n",
       "      <th>2021</th>\n",
       "      <td>Psychiatric In-patients (Number)</td>\n",
       "      <td>Number</td>\n",
       "      <td>0.0</td>\n",
       "    </tr>\n",
       "    <tr>\n",
       "      <th>2022</th>\n",
       "      <td>Psychiatric In-patients (Number)</td>\n",
       "      <td>Number</td>\n",
       "      <td>0.0</td>\n",
       "    </tr>\n",
       "    <tr>\n",
       "      <th rowspan=\"4\" valign=\"top\">General hospital psychiatric units</th>\n",
       "      <th>2019</th>\n",
       "      <td>Psychiatric In-patients (Number)</td>\n",
       "      <td>Number</td>\n",
       "      <td>48.0</td>\n",
       "    </tr>\n",
       "    <tr>\n",
       "      <th>2020</th>\n",
       "      <td>Psychiatric In-patients (Number)</td>\n",
       "      <td>Number</td>\n",
       "      <td>27.0</td>\n",
       "    </tr>\n",
       "    <tr>\n",
       "      <th>2021</th>\n",
       "      <td>Psychiatric In-patients (Number)</td>\n",
       "      <td>Number</td>\n",
       "      <td>33.0</td>\n",
       "    </tr>\n",
       "    <tr>\n",
       "      <th>2022</th>\n",
       "      <td>Psychiatric In-patients (Number)</td>\n",
       "      <td>Number</td>\n",
       "      <td>24.0</td>\n",
       "    </tr>\n",
       "    <tr>\n",
       "      <th rowspan=\"4\" valign=\"top\">Private hospitals</th>\n",
       "      <th>2019</th>\n",
       "      <td>Psychiatric In-patients (Number)</td>\n",
       "      <td>Number</td>\n",
       "      <td>9.0</td>\n",
       "    </tr>\n",
       "    <tr>\n",
       "      <th>2020</th>\n",
       "      <td>Psychiatric In-patients (Number)</td>\n",
       "      <td>Number</td>\n",
       "      <td>1.0</td>\n",
       "    </tr>\n",
       "    <tr>\n",
       "      <th>2021</th>\n",
       "      <td>Psychiatric In-patients (Number)</td>\n",
       "      <td>Number</td>\n",
       "      <td>2.0</td>\n",
       "    </tr>\n",
       "    <tr>\n",
       "      <th>2022</th>\n",
       "      <td>Psychiatric In-patients (Number)</td>\n",
       "      <td>Number</td>\n",
       "      <td>8.0</td>\n",
       "    </tr>\n",
       "    <tr>\n",
       "      <th rowspan=\"4\" valign=\"top\">Psychiatric hospitals/continuing care units</th>\n",
       "      <th>2019</th>\n",
       "      <td>Psychiatric In-patients (Number)</td>\n",
       "      <td>Number</td>\n",
       "      <td>61.0</td>\n",
       "    </tr>\n",
       "    <tr>\n",
       "      <th>2020</th>\n",
       "      <td>Psychiatric In-patients (Number)</td>\n",
       "      <td>Number</td>\n",
       "      <td>51.0</td>\n",
       "    </tr>\n",
       "    <tr>\n",
       "      <th>2021</th>\n",
       "      <td>Psychiatric In-patients (Number)</td>\n",
       "      <td>Number</td>\n",
       "      <td>31.0</td>\n",
       "    </tr>\n",
       "    <tr>\n",
       "      <th>2022</th>\n",
       "      <td>Psychiatric In-patients (Number)</td>\n",
       "      <td>Number</td>\n",
       "      <td>26.0</td>\n",
       "    </tr>\n",
       "    <tr>\n",
       "      <th rowspan=\"4\" valign=\"top\">St Joseph's Intellectual Disability Service</th>\n",
       "      <th>2019</th>\n",
       "      <td>Psychiatric In-patients (Number)</td>\n",
       "      <td>Number</td>\n",
       "      <td>1.0</td>\n",
       "    </tr>\n",
       "    <tr>\n",
       "      <th>2020</th>\n",
       "      <td>Psychiatric In-patients (Number)</td>\n",
       "      <td>Number</td>\n",
       "      <td>1.0</td>\n",
       "    </tr>\n",
       "    <tr>\n",
       "      <th>2021</th>\n",
       "      <td>Psychiatric In-patients (Number)</td>\n",
       "      <td>Number</td>\n",
       "      <td>0.0</td>\n",
       "    </tr>\n",
       "    <tr>\n",
       "      <th>2022</th>\n",
       "      <td>Psychiatric In-patients (Number)</td>\n",
       "      <td>Number</td>\n",
       "      <td>0.0</td>\n",
       "    </tr>\n",
       "    <tr>\n",
       "      <th rowspan=\"24\" valign=\"top\">Unspecified</th>\n",
       "      <th rowspan=\"4\" valign=\"top\">Carraig Mór, Cork</th>\n",
       "      <th>2019</th>\n",
       "      <td>Psychiatric In-patients (Number)</td>\n",
       "      <td>Number</td>\n",
       "      <td>2.0</td>\n",
       "    </tr>\n",
       "    <tr>\n",
       "      <th>2020</th>\n",
       "      <td>Psychiatric In-patients (Number)</td>\n",
       "      <td>Number</td>\n",
       "      <td>1.0</td>\n",
       "    </tr>\n",
       "    <tr>\n",
       "      <th>2021</th>\n",
       "      <td>Psychiatric In-patients (Number)</td>\n",
       "      <td>Number</td>\n",
       "      <td>6.0</td>\n",
       "    </tr>\n",
       "    <tr>\n",
       "      <th>2022</th>\n",
       "      <td>Psychiatric In-patients (Number)</td>\n",
       "      <td>Number</td>\n",
       "      <td>1.0</td>\n",
       "    </tr>\n",
       "    <tr>\n",
       "      <th rowspan=\"4\" valign=\"top\">Central Mental Hospital, Dublin</th>\n",
       "      <th>2019</th>\n",
       "      <td>Psychiatric In-patients (Number)</td>\n",
       "      <td>Number</td>\n",
       "      <td>103.0</td>\n",
       "    </tr>\n",
       "    <tr>\n",
       "      <th>2020</th>\n",
       "      <td>Psychiatric In-patients (Number)</td>\n",
       "      <td>Number</td>\n",
       "      <td>102.0</td>\n",
       "    </tr>\n",
       "    <tr>\n",
       "      <th>2021</th>\n",
       "      <td>Psychiatric In-patients (Number)</td>\n",
       "      <td>Number</td>\n",
       "      <td>98.0</td>\n",
       "    </tr>\n",
       "    <tr>\n",
       "      <th>2022</th>\n",
       "      <td>Psychiatric In-patients (Number)</td>\n",
       "      <td>Number</td>\n",
       "      <td>98.0</td>\n",
       "    </tr>\n",
       "    <tr>\n",
       "      <th rowspan=\"4\" valign=\"top\">General hospital psychiatric units</th>\n",
       "      <th>2019</th>\n",
       "      <td>Psychiatric In-patients (Number)</td>\n",
       "      <td>Number</td>\n",
       "      <td>512.0</td>\n",
       "    </tr>\n",
       "    <tr>\n",
       "      <th>2020</th>\n",
       "      <td>Psychiatric In-patients (Number)</td>\n",
       "      <td>Number</td>\n",
       "      <td>426.0</td>\n",
       "    </tr>\n",
       "    <tr>\n",
       "      <th>2021</th>\n",
       "      <td>Psychiatric In-patients (Number)</td>\n",
       "      <td>Number</td>\n",
       "      <td>530.0</td>\n",
       "    </tr>\n",
       "    <tr>\n",
       "      <th>2022</th>\n",
       "      <td>Psychiatric In-patients (Number)</td>\n",
       "      <td>Number</td>\n",
       "      <td>552.0</td>\n",
       "    </tr>\n",
       "    <tr>\n",
       "      <th rowspan=\"4\" valign=\"top\">Private hospitals</th>\n",
       "      <th>2019</th>\n",
       "      <td>Psychiatric In-patients (Number)</td>\n",
       "      <td>Number</td>\n",
       "      <td>249.0</td>\n",
       "    </tr>\n",
       "    <tr>\n",
       "      <th>2020</th>\n",
       "      <td>Psychiatric In-patients (Number)</td>\n",
       "      <td>Number</td>\n",
       "      <td>291.0</td>\n",
       "    </tr>\n",
       "    <tr>\n",
       "      <th>2021</th>\n",
       "      <td>Psychiatric In-patients (Number)</td>\n",
       "      <td>Number</td>\n",
       "      <td>258.0</td>\n",
       "    </tr>\n",
       "    <tr>\n",
       "      <th>2022</th>\n",
       "      <td>Psychiatric In-patients (Number)</td>\n",
       "      <td>Number</td>\n",
       "      <td>271.0</td>\n",
       "    </tr>\n",
       "    <tr>\n",
       "      <th rowspan=\"4\" valign=\"top\">Psychiatric hospitals/continuing care units</th>\n",
       "      <th>2019</th>\n",
       "      <td>Psychiatric In-patients (Number)</td>\n",
       "      <td>Number</td>\n",
       "      <td>410.0</td>\n",
       "    </tr>\n",
       "    <tr>\n",
       "      <th>2020</th>\n",
       "      <td>Psychiatric In-patients (Number)</td>\n",
       "      <td>Number</td>\n",
       "      <td>364.0</td>\n",
       "    </tr>\n",
       "    <tr>\n",
       "      <th>2021</th>\n",
       "      <td>Psychiatric In-patients (Number)</td>\n",
       "      <td>Number</td>\n",
       "      <td>407.0</td>\n",
       "    </tr>\n",
       "    <tr>\n",
       "      <th>2022</th>\n",
       "      <td>Psychiatric In-patients (Number)</td>\n",
       "      <td>Number</td>\n",
       "      <td>418.0</td>\n",
       "    </tr>\n",
       "    <tr>\n",
       "      <th rowspan=\"4\" valign=\"top\">St Joseph's Intellectual Disability Service</th>\n",
       "      <th>2019</th>\n",
       "      <td>Psychiatric In-patients (Number)</td>\n",
       "      <td>Number</td>\n",
       "      <td>67.0</td>\n",
       "    </tr>\n",
       "    <tr>\n",
       "      <th>2020</th>\n",
       "      <td>Psychiatric In-patients (Number)</td>\n",
       "      <td>Number</td>\n",
       "      <td>63.0</td>\n",
       "    </tr>\n",
       "    <tr>\n",
       "      <th>2021</th>\n",
       "      <td>Psychiatric In-patients (Number)</td>\n",
       "      <td>Number</td>\n",
       "      <td>64.0</td>\n",
       "    </tr>\n",
       "    <tr>\n",
       "      <th>2022</th>\n",
       "      <td>Psychiatric In-patients (Number)</td>\n",
       "      <td>Number</td>\n",
       "      <td>56.0</td>\n",
       "    </tr>\n",
       "  </tbody>\n",
       "</table>\n",
       "</div>"
      ],
      "text/plain": [
       "                                                                                        Statistic Label   \n",
       "Socio Economic Group Type of Hospital                            Year                                     \n",
       "Semi-skilled         Private hospitals                           2019  Psychiatric In-patients (Number)  \\\n",
       "                                                                 2020  Psychiatric In-patients (Number)   \n",
       "                                                                 2021  Psychiatric In-patients (Number)   \n",
       "                                                                 2022  Psychiatric In-patients (Number)   \n",
       "                     Psychiatric hospitals/continuing care units 2019  Psychiatric In-patients (Number)   \n",
       "                                                                 2020  Psychiatric In-patients (Number)   \n",
       "                                                                 2021  Psychiatric In-patients (Number)   \n",
       "                                                                 2022  Psychiatric In-patients (Number)   \n",
       "                     St Joseph's Intellectual Disability Service 2019  Psychiatric In-patients (Number)   \n",
       "                                                                 2020  Psychiatric In-patients (Number)   \n",
       "                                                                 2021  Psychiatric In-patients (Number)   \n",
       "                                                                 2022  Psychiatric In-patients (Number)   \n",
       "Unskilled            Carraig Mór, Cork                           2019  Psychiatric In-patients (Number)   \n",
       "                                                                 2020  Psychiatric In-patients (Number)   \n",
       "                                                                 2021  Psychiatric In-patients (Number)   \n",
       "                                                                 2022  Psychiatric In-patients (Number)   \n",
       "                     Central Mental Hospital, Dublin             2019  Psychiatric In-patients (Number)   \n",
       "                                                                 2020  Psychiatric In-patients (Number)   \n",
       "                                                                 2021  Psychiatric In-patients (Number)   \n",
       "                                                                 2022  Psychiatric In-patients (Number)   \n",
       "                     General hospital psychiatric units          2019  Psychiatric In-patients (Number)   \n",
       "                                                                 2020  Psychiatric In-patients (Number)   \n",
       "                                                                 2021  Psychiatric In-patients (Number)   \n",
       "                                                                 2022  Psychiatric In-patients (Number)   \n",
       "                     Private hospitals                           2019  Psychiatric In-patients (Number)   \n",
       "                                                                 2020  Psychiatric In-patients (Number)   \n",
       "                                                                 2021  Psychiatric In-patients (Number)   \n",
       "                                                                 2022  Psychiatric In-patients (Number)   \n",
       "                     Psychiatric hospitals/continuing care units 2019  Psychiatric In-patients (Number)   \n",
       "                                                                 2020  Psychiatric In-patients (Number)   \n",
       "                                                                 2021  Psychiatric In-patients (Number)   \n",
       "                                                                 2022  Psychiatric In-patients (Number)   \n",
       "                     St Joseph's Intellectual Disability Service 2019  Psychiatric In-patients (Number)   \n",
       "                                                                 2020  Psychiatric In-patients (Number)   \n",
       "                                                                 2021  Psychiatric In-patients (Number)   \n",
       "                                                                 2022  Psychiatric In-patients (Number)   \n",
       "Unspecified          Carraig Mór, Cork                           2019  Psychiatric In-patients (Number)   \n",
       "                                                                 2020  Psychiatric In-patients (Number)   \n",
       "                                                                 2021  Psychiatric In-patients (Number)   \n",
       "                                                                 2022  Psychiatric In-patients (Number)   \n",
       "                     Central Mental Hospital, Dublin             2019  Psychiatric In-patients (Number)   \n",
       "                                                                 2020  Psychiatric In-patients (Number)   \n",
       "                                                                 2021  Psychiatric In-patients (Number)   \n",
       "                                                                 2022  Psychiatric In-patients (Number)   \n",
       "                     General hospital psychiatric units          2019  Psychiatric In-patients (Number)   \n",
       "                                                                 2020  Psychiatric In-patients (Number)   \n",
       "                                                                 2021  Psychiatric In-patients (Number)   \n",
       "                                                                 2022  Psychiatric In-patients (Number)   \n",
       "                     Private hospitals                           2019  Psychiatric In-patients (Number)   \n",
       "                                                                 2020  Psychiatric In-patients (Number)   \n",
       "                                                                 2021  Psychiatric In-patients (Number)   \n",
       "                                                                 2022  Psychiatric In-patients (Number)   \n",
       "                     Psychiatric hospitals/continuing care units 2019  Psychiatric In-patients (Number)   \n",
       "                                                                 2020  Psychiatric In-patients (Number)   \n",
       "                                                                 2021  Psychiatric In-patients (Number)   \n",
       "                                                                 2022  Psychiatric In-patients (Number)   \n",
       "                     St Joseph's Intellectual Disability Service 2019  Psychiatric In-patients (Number)   \n",
       "                                                                 2020  Psychiatric In-patients (Number)   \n",
       "                                                                 2021  Psychiatric In-patients (Number)   \n",
       "                                                                 2022  Psychiatric In-patients (Number)   \n",
       "\n",
       "                                                                         UNIT   \n",
       "Socio Economic Group Type of Hospital                            Year           \n",
       "Semi-skilled         Private hospitals                           2019  Number  \\\n",
       "                                                                 2020  Number   \n",
       "                                                                 2021  Number   \n",
       "                                                                 2022  Number   \n",
       "                     Psychiatric hospitals/continuing care units 2019  Number   \n",
       "                                                                 2020  Number   \n",
       "                                                                 2021  Number   \n",
       "                                                                 2022  Number   \n",
       "                     St Joseph's Intellectual Disability Service 2019  Number   \n",
       "                                                                 2020  Number   \n",
       "                                                                 2021  Number   \n",
       "                                                                 2022  Number   \n",
       "Unskilled            Carraig Mór, Cork                           2019  Number   \n",
       "                                                                 2020  Number   \n",
       "                                                                 2021  Number   \n",
       "                                                                 2022  Number   \n",
       "                     Central Mental Hospital, Dublin             2019  Number   \n",
       "                                                                 2020  Number   \n",
       "                                                                 2021  Number   \n",
       "                                                                 2022  Number   \n",
       "                     General hospital psychiatric units          2019  Number   \n",
       "                                                                 2020  Number   \n",
       "                                                                 2021  Number   \n",
       "                                                                 2022  Number   \n",
       "                     Private hospitals                           2019  Number   \n",
       "                                                                 2020  Number   \n",
       "                                                                 2021  Number   \n",
       "                                                                 2022  Number   \n",
       "                     Psychiatric hospitals/continuing care units 2019  Number   \n",
       "                                                                 2020  Number   \n",
       "                                                                 2021  Number   \n",
       "                                                                 2022  Number   \n",
       "                     St Joseph's Intellectual Disability Service 2019  Number   \n",
       "                                                                 2020  Number   \n",
       "                                                                 2021  Number   \n",
       "                                                                 2022  Number   \n",
       "Unspecified          Carraig Mór, Cork                           2019  Number   \n",
       "                                                                 2020  Number   \n",
       "                                                                 2021  Number   \n",
       "                                                                 2022  Number   \n",
       "                     Central Mental Hospital, Dublin             2019  Number   \n",
       "                                                                 2020  Number   \n",
       "                                                                 2021  Number   \n",
       "                                                                 2022  Number   \n",
       "                     General hospital psychiatric units          2019  Number   \n",
       "                                                                 2020  Number   \n",
       "                                                                 2021  Number   \n",
       "                                                                 2022  Number   \n",
       "                     Private hospitals                           2019  Number   \n",
       "                                                                 2020  Number   \n",
       "                                                                 2021  Number   \n",
       "                                                                 2022  Number   \n",
       "                     Psychiatric hospitals/continuing care units 2019  Number   \n",
       "                                                                 2020  Number   \n",
       "                                                                 2021  Number   \n",
       "                                                                 2022  Number   \n",
       "                     St Joseph's Intellectual Disability Service 2019  Number   \n",
       "                                                                 2020  Number   \n",
       "                                                                 2021  Number   \n",
       "                                                                 2022  Number   \n",
       "\n",
       "                                                                       VALUE  \n",
       "Socio Economic Group Type of Hospital                            Year         \n",
       "Semi-skilled         Private hospitals                           2019   15.0  \n",
       "                                                                 2020   10.0  \n",
       "                                                                 2021   14.0  \n",
       "                                                                 2022   12.0  \n",
       "                     Psychiatric hospitals/continuing care units 2019   28.0  \n",
       "                                                                 2020   16.0  \n",
       "                                                                 2021   15.0  \n",
       "                                                                 2022   15.0  \n",
       "                     St Joseph's Intellectual Disability Service 2019    0.0  \n",
       "                                                                 2020    0.0  \n",
       "                                                                 2021    0.0  \n",
       "                                                                 2022    0.0  \n",
       "Unskilled            Carraig Mór, Cork                           2019    1.0  \n",
       "                                                                 2020    3.0  \n",
       "                                                                 2021    0.0  \n",
       "                                                                 2022    0.0  \n",
       "                     Central Mental Hospital, Dublin             2019    0.0  \n",
       "                                                                 2020    0.0  \n",
       "                                                                 2021    0.0  \n",
       "                                                                 2022    0.0  \n",
       "                     General hospital psychiatric units          2019   48.0  \n",
       "                                                                 2020   27.0  \n",
       "                                                                 2021   33.0  \n",
       "                                                                 2022   24.0  \n",
       "                     Private hospitals                           2019    9.0  \n",
       "                                                                 2020    1.0  \n",
       "                                                                 2021    2.0  \n",
       "                                                                 2022    8.0  \n",
       "                     Psychiatric hospitals/continuing care units 2019   61.0  \n",
       "                                                                 2020   51.0  \n",
       "                                                                 2021   31.0  \n",
       "                                                                 2022   26.0  \n",
       "                     St Joseph's Intellectual Disability Service 2019    1.0  \n",
       "                                                                 2020    1.0  \n",
       "                                                                 2021    0.0  \n",
       "                                                                 2022    0.0  \n",
       "Unspecified          Carraig Mór, Cork                           2019    2.0  \n",
       "                                                                 2020    1.0  \n",
       "                                                                 2021    6.0  \n",
       "                                                                 2022    1.0  \n",
       "                     Central Mental Hospital, Dublin             2019  103.0  \n",
       "                                                                 2020  102.0  \n",
       "                                                                 2021   98.0  \n",
       "                                                                 2022   98.0  \n",
       "                     General hospital psychiatric units          2019  512.0  \n",
       "                                                                 2020  426.0  \n",
       "                                                                 2021  530.0  \n",
       "                                                                 2022  552.0  \n",
       "                     Private hospitals                           2019  249.0  \n",
       "                                                                 2020  291.0  \n",
       "                                                                 2021  258.0  \n",
       "                                                                 2022  271.0  \n",
       "                     Psychiatric hospitals/continuing care units 2019  410.0  \n",
       "                                                                 2020  364.0  \n",
       "                                                                 2021  407.0  \n",
       "                                                                 2022  418.0  \n",
       "                     St Joseph's Intellectual Disability Service 2019   67.0  \n",
       "                                                                 2020   63.0  \n",
       "                                                                 2021   64.0  \n",
       "                                                                 2022   56.0  "
      ]
     },
     "execution_count": 105,
     "metadata": {},
     "output_type": "execute_result"
    }
   ],
   "source": [
    "df_sum.tail(60)"
   ]
  },
  {
   "cell_type": "code",
   "execution_count": 129,
   "id": "b11d754e",
   "metadata": {},
   "outputs": [],
   "source": [
    "df_reset = df_sum.reset_index(drop=False)"
   ]
  },
  {
   "cell_type": "code",
   "execution_count": 130,
   "id": "04e924b8",
   "metadata": {
    "scrolled": true
   },
   "outputs": [
    {
     "data": {
      "text/html": [
       "<div>\n",
       "<style scoped>\n",
       "    .dataframe tbody tr th:only-of-type {\n",
       "        vertical-align: middle;\n",
       "    }\n",
       "\n",
       "    .dataframe tbody tr th {\n",
       "        vertical-align: top;\n",
       "    }\n",
       "\n",
       "    .dataframe thead th {\n",
       "        text-align: right;\n",
       "    }\n",
       "</style>\n",
       "<table border=\"1\" class=\"dataframe\">\n",
       "  <thead>\n",
       "    <tr style=\"text-align: right;\">\n",
       "      <th></th>\n",
       "      <th>Socio Economic Group</th>\n",
       "      <th>Type of Hospital</th>\n",
       "      <th>Year</th>\n",
       "      <th>Statistic Label</th>\n",
       "      <th>UNIT</th>\n",
       "      <th>VALUE</th>\n",
       "    </tr>\n",
       "  </thead>\n",
       "  <tbody>\n",
       "    <tr>\n",
       "      <th>204</th>\n",
       "      <td>Semi-skilled</td>\n",
       "      <td>Private hospitals</td>\n",
       "      <td>2019</td>\n",
       "      <td>Psychiatric In-patients (Number)</td>\n",
       "      <td>Number</td>\n",
       "      <td>15.0</td>\n",
       "    </tr>\n",
       "    <tr>\n",
       "      <th>205</th>\n",
       "      <td>Semi-skilled</td>\n",
       "      <td>Private hospitals</td>\n",
       "      <td>2020</td>\n",
       "      <td>Psychiatric In-patients (Number)</td>\n",
       "      <td>Number</td>\n",
       "      <td>10.0</td>\n",
       "    </tr>\n",
       "    <tr>\n",
       "      <th>206</th>\n",
       "      <td>Semi-skilled</td>\n",
       "      <td>Private hospitals</td>\n",
       "      <td>2021</td>\n",
       "      <td>Psychiatric In-patients (Number)</td>\n",
       "      <td>Number</td>\n",
       "      <td>14.0</td>\n",
       "    </tr>\n",
       "    <tr>\n",
       "      <th>207</th>\n",
       "      <td>Semi-skilled</td>\n",
       "      <td>Private hospitals</td>\n",
       "      <td>2022</td>\n",
       "      <td>Psychiatric In-patients (Number)</td>\n",
       "      <td>Number</td>\n",
       "      <td>12.0</td>\n",
       "    </tr>\n",
       "    <tr>\n",
       "      <th>208</th>\n",
       "      <td>Semi-skilled</td>\n",
       "      <td>Psychiatric hospitals/continuing care units</td>\n",
       "      <td>2019</td>\n",
       "      <td>Psychiatric In-patients (Number)</td>\n",
       "      <td>Number</td>\n",
       "      <td>28.0</td>\n",
       "    </tr>\n",
       "    <tr>\n",
       "      <th>209</th>\n",
       "      <td>Semi-skilled</td>\n",
       "      <td>Psychiatric hospitals/continuing care units</td>\n",
       "      <td>2020</td>\n",
       "      <td>Psychiatric In-patients (Number)</td>\n",
       "      <td>Number</td>\n",
       "      <td>16.0</td>\n",
       "    </tr>\n",
       "    <tr>\n",
       "      <th>210</th>\n",
       "      <td>Semi-skilled</td>\n",
       "      <td>Psychiatric hospitals/continuing care units</td>\n",
       "      <td>2021</td>\n",
       "      <td>Psychiatric In-patients (Number)</td>\n",
       "      <td>Number</td>\n",
       "      <td>15.0</td>\n",
       "    </tr>\n",
       "    <tr>\n",
       "      <th>211</th>\n",
       "      <td>Semi-skilled</td>\n",
       "      <td>Psychiatric hospitals/continuing care units</td>\n",
       "      <td>2022</td>\n",
       "      <td>Psychiatric In-patients (Number)</td>\n",
       "      <td>Number</td>\n",
       "      <td>15.0</td>\n",
       "    </tr>\n",
       "    <tr>\n",
       "      <th>212</th>\n",
       "      <td>Semi-skilled</td>\n",
       "      <td>St Joseph's Intellectual Disability Service</td>\n",
       "      <td>2019</td>\n",
       "      <td>Psychiatric In-patients (Number)</td>\n",
       "      <td>Number</td>\n",
       "      <td>0.0</td>\n",
       "    </tr>\n",
       "    <tr>\n",
       "      <th>213</th>\n",
       "      <td>Semi-skilled</td>\n",
       "      <td>St Joseph's Intellectual Disability Service</td>\n",
       "      <td>2020</td>\n",
       "      <td>Psychiatric In-patients (Number)</td>\n",
       "      <td>Number</td>\n",
       "      <td>0.0</td>\n",
       "    </tr>\n",
       "    <tr>\n",
       "      <th>214</th>\n",
       "      <td>Semi-skilled</td>\n",
       "      <td>St Joseph's Intellectual Disability Service</td>\n",
       "      <td>2021</td>\n",
       "      <td>Psychiatric In-patients (Number)</td>\n",
       "      <td>Number</td>\n",
       "      <td>0.0</td>\n",
       "    </tr>\n",
       "    <tr>\n",
       "      <th>215</th>\n",
       "      <td>Semi-skilled</td>\n",
       "      <td>St Joseph's Intellectual Disability Service</td>\n",
       "      <td>2022</td>\n",
       "      <td>Psychiatric In-patients (Number)</td>\n",
       "      <td>Number</td>\n",
       "      <td>0.0</td>\n",
       "    </tr>\n",
       "    <tr>\n",
       "      <th>216</th>\n",
       "      <td>Unskilled</td>\n",
       "      <td>Carraig Mór, Cork</td>\n",
       "      <td>2019</td>\n",
       "      <td>Psychiatric In-patients (Number)</td>\n",
       "      <td>Number</td>\n",
       "      <td>1.0</td>\n",
       "    </tr>\n",
       "    <tr>\n",
       "      <th>217</th>\n",
       "      <td>Unskilled</td>\n",
       "      <td>Carraig Mór, Cork</td>\n",
       "      <td>2020</td>\n",
       "      <td>Psychiatric In-patients (Number)</td>\n",
       "      <td>Number</td>\n",
       "      <td>3.0</td>\n",
       "    </tr>\n",
       "    <tr>\n",
       "      <th>218</th>\n",
       "      <td>Unskilled</td>\n",
       "      <td>Carraig Mór, Cork</td>\n",
       "      <td>2021</td>\n",
       "      <td>Psychiatric In-patients (Number)</td>\n",
       "      <td>Number</td>\n",
       "      <td>0.0</td>\n",
       "    </tr>\n",
       "    <tr>\n",
       "      <th>219</th>\n",
       "      <td>Unskilled</td>\n",
       "      <td>Carraig Mór, Cork</td>\n",
       "      <td>2022</td>\n",
       "      <td>Psychiatric In-patients (Number)</td>\n",
       "      <td>Number</td>\n",
       "      <td>0.0</td>\n",
       "    </tr>\n",
       "    <tr>\n",
       "      <th>220</th>\n",
       "      <td>Unskilled</td>\n",
       "      <td>Central Mental Hospital, Dublin</td>\n",
       "      <td>2019</td>\n",
       "      <td>Psychiatric In-patients (Number)</td>\n",
       "      <td>Number</td>\n",
       "      <td>0.0</td>\n",
       "    </tr>\n",
       "    <tr>\n",
       "      <th>221</th>\n",
       "      <td>Unskilled</td>\n",
       "      <td>Central Mental Hospital, Dublin</td>\n",
       "      <td>2020</td>\n",
       "      <td>Psychiatric In-patients (Number)</td>\n",
       "      <td>Number</td>\n",
       "      <td>0.0</td>\n",
       "    </tr>\n",
       "    <tr>\n",
       "      <th>222</th>\n",
       "      <td>Unskilled</td>\n",
       "      <td>Central Mental Hospital, Dublin</td>\n",
       "      <td>2021</td>\n",
       "      <td>Psychiatric In-patients (Number)</td>\n",
       "      <td>Number</td>\n",
       "      <td>0.0</td>\n",
       "    </tr>\n",
       "    <tr>\n",
       "      <th>223</th>\n",
       "      <td>Unskilled</td>\n",
       "      <td>Central Mental Hospital, Dublin</td>\n",
       "      <td>2022</td>\n",
       "      <td>Psychiatric In-patients (Number)</td>\n",
       "      <td>Number</td>\n",
       "      <td>0.0</td>\n",
       "    </tr>\n",
       "    <tr>\n",
       "      <th>224</th>\n",
       "      <td>Unskilled</td>\n",
       "      <td>General hospital psychiatric units</td>\n",
       "      <td>2019</td>\n",
       "      <td>Psychiatric In-patients (Number)</td>\n",
       "      <td>Number</td>\n",
       "      <td>48.0</td>\n",
       "    </tr>\n",
       "    <tr>\n",
       "      <th>225</th>\n",
       "      <td>Unskilled</td>\n",
       "      <td>General hospital psychiatric units</td>\n",
       "      <td>2020</td>\n",
       "      <td>Psychiatric In-patients (Number)</td>\n",
       "      <td>Number</td>\n",
       "      <td>27.0</td>\n",
       "    </tr>\n",
       "    <tr>\n",
       "      <th>226</th>\n",
       "      <td>Unskilled</td>\n",
       "      <td>General hospital psychiatric units</td>\n",
       "      <td>2021</td>\n",
       "      <td>Psychiatric In-patients (Number)</td>\n",
       "      <td>Number</td>\n",
       "      <td>33.0</td>\n",
       "    </tr>\n",
       "    <tr>\n",
       "      <th>227</th>\n",
       "      <td>Unskilled</td>\n",
       "      <td>General hospital psychiatric units</td>\n",
       "      <td>2022</td>\n",
       "      <td>Psychiatric In-patients (Number)</td>\n",
       "      <td>Number</td>\n",
       "      <td>24.0</td>\n",
       "    </tr>\n",
       "    <tr>\n",
       "      <th>228</th>\n",
       "      <td>Unskilled</td>\n",
       "      <td>Private hospitals</td>\n",
       "      <td>2019</td>\n",
       "      <td>Psychiatric In-patients (Number)</td>\n",
       "      <td>Number</td>\n",
       "      <td>9.0</td>\n",
       "    </tr>\n",
       "    <tr>\n",
       "      <th>229</th>\n",
       "      <td>Unskilled</td>\n",
       "      <td>Private hospitals</td>\n",
       "      <td>2020</td>\n",
       "      <td>Psychiatric In-patients (Number)</td>\n",
       "      <td>Number</td>\n",
       "      <td>1.0</td>\n",
       "    </tr>\n",
       "    <tr>\n",
       "      <th>230</th>\n",
       "      <td>Unskilled</td>\n",
       "      <td>Private hospitals</td>\n",
       "      <td>2021</td>\n",
       "      <td>Psychiatric In-patients (Number)</td>\n",
       "      <td>Number</td>\n",
       "      <td>2.0</td>\n",
       "    </tr>\n",
       "    <tr>\n",
       "      <th>231</th>\n",
       "      <td>Unskilled</td>\n",
       "      <td>Private hospitals</td>\n",
       "      <td>2022</td>\n",
       "      <td>Psychiatric In-patients (Number)</td>\n",
       "      <td>Number</td>\n",
       "      <td>8.0</td>\n",
       "    </tr>\n",
       "    <tr>\n",
       "      <th>232</th>\n",
       "      <td>Unskilled</td>\n",
       "      <td>Psychiatric hospitals/continuing care units</td>\n",
       "      <td>2019</td>\n",
       "      <td>Psychiatric In-patients (Number)</td>\n",
       "      <td>Number</td>\n",
       "      <td>61.0</td>\n",
       "    </tr>\n",
       "    <tr>\n",
       "      <th>233</th>\n",
       "      <td>Unskilled</td>\n",
       "      <td>Psychiatric hospitals/continuing care units</td>\n",
       "      <td>2020</td>\n",
       "      <td>Psychiatric In-patients (Number)</td>\n",
       "      <td>Number</td>\n",
       "      <td>51.0</td>\n",
       "    </tr>\n",
       "    <tr>\n",
       "      <th>234</th>\n",
       "      <td>Unskilled</td>\n",
       "      <td>Psychiatric hospitals/continuing care units</td>\n",
       "      <td>2021</td>\n",
       "      <td>Psychiatric In-patients (Number)</td>\n",
       "      <td>Number</td>\n",
       "      <td>31.0</td>\n",
       "    </tr>\n",
       "    <tr>\n",
       "      <th>235</th>\n",
       "      <td>Unskilled</td>\n",
       "      <td>Psychiatric hospitals/continuing care units</td>\n",
       "      <td>2022</td>\n",
       "      <td>Psychiatric In-patients (Number)</td>\n",
       "      <td>Number</td>\n",
       "      <td>26.0</td>\n",
       "    </tr>\n",
       "    <tr>\n",
       "      <th>236</th>\n",
       "      <td>Unskilled</td>\n",
       "      <td>St Joseph's Intellectual Disability Service</td>\n",
       "      <td>2019</td>\n",
       "      <td>Psychiatric In-patients (Number)</td>\n",
       "      <td>Number</td>\n",
       "      <td>1.0</td>\n",
       "    </tr>\n",
       "    <tr>\n",
       "      <th>237</th>\n",
       "      <td>Unskilled</td>\n",
       "      <td>St Joseph's Intellectual Disability Service</td>\n",
       "      <td>2020</td>\n",
       "      <td>Psychiatric In-patients (Number)</td>\n",
       "      <td>Number</td>\n",
       "      <td>1.0</td>\n",
       "    </tr>\n",
       "    <tr>\n",
       "      <th>238</th>\n",
       "      <td>Unskilled</td>\n",
       "      <td>St Joseph's Intellectual Disability Service</td>\n",
       "      <td>2021</td>\n",
       "      <td>Psychiatric In-patients (Number)</td>\n",
       "      <td>Number</td>\n",
       "      <td>0.0</td>\n",
       "    </tr>\n",
       "    <tr>\n",
       "      <th>239</th>\n",
       "      <td>Unskilled</td>\n",
       "      <td>St Joseph's Intellectual Disability Service</td>\n",
       "      <td>2022</td>\n",
       "      <td>Psychiatric In-patients (Number)</td>\n",
       "      <td>Number</td>\n",
       "      <td>0.0</td>\n",
       "    </tr>\n",
       "    <tr>\n",
       "      <th>240</th>\n",
       "      <td>Unspecified</td>\n",
       "      <td>Carraig Mór, Cork</td>\n",
       "      <td>2019</td>\n",
       "      <td>Psychiatric In-patients (Number)</td>\n",
       "      <td>Number</td>\n",
       "      <td>2.0</td>\n",
       "    </tr>\n",
       "    <tr>\n",
       "      <th>241</th>\n",
       "      <td>Unspecified</td>\n",
       "      <td>Carraig Mór, Cork</td>\n",
       "      <td>2020</td>\n",
       "      <td>Psychiatric In-patients (Number)</td>\n",
       "      <td>Number</td>\n",
       "      <td>1.0</td>\n",
       "    </tr>\n",
       "    <tr>\n",
       "      <th>242</th>\n",
       "      <td>Unspecified</td>\n",
       "      <td>Carraig Mór, Cork</td>\n",
       "      <td>2021</td>\n",
       "      <td>Psychiatric In-patients (Number)</td>\n",
       "      <td>Number</td>\n",
       "      <td>6.0</td>\n",
       "    </tr>\n",
       "    <tr>\n",
       "      <th>243</th>\n",
       "      <td>Unspecified</td>\n",
       "      <td>Carraig Mór, Cork</td>\n",
       "      <td>2022</td>\n",
       "      <td>Psychiatric In-patients (Number)</td>\n",
       "      <td>Number</td>\n",
       "      <td>1.0</td>\n",
       "    </tr>\n",
       "    <tr>\n",
       "      <th>244</th>\n",
       "      <td>Unspecified</td>\n",
       "      <td>Central Mental Hospital, Dublin</td>\n",
       "      <td>2019</td>\n",
       "      <td>Psychiatric In-patients (Number)</td>\n",
       "      <td>Number</td>\n",
       "      <td>103.0</td>\n",
       "    </tr>\n",
       "    <tr>\n",
       "      <th>245</th>\n",
       "      <td>Unspecified</td>\n",
       "      <td>Central Mental Hospital, Dublin</td>\n",
       "      <td>2020</td>\n",
       "      <td>Psychiatric In-patients (Number)</td>\n",
       "      <td>Number</td>\n",
       "      <td>102.0</td>\n",
       "    </tr>\n",
       "    <tr>\n",
       "      <th>246</th>\n",
       "      <td>Unspecified</td>\n",
       "      <td>Central Mental Hospital, Dublin</td>\n",
       "      <td>2021</td>\n",
       "      <td>Psychiatric In-patients (Number)</td>\n",
       "      <td>Number</td>\n",
       "      <td>98.0</td>\n",
       "    </tr>\n",
       "    <tr>\n",
       "      <th>247</th>\n",
       "      <td>Unspecified</td>\n",
       "      <td>Central Mental Hospital, Dublin</td>\n",
       "      <td>2022</td>\n",
       "      <td>Psychiatric In-patients (Number)</td>\n",
       "      <td>Number</td>\n",
       "      <td>98.0</td>\n",
       "    </tr>\n",
       "    <tr>\n",
       "      <th>248</th>\n",
       "      <td>Unspecified</td>\n",
       "      <td>General hospital psychiatric units</td>\n",
       "      <td>2019</td>\n",
       "      <td>Psychiatric In-patients (Number)</td>\n",
       "      <td>Number</td>\n",
       "      <td>512.0</td>\n",
       "    </tr>\n",
       "    <tr>\n",
       "      <th>249</th>\n",
       "      <td>Unspecified</td>\n",
       "      <td>General hospital psychiatric units</td>\n",
       "      <td>2020</td>\n",
       "      <td>Psychiatric In-patients (Number)</td>\n",
       "      <td>Number</td>\n",
       "      <td>426.0</td>\n",
       "    </tr>\n",
       "    <tr>\n",
       "      <th>250</th>\n",
       "      <td>Unspecified</td>\n",
       "      <td>General hospital psychiatric units</td>\n",
       "      <td>2021</td>\n",
       "      <td>Psychiatric In-patients (Number)</td>\n",
       "      <td>Number</td>\n",
       "      <td>530.0</td>\n",
       "    </tr>\n",
       "    <tr>\n",
       "      <th>251</th>\n",
       "      <td>Unspecified</td>\n",
       "      <td>General hospital psychiatric units</td>\n",
       "      <td>2022</td>\n",
       "      <td>Psychiatric In-patients (Number)</td>\n",
       "      <td>Number</td>\n",
       "      <td>552.0</td>\n",
       "    </tr>\n",
       "    <tr>\n",
       "      <th>252</th>\n",
       "      <td>Unspecified</td>\n",
       "      <td>Private hospitals</td>\n",
       "      <td>2019</td>\n",
       "      <td>Psychiatric In-patients (Number)</td>\n",
       "      <td>Number</td>\n",
       "      <td>249.0</td>\n",
       "    </tr>\n",
       "    <tr>\n",
       "      <th>253</th>\n",
       "      <td>Unspecified</td>\n",
       "      <td>Private hospitals</td>\n",
       "      <td>2020</td>\n",
       "      <td>Psychiatric In-patients (Number)</td>\n",
       "      <td>Number</td>\n",
       "      <td>291.0</td>\n",
       "    </tr>\n",
       "    <tr>\n",
       "      <th>254</th>\n",
       "      <td>Unspecified</td>\n",
       "      <td>Private hospitals</td>\n",
       "      <td>2021</td>\n",
       "      <td>Psychiatric In-patients (Number)</td>\n",
       "      <td>Number</td>\n",
       "      <td>258.0</td>\n",
       "    </tr>\n",
       "    <tr>\n",
       "      <th>255</th>\n",
       "      <td>Unspecified</td>\n",
       "      <td>Private hospitals</td>\n",
       "      <td>2022</td>\n",
       "      <td>Psychiatric In-patients (Number)</td>\n",
       "      <td>Number</td>\n",
       "      <td>271.0</td>\n",
       "    </tr>\n",
       "    <tr>\n",
       "      <th>256</th>\n",
       "      <td>Unspecified</td>\n",
       "      <td>Psychiatric hospitals/continuing care units</td>\n",
       "      <td>2019</td>\n",
       "      <td>Psychiatric In-patients (Number)</td>\n",
       "      <td>Number</td>\n",
       "      <td>410.0</td>\n",
       "    </tr>\n",
       "    <tr>\n",
       "      <th>257</th>\n",
       "      <td>Unspecified</td>\n",
       "      <td>Psychiatric hospitals/continuing care units</td>\n",
       "      <td>2020</td>\n",
       "      <td>Psychiatric In-patients (Number)</td>\n",
       "      <td>Number</td>\n",
       "      <td>364.0</td>\n",
       "    </tr>\n",
       "    <tr>\n",
       "      <th>258</th>\n",
       "      <td>Unspecified</td>\n",
       "      <td>Psychiatric hospitals/continuing care units</td>\n",
       "      <td>2021</td>\n",
       "      <td>Psychiatric In-patients (Number)</td>\n",
       "      <td>Number</td>\n",
       "      <td>407.0</td>\n",
       "    </tr>\n",
       "    <tr>\n",
       "      <th>259</th>\n",
       "      <td>Unspecified</td>\n",
       "      <td>Psychiatric hospitals/continuing care units</td>\n",
       "      <td>2022</td>\n",
       "      <td>Psychiatric In-patients (Number)</td>\n",
       "      <td>Number</td>\n",
       "      <td>418.0</td>\n",
       "    </tr>\n",
       "    <tr>\n",
       "      <th>260</th>\n",
       "      <td>Unspecified</td>\n",
       "      <td>St Joseph's Intellectual Disability Service</td>\n",
       "      <td>2019</td>\n",
       "      <td>Psychiatric In-patients (Number)</td>\n",
       "      <td>Number</td>\n",
       "      <td>67.0</td>\n",
       "    </tr>\n",
       "    <tr>\n",
       "      <th>261</th>\n",
       "      <td>Unspecified</td>\n",
       "      <td>St Joseph's Intellectual Disability Service</td>\n",
       "      <td>2020</td>\n",
       "      <td>Psychiatric In-patients (Number)</td>\n",
       "      <td>Number</td>\n",
       "      <td>63.0</td>\n",
       "    </tr>\n",
       "    <tr>\n",
       "      <th>262</th>\n",
       "      <td>Unspecified</td>\n",
       "      <td>St Joseph's Intellectual Disability Service</td>\n",
       "      <td>2021</td>\n",
       "      <td>Psychiatric In-patients (Number)</td>\n",
       "      <td>Number</td>\n",
       "      <td>64.0</td>\n",
       "    </tr>\n",
       "    <tr>\n",
       "      <th>263</th>\n",
       "      <td>Unspecified</td>\n",
       "      <td>St Joseph's Intellectual Disability Service</td>\n",
       "      <td>2022</td>\n",
       "      <td>Psychiatric In-patients (Number)</td>\n",
       "      <td>Number</td>\n",
       "      <td>56.0</td>\n",
       "    </tr>\n",
       "  </tbody>\n",
       "</table>\n",
       "</div>"
      ],
      "text/plain": [
       "    Socio Economic Group                             Type of Hospital  Year   \n",
       "204         Semi-skilled                            Private hospitals  2019  \\\n",
       "205         Semi-skilled                            Private hospitals  2020   \n",
       "206         Semi-skilled                            Private hospitals  2021   \n",
       "207         Semi-skilled                            Private hospitals  2022   \n",
       "208         Semi-skilled  Psychiatric hospitals/continuing care units  2019   \n",
       "209         Semi-skilled  Psychiatric hospitals/continuing care units  2020   \n",
       "210         Semi-skilled  Psychiatric hospitals/continuing care units  2021   \n",
       "211         Semi-skilled  Psychiatric hospitals/continuing care units  2022   \n",
       "212         Semi-skilled  St Joseph's Intellectual Disability Service  2019   \n",
       "213         Semi-skilled  St Joseph's Intellectual Disability Service  2020   \n",
       "214         Semi-skilled  St Joseph's Intellectual Disability Service  2021   \n",
       "215         Semi-skilled  St Joseph's Intellectual Disability Service  2022   \n",
       "216            Unskilled                            Carraig Mór, Cork  2019   \n",
       "217            Unskilled                            Carraig Mór, Cork  2020   \n",
       "218            Unskilled                            Carraig Mór, Cork  2021   \n",
       "219            Unskilled                            Carraig Mór, Cork  2022   \n",
       "220            Unskilled              Central Mental Hospital, Dublin  2019   \n",
       "221            Unskilled              Central Mental Hospital, Dublin  2020   \n",
       "222            Unskilled              Central Mental Hospital, Dublin  2021   \n",
       "223            Unskilled              Central Mental Hospital, Dublin  2022   \n",
       "224            Unskilled           General hospital psychiatric units  2019   \n",
       "225            Unskilled           General hospital psychiatric units  2020   \n",
       "226            Unskilled           General hospital psychiatric units  2021   \n",
       "227            Unskilled           General hospital psychiatric units  2022   \n",
       "228            Unskilled                            Private hospitals  2019   \n",
       "229            Unskilled                            Private hospitals  2020   \n",
       "230            Unskilled                            Private hospitals  2021   \n",
       "231            Unskilled                            Private hospitals  2022   \n",
       "232            Unskilled  Psychiatric hospitals/continuing care units  2019   \n",
       "233            Unskilled  Psychiatric hospitals/continuing care units  2020   \n",
       "234            Unskilled  Psychiatric hospitals/continuing care units  2021   \n",
       "235            Unskilled  Psychiatric hospitals/continuing care units  2022   \n",
       "236            Unskilled  St Joseph's Intellectual Disability Service  2019   \n",
       "237            Unskilled  St Joseph's Intellectual Disability Service  2020   \n",
       "238            Unskilled  St Joseph's Intellectual Disability Service  2021   \n",
       "239            Unskilled  St Joseph's Intellectual Disability Service  2022   \n",
       "240          Unspecified                            Carraig Mór, Cork  2019   \n",
       "241          Unspecified                            Carraig Mór, Cork  2020   \n",
       "242          Unspecified                            Carraig Mór, Cork  2021   \n",
       "243          Unspecified                            Carraig Mór, Cork  2022   \n",
       "244          Unspecified              Central Mental Hospital, Dublin  2019   \n",
       "245          Unspecified              Central Mental Hospital, Dublin  2020   \n",
       "246          Unspecified              Central Mental Hospital, Dublin  2021   \n",
       "247          Unspecified              Central Mental Hospital, Dublin  2022   \n",
       "248          Unspecified           General hospital psychiatric units  2019   \n",
       "249          Unspecified           General hospital psychiatric units  2020   \n",
       "250          Unspecified           General hospital psychiatric units  2021   \n",
       "251          Unspecified           General hospital psychiatric units  2022   \n",
       "252          Unspecified                            Private hospitals  2019   \n",
       "253          Unspecified                            Private hospitals  2020   \n",
       "254          Unspecified                            Private hospitals  2021   \n",
       "255          Unspecified                            Private hospitals  2022   \n",
       "256          Unspecified  Psychiatric hospitals/continuing care units  2019   \n",
       "257          Unspecified  Psychiatric hospitals/continuing care units  2020   \n",
       "258          Unspecified  Psychiatric hospitals/continuing care units  2021   \n",
       "259          Unspecified  Psychiatric hospitals/continuing care units  2022   \n",
       "260          Unspecified  St Joseph's Intellectual Disability Service  2019   \n",
       "261          Unspecified  St Joseph's Intellectual Disability Service  2020   \n",
       "262          Unspecified  St Joseph's Intellectual Disability Service  2021   \n",
       "263          Unspecified  St Joseph's Intellectual Disability Service  2022   \n",
       "\n",
       "                      Statistic Label    UNIT  VALUE  \n",
       "204  Psychiatric In-patients (Number)  Number   15.0  \n",
       "205  Psychiatric In-patients (Number)  Number   10.0  \n",
       "206  Psychiatric In-patients (Number)  Number   14.0  \n",
       "207  Psychiatric In-patients (Number)  Number   12.0  \n",
       "208  Psychiatric In-patients (Number)  Number   28.0  \n",
       "209  Psychiatric In-patients (Number)  Number   16.0  \n",
       "210  Psychiatric In-patients (Number)  Number   15.0  \n",
       "211  Psychiatric In-patients (Number)  Number   15.0  \n",
       "212  Psychiatric In-patients (Number)  Number    0.0  \n",
       "213  Psychiatric In-patients (Number)  Number    0.0  \n",
       "214  Psychiatric In-patients (Number)  Number    0.0  \n",
       "215  Psychiatric In-patients (Number)  Number    0.0  \n",
       "216  Psychiatric In-patients (Number)  Number    1.0  \n",
       "217  Psychiatric In-patients (Number)  Number    3.0  \n",
       "218  Psychiatric In-patients (Number)  Number    0.0  \n",
       "219  Psychiatric In-patients (Number)  Number    0.0  \n",
       "220  Psychiatric In-patients (Number)  Number    0.0  \n",
       "221  Psychiatric In-patients (Number)  Number    0.0  \n",
       "222  Psychiatric In-patients (Number)  Number    0.0  \n",
       "223  Psychiatric In-patients (Number)  Number    0.0  \n",
       "224  Psychiatric In-patients (Number)  Number   48.0  \n",
       "225  Psychiatric In-patients (Number)  Number   27.0  \n",
       "226  Psychiatric In-patients (Number)  Number   33.0  \n",
       "227  Psychiatric In-patients (Number)  Number   24.0  \n",
       "228  Psychiatric In-patients (Number)  Number    9.0  \n",
       "229  Psychiatric In-patients (Number)  Number    1.0  \n",
       "230  Psychiatric In-patients (Number)  Number    2.0  \n",
       "231  Psychiatric In-patients (Number)  Number    8.0  \n",
       "232  Psychiatric In-patients (Number)  Number   61.0  \n",
       "233  Psychiatric In-patients (Number)  Number   51.0  \n",
       "234  Psychiatric In-patients (Number)  Number   31.0  \n",
       "235  Psychiatric In-patients (Number)  Number   26.0  \n",
       "236  Psychiatric In-patients (Number)  Number    1.0  \n",
       "237  Psychiatric In-patients (Number)  Number    1.0  \n",
       "238  Psychiatric In-patients (Number)  Number    0.0  \n",
       "239  Psychiatric In-patients (Number)  Number    0.0  \n",
       "240  Psychiatric In-patients (Number)  Number    2.0  \n",
       "241  Psychiatric In-patients (Number)  Number    1.0  \n",
       "242  Psychiatric In-patients (Number)  Number    6.0  \n",
       "243  Psychiatric In-patients (Number)  Number    1.0  \n",
       "244  Psychiatric In-patients (Number)  Number  103.0  \n",
       "245  Psychiatric In-patients (Number)  Number  102.0  \n",
       "246  Psychiatric In-patients (Number)  Number   98.0  \n",
       "247  Psychiatric In-patients (Number)  Number   98.0  \n",
       "248  Psychiatric In-patients (Number)  Number  512.0  \n",
       "249  Psychiatric In-patients (Number)  Number  426.0  \n",
       "250  Psychiatric In-patients (Number)  Number  530.0  \n",
       "251  Psychiatric In-patients (Number)  Number  552.0  \n",
       "252  Psychiatric In-patients (Number)  Number  249.0  \n",
       "253  Psychiatric In-patients (Number)  Number  291.0  \n",
       "254  Psychiatric In-patients (Number)  Number  258.0  \n",
       "255  Psychiatric In-patients (Number)  Number  271.0  \n",
       "256  Psychiatric In-patients (Number)  Number  410.0  \n",
       "257  Psychiatric In-patients (Number)  Number  364.0  \n",
       "258  Psychiatric In-patients (Number)  Number  407.0  \n",
       "259  Psychiatric In-patients (Number)  Number  418.0  \n",
       "260  Psychiatric In-patients (Number)  Number   67.0  \n",
       "261  Psychiatric In-patients (Number)  Number   63.0  \n",
       "262  Psychiatric In-patients (Number)  Number   64.0  \n",
       "263  Psychiatric In-patients (Number)  Number   56.0  "
      ]
     },
     "execution_count": 130,
     "metadata": {},
     "output_type": "execute_result"
    }
   ],
   "source": [
    "df_reset.tail(60)"
   ]
  },
  {
   "cell_type": "code",
   "execution_count": 131,
   "id": "dfd2121b",
   "metadata": {},
   "outputs": [],
   "source": [
    "df_reset = df_reset[~df_reset['Type of Hospital'].str.contains('Total psychiatric hospitals')]\n",
    "df_reset = df_reset[~df_reset['Socio Economic Group'].str.contains('Unspecified')]"
   ]
  },
  {
   "cell_type": "code",
   "execution_count": 132,
   "id": "f035412b",
   "metadata": {},
   "outputs": [],
   "source": [
    "df_reset['Year'] = pd.to_datetime(df_reset['Year'], format='%Y').dt.year"
   ]
  },
  {
   "cell_type": "code",
   "execution_count": 133,
   "id": "1b240d0f",
   "metadata": {
    "scrolled": false
   },
   "outputs": [
    {
     "name": "stdout",
     "output_type": "stream",
     "text": [
      "Dash is running on http://127.0.0.1:8050/\n",
      "\n"
     ]
    },
    {
     "data": {
      "text/html": [
       "\n",
       "        <iframe\n",
       "            width=\"100%\"\n",
       "            height=\"650\"\n",
       "            src=\"http://127.0.0.1:8050/\"\n",
       "            frameborder=\"0\"\n",
       "            allowfullscreen\n",
       "            \n",
       "        ></iframe>\n",
       "        "
      ],
      "text/plain": [
       "<IPython.lib.display.IFrame at 0x2aeee1a1a30>"
      ]
     },
     "metadata": {},
     "output_type": "display_data"
    }
   ],
   "source": [
    "from jupyter_dash import JupyterDash\n",
    "import dash_core_components as dcc\n",
    "import dash_html_components as html\n",
    "from dash.dependencies import Input, Output\n",
    "from dash import html\n",
    "from dash import dcc\n",
    "\n",
    "\n",
    "app = JupyterDash(__name__)\n",
    "\n",
    "\n",
    "app.layout = html.Div([\n",
    "    dcc.Dropdown(\n",
    "        id='year-dropdown',\n",
    "        options=[{'label': i, 'value': i} for i in df_reset['Year'].unique()],\n",
    "        value=df_reset['Year'].min()\n",
    "    ),\n",
    "    dcc.Dropdown(\n",
    "        id='hospital-dropdown',\n",
    "        options=[{'label': i, 'value': i} for i in df_reset['Type of Hospital'].unique()],\n",
    "        value=df_reset['Type of Hospital'].unique()[0]\n",
    "    ),\n",
    "    dcc.Graph(id='bar-chart')\n",
    "])\n",
    "\n",
    "\n",
    "@app.callback(\n",
    "    Output('bar-chart', 'figure'),\n",
    "    [Input('year-dropdown', 'value'),\n",
    "     Input('hospital-dropdown', 'value')]\n",
    ")\n",
    "def update_bar_chart(selected_year, selected_hospital):\n",
    "   \n",
    "    filtered_df = df_reset[df_reset['Type of Hospital'] == selected_hospital].copy()\n",
    "    \n",
    "\n",
    "    \n",
    "    filtered_df['Value_pct_change'] = filtered_df.groupby('Socio Economic Group')['VALUE'].pct_change()\n",
    "\n",
    "   \n",
    "    filtered_df['Value_pct_change'] = filtered_df['Value_pct_change'].replace([np.inf, -np.inf], np.nan)\n",
    "    \n",
    "\n",
    "    fig = px.bar(filtered_df, x='Socio Economic Group', y='Value_pct_change', color='Year', barmode='group',\n",
    "                 title=f'Year-over-Year Percentage Change for {selected_hospital}')\n",
    "\n",
    "    return fig\n",
    "\n",
    "\n",
    "\n",
    "app.run_server(mode='inline')"
   ]
  },
  {
   "cell_type": "markdown",
   "id": "88888611",
   "metadata": {},
   "source": [
    "The above illustration is still under construction to discover insights about the economic status, hospital and year. I will use the insights to develop an association rules algorithim as manual information extraction is labor intensive."
   ]
  },
  {
   "cell_type": "markdown",
   "id": "7eafa7dd",
   "metadata": {},
   "source": [
    "<h1> Data Preparation <h1>"
   ]
  },
  {
   "cell_type": "markdown",
   "id": "7e3e64f8",
   "metadata": {},
   "source": [
    "<h1> Modeling <h1>"
   ]
  },
  {
   "cell_type": "markdown",
   "id": "e9362b38",
   "metadata": {},
   "source": [
    "<h1> Evaluation <h1>"
   ]
  }
 ],
 "metadata": {
  "kernelspec": {
   "display_name": "Python 3 (ipykernel)",
   "language": "python",
   "name": "python3"
  },
  "language_info": {
   "codemirror_mode": {
    "name": "ipython",
    "version": 3
   },
   "file_extension": ".py",
   "mimetype": "text/x-python",
   "name": "python",
   "nbconvert_exporter": "python",
   "pygments_lexer": "ipython3",
   "version": "3.9.12"
  }
 },
 "nbformat": 4,
 "nbformat_minor": 5
}
